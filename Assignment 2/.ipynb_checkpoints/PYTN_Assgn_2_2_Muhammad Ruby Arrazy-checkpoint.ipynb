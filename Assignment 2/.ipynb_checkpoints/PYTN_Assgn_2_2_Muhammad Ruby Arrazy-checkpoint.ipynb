{
 "cells": [
  {
   "cell_type": "markdown",
   "id": "a25fc792",
   "metadata": {},
   "source": [
    "# Assignment 2 Aplikasi Statistika\n",
    "### Assignment 2 Menggunakan dataset NYC Property Sales yang didapat dari kaggle (https://www.kaggle.com/new-york-city/nyc-property-sales). Visualisasi dilakukan dengan menggunakan seaborn dan matplotlib. Perhitungan statistika menggunakan library statistics"
   ]
  },
  {
   "cell_type": "markdown",
   "id": "5a96add8",
   "metadata": {},
   "source": [
    "# Import Library"
   ]
  },
  {
   "cell_type": "code",
   "execution_count": 1,
   "id": "f3b108c3",
   "metadata": {},
   "outputs": [],
   "source": [
    "import pandas as pd\n",
    "import numpy as np\n",
    "import statistics\n",
    "import matplotlib.pyplot as plt\n",
    "%matplotlib inline\n",
    "import seaborn as sns"
   ]
  },
  {
   "cell_type": "markdown",
   "id": "993536b0",
   "metadata": {},
   "source": [
    "# Import Dataset"
   ]
  },
  {
   "cell_type": "code",
   "execution_count": 2,
   "id": "12dd7eb1",
   "metadata": {},
   "outputs": [],
   "source": [
    "missing_values = ['n/a','na', \"--\", \"?\", \"NA\", 'n-a', 'NaN',' ','-']\n",
    "df = pd.read_csv('nyc-rolling-sales.csv', na_values=missing_values)"
   ]
  },
  {
   "cell_type": "markdown",
   "id": "afc84126",
   "metadata": {},
   "source": [
    "# Preprocessing"
   ]
  },
  {
   "cell_type": "code",
   "execution_count": 3,
   "id": "f151ba34",
   "metadata": {},
   "outputs": [
    {
     "data": {
      "text/html": [
       "<div>\n",
       "<style scoped>\n",
       "    .dataframe tbody tr th:only-of-type {\n",
       "        vertical-align: middle;\n",
       "    }\n",
       "\n",
       "    .dataframe tbody tr th {\n",
       "        vertical-align: top;\n",
       "    }\n",
       "\n",
       "    .dataframe thead th {\n",
       "        text-align: right;\n",
       "    }\n",
       "</style>\n",
       "<table border=\"1\" class=\"dataframe\">\n",
       "  <thead>\n",
       "    <tr style=\"text-align: right;\">\n",
       "      <th></th>\n",
       "      <th>Unnamed: 0</th>\n",
       "      <th>BOROUGH</th>\n",
       "      <th>NEIGHBORHOOD</th>\n",
       "      <th>BUILDING CLASS CATEGORY</th>\n",
       "      <th>TAX CLASS AT PRESENT</th>\n",
       "      <th>BLOCK</th>\n",
       "      <th>LOT</th>\n",
       "      <th>EASE-MENT</th>\n",
       "      <th>BUILDING CLASS AT PRESENT</th>\n",
       "      <th>ADDRESS</th>\n",
       "      <th>...</th>\n",
       "      <th>RESIDENTIAL UNITS</th>\n",
       "      <th>COMMERCIAL UNITS</th>\n",
       "      <th>TOTAL UNITS</th>\n",
       "      <th>LAND SQUARE FEET</th>\n",
       "      <th>GROSS SQUARE FEET</th>\n",
       "      <th>YEAR BUILT</th>\n",
       "      <th>TAX CLASS AT TIME OF SALE</th>\n",
       "      <th>BUILDING CLASS AT TIME OF SALE</th>\n",
       "      <th>SALE PRICE</th>\n",
       "      <th>SALE DATE</th>\n",
       "    </tr>\n",
       "  </thead>\n",
       "  <tbody>\n",
       "    <tr>\n",
       "      <th>0</th>\n",
       "      <td>4</td>\n",
       "      <td>1</td>\n",
       "      <td>ALPHABET CITY</td>\n",
       "      <td>07 RENTALS - WALKUP APARTMENTS</td>\n",
       "      <td>2A</td>\n",
       "      <td>392</td>\n",
       "      <td>6</td>\n",
       "      <td>NaN</td>\n",
       "      <td>C2</td>\n",
       "      <td>153 AVENUE B</td>\n",
       "      <td>...</td>\n",
       "      <td>5</td>\n",
       "      <td>0</td>\n",
       "      <td>5</td>\n",
       "      <td>1633</td>\n",
       "      <td>6440</td>\n",
       "      <td>1900</td>\n",
       "      <td>2</td>\n",
       "      <td>C2</td>\n",
       "      <td>6625000</td>\n",
       "      <td>2017-07-19 00:00:00</td>\n",
       "    </tr>\n",
       "    <tr>\n",
       "      <th>1</th>\n",
       "      <td>5</td>\n",
       "      <td>1</td>\n",
       "      <td>ALPHABET CITY</td>\n",
       "      <td>07 RENTALS - WALKUP APARTMENTS</td>\n",
       "      <td>2</td>\n",
       "      <td>399</td>\n",
       "      <td>26</td>\n",
       "      <td>NaN</td>\n",
       "      <td>C7</td>\n",
       "      <td>234 EAST 4TH   STREET</td>\n",
       "      <td>...</td>\n",
       "      <td>28</td>\n",
       "      <td>3</td>\n",
       "      <td>31</td>\n",
       "      <td>4616</td>\n",
       "      <td>18690</td>\n",
       "      <td>1900</td>\n",
       "      <td>2</td>\n",
       "      <td>C7</td>\n",
       "      <td>-</td>\n",
       "      <td>2016-12-14 00:00:00</td>\n",
       "    </tr>\n",
       "    <tr>\n",
       "      <th>2</th>\n",
       "      <td>6</td>\n",
       "      <td>1</td>\n",
       "      <td>ALPHABET CITY</td>\n",
       "      <td>07 RENTALS - WALKUP APARTMENTS</td>\n",
       "      <td>2</td>\n",
       "      <td>399</td>\n",
       "      <td>39</td>\n",
       "      <td>NaN</td>\n",
       "      <td>C7</td>\n",
       "      <td>197 EAST 3RD   STREET</td>\n",
       "      <td>...</td>\n",
       "      <td>16</td>\n",
       "      <td>1</td>\n",
       "      <td>17</td>\n",
       "      <td>2212</td>\n",
       "      <td>7803</td>\n",
       "      <td>1900</td>\n",
       "      <td>2</td>\n",
       "      <td>C7</td>\n",
       "      <td>-</td>\n",
       "      <td>2016-12-09 00:00:00</td>\n",
       "    </tr>\n",
       "    <tr>\n",
       "      <th>3</th>\n",
       "      <td>7</td>\n",
       "      <td>1</td>\n",
       "      <td>ALPHABET CITY</td>\n",
       "      <td>07 RENTALS - WALKUP APARTMENTS</td>\n",
       "      <td>2B</td>\n",
       "      <td>402</td>\n",
       "      <td>21</td>\n",
       "      <td>NaN</td>\n",
       "      <td>C4</td>\n",
       "      <td>154 EAST 7TH STREET</td>\n",
       "      <td>...</td>\n",
       "      <td>10</td>\n",
       "      <td>0</td>\n",
       "      <td>10</td>\n",
       "      <td>2272</td>\n",
       "      <td>6794</td>\n",
       "      <td>1913</td>\n",
       "      <td>2</td>\n",
       "      <td>C4</td>\n",
       "      <td>3936272</td>\n",
       "      <td>2016-09-23 00:00:00</td>\n",
       "    </tr>\n",
       "    <tr>\n",
       "      <th>4</th>\n",
       "      <td>8</td>\n",
       "      <td>1</td>\n",
       "      <td>ALPHABET CITY</td>\n",
       "      <td>07 RENTALS - WALKUP APARTMENTS</td>\n",
       "      <td>2A</td>\n",
       "      <td>404</td>\n",
       "      <td>55</td>\n",
       "      <td>NaN</td>\n",
       "      <td>C2</td>\n",
       "      <td>301 EAST 10TH   STREET</td>\n",
       "      <td>...</td>\n",
       "      <td>6</td>\n",
       "      <td>0</td>\n",
       "      <td>6</td>\n",
       "      <td>2369</td>\n",
       "      <td>4615</td>\n",
       "      <td>1900</td>\n",
       "      <td>2</td>\n",
       "      <td>C2</td>\n",
       "      <td>8000000</td>\n",
       "      <td>2016-11-17 00:00:00</td>\n",
       "    </tr>\n",
       "  </tbody>\n",
       "</table>\n",
       "<p>5 rows × 22 columns</p>\n",
       "</div>"
      ],
      "text/plain": [
       "   Unnamed: 0  BOROUGH   NEIGHBORHOOD  \\\n",
       "0           4        1  ALPHABET CITY   \n",
       "1           5        1  ALPHABET CITY   \n",
       "2           6        1  ALPHABET CITY   \n",
       "3           7        1  ALPHABET CITY   \n",
       "4           8        1  ALPHABET CITY   \n",
       "\n",
       "                       BUILDING CLASS CATEGORY TAX CLASS AT PRESENT  BLOCK  \\\n",
       "0  07 RENTALS - WALKUP APARTMENTS                                2A    392   \n",
       "1  07 RENTALS - WALKUP APARTMENTS                                 2    399   \n",
       "2  07 RENTALS - WALKUP APARTMENTS                                 2    399   \n",
       "3  07 RENTALS - WALKUP APARTMENTS                                2B    402   \n",
       "4  07 RENTALS - WALKUP APARTMENTS                                2A    404   \n",
       "\n",
       "   LOT  EASE-MENT BUILDING CLASS AT PRESENT                 ADDRESS  ...  \\\n",
       "0    6        NaN                        C2            153 AVENUE B  ...   \n",
       "1   26        NaN                        C7   234 EAST 4TH   STREET  ...   \n",
       "2   39        NaN                        C7   197 EAST 3RD   STREET  ...   \n",
       "3   21        NaN                        C4     154 EAST 7TH STREET  ...   \n",
       "4   55        NaN                        C2  301 EAST 10TH   STREET  ...   \n",
       "\n",
       "  RESIDENTIAL UNITS  COMMERCIAL UNITS  TOTAL UNITS  LAND SQUARE FEET  \\\n",
       "0                 5                 0            5              1633   \n",
       "1                28                 3           31              4616   \n",
       "2                16                 1           17              2212   \n",
       "3                10                 0           10              2272   \n",
       "4                 6                 0            6              2369   \n",
       "\n",
       "   GROSS SQUARE FEET YEAR BUILT TAX CLASS AT TIME OF SALE  \\\n",
       "0               6440       1900                         2   \n",
       "1              18690       1900                         2   \n",
       "2               7803       1900                         2   \n",
       "3               6794       1913                         2   \n",
       "4               4615       1900                         2   \n",
       "\n",
       "   BUILDING CLASS AT TIME OF SALE  SALE PRICE            SALE DATE  \n",
       "0                              C2     6625000  2017-07-19 00:00:00  \n",
       "1                              C7         -    2016-12-14 00:00:00  \n",
       "2                              C7         -    2016-12-09 00:00:00  \n",
       "3                              C4     3936272  2016-09-23 00:00:00  \n",
       "4                              C2     8000000  2016-11-17 00:00:00  \n",
       "\n",
       "[5 rows x 22 columns]"
      ]
     },
     "execution_count": 3,
     "metadata": {},
     "output_type": "execute_result"
    }
   ],
   "source": [
    "df.head()"
   ]
  },
  {
   "cell_type": "code",
   "execution_count": 4,
   "id": "6c51bb5b",
   "metadata": {},
   "outputs": [
    {
     "name": "stdout",
     "output_type": "stream",
     "text": [
      "<class 'pandas.core.frame.DataFrame'>\n",
      "RangeIndex: 84548 entries, 0 to 84547\n",
      "Data columns (total 22 columns):\n",
      " #   Column                          Non-Null Count  Dtype  \n",
      "---  ------                          --------------  -----  \n",
      " 0   Unnamed: 0                      84548 non-null  int64  \n",
      " 1   BOROUGH                         84548 non-null  int64  \n",
      " 2   NEIGHBORHOOD                    84548 non-null  object \n",
      " 3   BUILDING CLASS CATEGORY         84548 non-null  object \n",
      " 4   TAX CLASS AT PRESENT            83810 non-null  object \n",
      " 5   BLOCK                           84548 non-null  int64  \n",
      " 6   LOT                             84548 non-null  int64  \n",
      " 7   EASE-MENT                       0 non-null      float64\n",
      " 8   BUILDING CLASS AT PRESENT       83810 non-null  object \n",
      " 9   ADDRESS                         84548 non-null  object \n",
      " 10  APARTMENT NUMBER                19052 non-null  object \n",
      " 11  ZIP CODE                        84548 non-null  int64  \n",
      " 12  RESIDENTIAL UNITS               84548 non-null  int64  \n",
      " 13  COMMERCIAL UNITS                84548 non-null  int64  \n",
      " 14  TOTAL UNITS                     84548 non-null  int64  \n",
      " 15  LAND SQUARE FEET                84548 non-null  object \n",
      " 16  GROSS SQUARE FEET               84548 non-null  object \n",
      " 17  YEAR BUILT                      84548 non-null  int64  \n",
      " 18  TAX CLASS AT TIME OF SALE       84548 non-null  int64  \n",
      " 19  BUILDING CLASS AT TIME OF SALE  84548 non-null  object \n",
      " 20  SALE PRICE                      84548 non-null  object \n",
      " 21  SALE DATE                       84548 non-null  object \n",
      "dtypes: float64(1), int64(10), object(11)\n",
      "memory usage: 14.2+ MB\n"
     ]
    }
   ],
   "source": [
    "df.info()"
   ]
  },
  {
   "cell_type": "markdown",
   "id": "ce76004b",
   "metadata": {},
   "source": [
    "Berdasarkan data diatas dataset terdiri dari Numerical Variable"
   ]
  },
  {
   "cell_type": "code",
   "execution_count": 5,
   "id": "56ff8ed8",
   "metadata": {},
   "outputs": [
    {
     "data": {
      "text/html": [
       "<div>\n",
       "<style scoped>\n",
       "    .dataframe tbody tr th:only-of-type {\n",
       "        vertical-align: middle;\n",
       "    }\n",
       "\n",
       "    .dataframe tbody tr th {\n",
       "        vertical-align: top;\n",
       "    }\n",
       "\n",
       "    .dataframe thead th {\n",
       "        text-align: right;\n",
       "    }\n",
       "</style>\n",
       "<table border=\"1\" class=\"dataframe\">\n",
       "  <thead>\n",
       "    <tr style=\"text-align: right;\">\n",
       "      <th></th>\n",
       "      <th>Unnamed: 0</th>\n",
       "      <th>BOROUGH</th>\n",
       "      <th>BLOCK</th>\n",
       "      <th>LOT</th>\n",
       "      <th>EASE-MENT</th>\n",
       "      <th>ZIP CODE</th>\n",
       "      <th>RESIDENTIAL UNITS</th>\n",
       "      <th>COMMERCIAL UNITS</th>\n",
       "      <th>TOTAL UNITS</th>\n",
       "      <th>YEAR BUILT</th>\n",
       "      <th>TAX CLASS AT TIME OF SALE</th>\n",
       "    </tr>\n",
       "  </thead>\n",
       "  <tbody>\n",
       "    <tr>\n",
       "      <th>count</th>\n",
       "      <td>84548.000000</td>\n",
       "      <td>84548.000000</td>\n",
       "      <td>84548.000000</td>\n",
       "      <td>84548.000000</td>\n",
       "      <td>0.0</td>\n",
       "      <td>84548.000000</td>\n",
       "      <td>84548.000000</td>\n",
       "      <td>84548.000000</td>\n",
       "      <td>84548.000000</td>\n",
       "      <td>84548.000000</td>\n",
       "      <td>84548.000000</td>\n",
       "    </tr>\n",
       "    <tr>\n",
       "      <th>mean</th>\n",
       "      <td>10344.359878</td>\n",
       "      <td>2.998758</td>\n",
       "      <td>4237.218976</td>\n",
       "      <td>376.224015</td>\n",
       "      <td>NaN</td>\n",
       "      <td>10731.991614</td>\n",
       "      <td>2.025264</td>\n",
       "      <td>0.193559</td>\n",
       "      <td>2.249184</td>\n",
       "      <td>1789.322976</td>\n",
       "      <td>1.657485</td>\n",
       "    </tr>\n",
       "    <tr>\n",
       "      <th>std</th>\n",
       "      <td>7151.779436</td>\n",
       "      <td>1.289790</td>\n",
       "      <td>3568.263407</td>\n",
       "      <td>658.136814</td>\n",
       "      <td>NaN</td>\n",
       "      <td>1290.879147</td>\n",
       "      <td>16.721037</td>\n",
       "      <td>8.713183</td>\n",
       "      <td>18.972584</td>\n",
       "      <td>537.344993</td>\n",
       "      <td>0.819341</td>\n",
       "    </tr>\n",
       "    <tr>\n",
       "      <th>min</th>\n",
       "      <td>4.000000</td>\n",
       "      <td>1.000000</td>\n",
       "      <td>1.000000</td>\n",
       "      <td>1.000000</td>\n",
       "      <td>NaN</td>\n",
       "      <td>0.000000</td>\n",
       "      <td>0.000000</td>\n",
       "      <td>0.000000</td>\n",
       "      <td>0.000000</td>\n",
       "      <td>0.000000</td>\n",
       "      <td>1.000000</td>\n",
       "    </tr>\n",
       "    <tr>\n",
       "      <th>25%</th>\n",
       "      <td>4231.000000</td>\n",
       "      <td>2.000000</td>\n",
       "      <td>1322.750000</td>\n",
       "      <td>22.000000</td>\n",
       "      <td>NaN</td>\n",
       "      <td>10305.000000</td>\n",
       "      <td>0.000000</td>\n",
       "      <td>0.000000</td>\n",
       "      <td>1.000000</td>\n",
       "      <td>1920.000000</td>\n",
       "      <td>1.000000</td>\n",
       "    </tr>\n",
       "    <tr>\n",
       "      <th>50%</th>\n",
       "      <td>8942.000000</td>\n",
       "      <td>3.000000</td>\n",
       "      <td>3311.000000</td>\n",
       "      <td>50.000000</td>\n",
       "      <td>NaN</td>\n",
       "      <td>11209.000000</td>\n",
       "      <td>1.000000</td>\n",
       "      <td>0.000000</td>\n",
       "      <td>1.000000</td>\n",
       "      <td>1940.000000</td>\n",
       "      <td>2.000000</td>\n",
       "    </tr>\n",
       "    <tr>\n",
       "      <th>75%</th>\n",
       "      <td>15987.250000</td>\n",
       "      <td>4.000000</td>\n",
       "      <td>6281.000000</td>\n",
       "      <td>1001.000000</td>\n",
       "      <td>NaN</td>\n",
       "      <td>11357.000000</td>\n",
       "      <td>2.000000</td>\n",
       "      <td>0.000000</td>\n",
       "      <td>2.000000</td>\n",
       "      <td>1965.000000</td>\n",
       "      <td>2.000000</td>\n",
       "    </tr>\n",
       "    <tr>\n",
       "      <th>max</th>\n",
       "      <td>26739.000000</td>\n",
       "      <td>5.000000</td>\n",
       "      <td>16322.000000</td>\n",
       "      <td>9106.000000</td>\n",
       "      <td>NaN</td>\n",
       "      <td>11694.000000</td>\n",
       "      <td>1844.000000</td>\n",
       "      <td>2261.000000</td>\n",
       "      <td>2261.000000</td>\n",
       "      <td>2017.000000</td>\n",
       "      <td>4.000000</td>\n",
       "    </tr>\n",
       "  </tbody>\n",
       "</table>\n",
       "</div>"
      ],
      "text/plain": [
       "         Unnamed: 0       BOROUGH         BLOCK           LOT  EASE-MENT  \\\n",
       "count  84548.000000  84548.000000  84548.000000  84548.000000        0.0   \n",
       "mean   10344.359878      2.998758   4237.218976    376.224015        NaN   \n",
       "std     7151.779436      1.289790   3568.263407    658.136814        NaN   \n",
       "min        4.000000      1.000000      1.000000      1.000000        NaN   \n",
       "25%     4231.000000      2.000000   1322.750000     22.000000        NaN   \n",
       "50%     8942.000000      3.000000   3311.000000     50.000000        NaN   \n",
       "75%    15987.250000      4.000000   6281.000000   1001.000000        NaN   \n",
       "max    26739.000000      5.000000  16322.000000   9106.000000        NaN   \n",
       "\n",
       "           ZIP CODE  RESIDENTIAL UNITS  COMMERCIAL UNITS   TOTAL UNITS  \\\n",
       "count  84548.000000       84548.000000      84548.000000  84548.000000   \n",
       "mean   10731.991614           2.025264          0.193559      2.249184   \n",
       "std     1290.879147          16.721037          8.713183     18.972584   \n",
       "min        0.000000           0.000000          0.000000      0.000000   \n",
       "25%    10305.000000           0.000000          0.000000      1.000000   \n",
       "50%    11209.000000           1.000000          0.000000      1.000000   \n",
       "75%    11357.000000           2.000000          0.000000      2.000000   \n",
       "max    11694.000000        1844.000000       2261.000000   2261.000000   \n",
       "\n",
       "         YEAR BUILT  TAX CLASS AT TIME OF SALE  \n",
       "count  84548.000000               84548.000000  \n",
       "mean    1789.322976                   1.657485  \n",
       "std      537.344993                   0.819341  \n",
       "min        0.000000                   1.000000  \n",
       "25%     1920.000000                   1.000000  \n",
       "50%     1940.000000                   2.000000  \n",
       "75%     1965.000000                   2.000000  \n",
       "max     2017.000000                   4.000000  "
      ]
     },
     "execution_count": 5,
     "metadata": {},
     "output_type": "execute_result"
    }
   ],
   "source": [
    "df.describe()"
   ]
  },
  {
   "cell_type": "code",
   "execution_count": 6,
   "id": "ae7ecc03",
   "metadata": {},
   "outputs": [
    {
     "data": {
      "text/plain": [
       "Unnamed: 0                            0\n",
       "BOROUGH                               0\n",
       "NEIGHBORHOOD                          0\n",
       "BUILDING CLASS CATEGORY               0\n",
       "TAX CLASS AT PRESENT                738\n",
       "BLOCK                                 0\n",
       "LOT                                   0\n",
       "EASE-MENT                         84548\n",
       "BUILDING CLASS AT PRESENT           738\n",
       "ADDRESS                               0\n",
       "APARTMENT NUMBER                  65496\n",
       "ZIP CODE                              0\n",
       "RESIDENTIAL UNITS                     0\n",
       "COMMERCIAL UNITS                      0\n",
       "TOTAL UNITS                           0\n",
       "LAND SQUARE FEET                      0\n",
       "GROSS SQUARE FEET                     0\n",
       "YEAR BUILT                            0\n",
       "TAX CLASS AT TIME OF SALE             0\n",
       "BUILDING CLASS AT TIME OF SALE        0\n",
       "SALE PRICE                            0\n",
       "SALE DATE                             0\n",
       "dtype: int64"
      ]
     },
     "execution_count": 6,
     "metadata": {},
     "output_type": "execute_result"
    }
   ],
   "source": [
    "df.isnull().sum()"
   ]
  },
  {
   "cell_type": "markdown",
   "id": "1ca7dc91",
   "metadata": {},
   "source": [
    "Berdasarkan data diatas terdapat lumayan banyak missing value."
   ]
  },
  {
   "cell_type": "code",
   "execution_count": 7,
   "id": "5287f76e",
   "metadata": {},
   "outputs": [],
   "source": [
    "df.drop([\"Unnamed: 0\", \"EASE-MENT\", \"APARTMENT NUMBER\", \"ADDRESS\", \"BLOCK\", \"LOT\", \"SALE DATE\"], axis = 1, inplace = True)"
   ]
  },
  {
   "cell_type": "markdown",
   "id": "c44efd26",
   "metadata": {},
   "source": [
    "Drop variable yang tidak penting dari dataset"
   ]
  },
  {
   "cell_type": "code",
   "execution_count": 8,
   "id": "1686499d",
   "metadata": {},
   "outputs": [
    {
     "data": {
      "text/plain": [
       "BOROUGH                             0\n",
       "NEIGHBORHOOD                        0\n",
       "BUILDING CLASS CATEGORY             0\n",
       "TAX CLASS AT PRESENT              738\n",
       "BUILDING CLASS AT PRESENT         738\n",
       "ZIP CODE                            0\n",
       "RESIDENTIAL UNITS                   0\n",
       "COMMERCIAL UNITS                    0\n",
       "TOTAL UNITS                         0\n",
       "LAND SQUARE FEET                    0\n",
       "GROSS SQUARE FEET                   0\n",
       "YEAR BUILT                          0\n",
       "TAX CLASS AT TIME OF SALE           0\n",
       "BUILDING CLASS AT TIME OF SALE      0\n",
       "SALE PRICE                          0\n",
       "dtype: int64"
      ]
     },
     "execution_count": 8,
     "metadata": {},
     "output_type": "execute_result"
    }
   ],
   "source": [
    "df.isnull().sum()"
   ]
  },
  {
   "cell_type": "code",
   "execution_count": 9,
   "id": "db825da0",
   "metadata": {},
   "outputs": [
    {
     "data": {
      "text/plain": [
       "(84548, 15)"
      ]
     },
     "execution_count": 9,
     "metadata": {},
     "output_type": "execute_result"
    }
   ],
   "source": [
    "df.shape"
   ]
  },
  {
   "cell_type": "code",
   "execution_count": 10,
   "id": "5348b121",
   "metadata": {},
   "outputs": [],
   "source": [
    "df['BOROUGH'] = df['BOROUGH'].map({1:'Manhattan',2:'Bronx',3:'Brooklyn',4:'Queens',5:'Staten Island'})"
   ]
  },
  {
   "cell_type": "code",
   "execution_count": 11,
   "id": "bb7cac5a",
   "metadata": {},
   "outputs": [],
   "source": [
    "numerical = [\"RESIDENTIAL UNITS\",\"COMMERCIAL UNITS\",\"TOTAL UNITS\", \"YEAR BUILT\", \"LAND SQUARE FEET\" , \"GROSS SQUARE FEET\",\"SALE PRICE\"]\n",
    "\n",
    "for col in numerical:\n",
    "    df[col] = pd.to_numeric(df[col], errors='coerce')"
   ]
  },
  {
   "cell_type": "code",
   "execution_count": 12,
   "id": "0c10136a",
   "metadata": {},
   "outputs": [
    {
     "name": "stdout",
     "output_type": "stream",
     "text": [
      "<class 'pandas.core.frame.DataFrame'>\n",
      "RangeIndex: 84548 entries, 0 to 84547\n",
      "Data columns (total 15 columns):\n",
      " #   Column                          Non-Null Count  Dtype  \n",
      "---  ------                          --------------  -----  \n",
      " 0   BOROUGH                         84548 non-null  object \n",
      " 1   NEIGHBORHOOD                    84548 non-null  object \n",
      " 2   BUILDING CLASS CATEGORY         84548 non-null  object \n",
      " 3   TAX CLASS AT PRESENT            83810 non-null  object \n",
      " 4   BUILDING CLASS AT PRESENT       83810 non-null  object \n",
      " 5   ZIP CODE                        84548 non-null  int64  \n",
      " 6   RESIDENTIAL UNITS               84548 non-null  int64  \n",
      " 7   COMMERCIAL UNITS                84548 non-null  int64  \n",
      " 8   TOTAL UNITS                     84548 non-null  int64  \n",
      " 9   LAND SQUARE FEET                58296 non-null  float64\n",
      " 10  GROSS SQUARE FEET               56936 non-null  float64\n",
      " 11  YEAR BUILT                      84548 non-null  int64  \n",
      " 12  TAX CLASS AT TIME OF SALE       84548 non-null  int64  \n",
      " 13  BUILDING CLASS AT TIME OF SALE  84548 non-null  object \n",
      " 14  SALE PRICE                      69987 non-null  float64\n",
      "dtypes: float64(3), int64(6), object(6)\n",
      "memory usage: 9.7+ MB\n"
     ]
    }
   ],
   "source": [
    "df.info()"
   ]
  },
  {
   "cell_type": "code",
   "execution_count": 13,
   "id": "bf30340f",
   "metadata": {},
   "outputs": [],
   "source": [
    "categorical = ['BOROUGH','NEIGHBORHOOD','BUILDING CLASS CATEGORY','TAX CLASS AT PRESENT','BUILDING CLASS AT TIME OF SALE']\n",
    "\n",
    "for col in categorical:\n",
    "    df[col] = df[col].astype(\"category\")"
   ]
  },
  {
   "cell_type": "code",
   "execution_count": 14,
   "id": "8ca43bb3",
   "metadata": {},
   "outputs": [
    {
     "name": "stdout",
     "output_type": "stream",
     "text": [
      "<class 'pandas.core.frame.DataFrame'>\n",
      "RangeIndex: 84548 entries, 0 to 84547\n",
      "Data columns (total 15 columns):\n",
      " #   Column                          Non-Null Count  Dtype   \n",
      "---  ------                          --------------  -----   \n",
      " 0   BOROUGH                         84548 non-null  category\n",
      " 1   NEIGHBORHOOD                    84548 non-null  category\n",
      " 2   BUILDING CLASS CATEGORY         84548 non-null  category\n",
      " 3   TAX CLASS AT PRESENT            83810 non-null  category\n",
      " 4   BUILDING CLASS AT PRESENT       83810 non-null  object  \n",
      " 5   ZIP CODE                        84548 non-null  int64   \n",
      " 6   RESIDENTIAL UNITS               84548 non-null  int64   \n",
      " 7   COMMERCIAL UNITS                84548 non-null  int64   \n",
      " 8   TOTAL UNITS                     84548 non-null  int64   \n",
      " 9   LAND SQUARE FEET                58296 non-null  float64 \n",
      " 10  GROSS SQUARE FEET               56936 non-null  float64 \n",
      " 11  YEAR BUILT                      84548 non-null  int64   \n",
      " 12  TAX CLASS AT TIME OF SALE       84548 non-null  int64   \n",
      " 13  BUILDING CLASS AT TIME OF SALE  84548 non-null  category\n",
      " 14  SALE PRICE                      69987 non-null  float64 \n",
      "dtypes: category(5), float64(3), int64(6), object(1)\n",
      "memory usage: 7.0+ MB\n"
     ]
    }
   ],
   "source": [
    "df.info()"
   ]
  },
  {
   "cell_type": "markdown",
   "id": "58929f42",
   "metadata": {},
   "source": [
    "# Missing Value"
   ]
  },
  {
   "cell_type": "code",
   "execution_count": 15,
   "id": "bb18ab2f",
   "metadata": {},
   "outputs": [
    {
     "data": {
      "text/plain": [
       "BOROUGH                               0\n",
       "NEIGHBORHOOD                          0\n",
       "BUILDING CLASS CATEGORY               0\n",
       "TAX CLASS AT PRESENT                738\n",
       "BUILDING CLASS AT PRESENT           738\n",
       "ZIP CODE                              0\n",
       "RESIDENTIAL UNITS                     0\n",
       "COMMERCIAL UNITS                      0\n",
       "TOTAL UNITS                           0\n",
       "LAND SQUARE FEET                  26252\n",
       "GROSS SQUARE FEET                 27612\n",
       "YEAR BUILT                            0\n",
       "TAX CLASS AT TIME OF SALE             0\n",
       "BUILDING CLASS AT TIME OF SALE        0\n",
       "SALE PRICE                        14561\n",
       "dtype: int64"
      ]
     },
     "execution_count": 15,
     "metadata": {},
     "output_type": "execute_result"
    }
   ],
   "source": [
    "df.isnull().sum()"
   ]
  },
  {
   "cell_type": "code",
   "execution_count": 16,
   "id": "24e60230",
   "metadata": {},
   "outputs": [],
   "source": [
    "df['TAX CLASS AT PRESENT'].fillna(df['TAX CLASS AT PRESENT'].mode()[0],inplace=True)\n",
    "df['BUILDING CLASS AT PRESENT'].fillna(df['BUILDING CLASS AT PRESENT'].mode()[0],inplace=True)"
   ]
  },
  {
   "cell_type": "code",
   "execution_count": 17,
   "id": "cf6341a5",
   "metadata": {},
   "outputs": [],
   "source": [
    "df['LAND SQUARE FEET'].fillna(df['LAND SQUARE FEET'].median(),inplace=True)\n",
    "df['GROSS SQUARE FEET'].fillna(df['LAND SQUARE FEET'].median(),inplace=True)"
   ]
  },
  {
   "cell_type": "markdown",
   "id": "c15c2ccf",
   "metadata": {},
   "source": [
    "Melakukan filling data dengan metode yang sesuai berdasarkan logic"
   ]
  },
  {
   "cell_type": "code",
   "execution_count": 18,
   "id": "cf93626e",
   "metadata": {},
   "outputs": [],
   "source": [
    "df2 = df.dropna()"
   ]
  },
  {
   "cell_type": "code",
   "execution_count": 19,
   "id": "c7d1d2e0",
   "metadata": {},
   "outputs": [
    {
     "data": {
      "text/plain": [
       "BOROUGH                           0\n",
       "NEIGHBORHOOD                      0\n",
       "BUILDING CLASS CATEGORY           0\n",
       "TAX CLASS AT PRESENT              0\n",
       "BUILDING CLASS AT PRESENT         0\n",
       "ZIP CODE                          0\n",
       "RESIDENTIAL UNITS                 0\n",
       "COMMERCIAL UNITS                  0\n",
       "TOTAL UNITS                       0\n",
       "LAND SQUARE FEET                  0\n",
       "GROSS SQUARE FEET                 0\n",
       "YEAR BUILT                        0\n",
       "TAX CLASS AT TIME OF SALE         0\n",
       "BUILDING CLASS AT TIME OF SALE    0\n",
       "SALE PRICE                        0\n",
       "dtype: int64"
      ]
     },
     "execution_count": 19,
     "metadata": {},
     "output_type": "execute_result"
    }
   ],
   "source": [
    "df2.isnull().sum()"
   ]
  },
  {
   "cell_type": "markdown",
   "id": "726850b9",
   "metadata": {},
   "source": [
    "Missing Value sudah teratasi"
   ]
  },
  {
   "cell_type": "markdown",
   "id": "85a18585",
   "metadata": {},
   "source": [
    "# Descriptive Statistic"
   ]
  },
  {
   "cell_type": "code",
   "execution_count": 20,
   "id": "ddbc9293",
   "metadata": {},
   "outputs": [
    {
     "data": {
      "text/html": [
       "<div>\n",
       "<style scoped>\n",
       "    .dataframe tbody tr th:only-of-type {\n",
       "        vertical-align: middle;\n",
       "    }\n",
       "\n",
       "    .dataframe tbody tr th {\n",
       "        vertical-align: top;\n",
       "    }\n",
       "\n",
       "    .dataframe thead th {\n",
       "        text-align: right;\n",
       "    }\n",
       "</style>\n",
       "<table border=\"1\" class=\"dataframe\">\n",
       "  <thead>\n",
       "    <tr style=\"text-align: right;\">\n",
       "      <th></th>\n",
       "      <th>ZIP CODE</th>\n",
       "      <th>RESIDENTIAL UNITS</th>\n",
       "      <th>COMMERCIAL UNITS</th>\n",
       "      <th>TOTAL UNITS</th>\n",
       "      <th>LAND SQUARE FEET</th>\n",
       "      <th>GROSS SQUARE FEET</th>\n",
       "      <th>YEAR BUILT</th>\n",
       "      <th>TAX CLASS AT TIME OF SALE</th>\n",
       "      <th>SALE PRICE</th>\n",
       "    </tr>\n",
       "  </thead>\n",
       "  <tbody>\n",
       "    <tr>\n",
       "      <th>count</th>\n",
       "      <td>69987.000000</td>\n",
       "      <td>69987.000000</td>\n",
       "      <td>69987.000000</td>\n",
       "      <td>69987.000000</td>\n",
       "      <td>6.998700e+04</td>\n",
       "      <td>6.998700e+04</td>\n",
       "      <td>69987.000000</td>\n",
       "      <td>69987.000000</td>\n",
       "      <td>6.998700e+04</td>\n",
       "    </tr>\n",
       "    <tr>\n",
       "      <th>mean</th>\n",
       "      <td>10741.455185</td>\n",
       "      <td>1.899553</td>\n",
       "      <td>0.172489</td>\n",
       "      <td>2.092203</td>\n",
       "      <td>3.234500e+03</td>\n",
       "      <td>3.253983e+03</td>\n",
       "      <td>1799.348236</td>\n",
       "      <td>1.641976</td>\n",
       "      <td>1.276456e+06</td>\n",
       "    </tr>\n",
       "    <tr>\n",
       "      <th>std</th>\n",
       "      <td>1263.234938</td>\n",
       "      <td>14.549545</td>\n",
       "      <td>9.123717</td>\n",
       "      <td>17.276100</td>\n",
       "      <td>3.370482e+04</td>\n",
       "      <td>2.448106e+04</td>\n",
       "      <td>520.884552</td>\n",
       "      <td>0.771162</td>\n",
       "      <td>1.140526e+07</td>\n",
       "    </tr>\n",
       "    <tr>\n",
       "      <th>min</th>\n",
       "      <td>0.000000</td>\n",
       "      <td>0.000000</td>\n",
       "      <td>0.000000</td>\n",
       "      <td>0.000000</td>\n",
       "      <td>0.000000e+00</td>\n",
       "      <td>0.000000e+00</td>\n",
       "      <td>0.000000</td>\n",
       "      <td>1.000000</td>\n",
       "      <td>0.000000e+00</td>\n",
       "    </tr>\n",
       "    <tr>\n",
       "      <th>25%</th>\n",
       "      <td>10306.000000</td>\n",
       "      <td>0.000000</td>\n",
       "      <td>0.000000</td>\n",
       "      <td>0.000000</td>\n",
       "      <td>1.900000e+03</td>\n",
       "      <td>1.268000e+03</td>\n",
       "      <td>1920.000000</td>\n",
       "      <td>1.000000</td>\n",
       "      <td>2.250000e+05</td>\n",
       "    </tr>\n",
       "    <tr>\n",
       "      <th>50%</th>\n",
       "      <td>11209.000000</td>\n",
       "      <td>1.000000</td>\n",
       "      <td>0.000000</td>\n",
       "      <td>1.000000</td>\n",
       "      <td>2.325000e+03</td>\n",
       "      <td>2.325000e+03</td>\n",
       "      <td>1937.000000</td>\n",
       "      <td>2.000000</td>\n",
       "      <td>5.300000e+05</td>\n",
       "    </tr>\n",
       "    <tr>\n",
       "      <th>75%</th>\n",
       "      <td>11249.000000</td>\n",
       "      <td>2.000000</td>\n",
       "      <td>0.000000</td>\n",
       "      <td>2.000000</td>\n",
       "      <td>2.504000e+03</td>\n",
       "      <td>2.325000e+03</td>\n",
       "      <td>1965.000000</td>\n",
       "      <td>2.000000</td>\n",
       "      <td>9.500000e+05</td>\n",
       "    </tr>\n",
       "    <tr>\n",
       "      <th>max</th>\n",
       "      <td>11694.000000</td>\n",
       "      <td>1844.000000</td>\n",
       "      <td>2261.000000</td>\n",
       "      <td>2261.000000</td>\n",
       "      <td>4.252327e+06</td>\n",
       "      <td>3.750565e+06</td>\n",
       "      <td>2017.000000</td>\n",
       "      <td>4.000000</td>\n",
       "      <td>2.210000e+09</td>\n",
       "    </tr>\n",
       "  </tbody>\n",
       "</table>\n",
       "</div>"
      ],
      "text/plain": [
       "           ZIP CODE  RESIDENTIAL UNITS  COMMERCIAL UNITS   TOTAL UNITS  \\\n",
       "count  69987.000000       69987.000000      69987.000000  69987.000000   \n",
       "mean   10741.455185           1.899553          0.172489      2.092203   \n",
       "std     1263.234938          14.549545          9.123717     17.276100   \n",
       "min        0.000000           0.000000          0.000000      0.000000   \n",
       "25%    10306.000000           0.000000          0.000000      0.000000   \n",
       "50%    11209.000000           1.000000          0.000000      1.000000   \n",
       "75%    11249.000000           2.000000          0.000000      2.000000   \n",
       "max    11694.000000        1844.000000       2261.000000   2261.000000   \n",
       "\n",
       "       LAND SQUARE FEET  GROSS SQUARE FEET    YEAR BUILT  \\\n",
       "count      6.998700e+04       6.998700e+04  69987.000000   \n",
       "mean       3.234500e+03       3.253983e+03   1799.348236   \n",
       "std        3.370482e+04       2.448106e+04    520.884552   \n",
       "min        0.000000e+00       0.000000e+00      0.000000   \n",
       "25%        1.900000e+03       1.268000e+03   1920.000000   \n",
       "50%        2.325000e+03       2.325000e+03   1937.000000   \n",
       "75%        2.504000e+03       2.325000e+03   1965.000000   \n",
       "max        4.252327e+06       3.750565e+06   2017.000000   \n",
       "\n",
       "       TAX CLASS AT TIME OF SALE    SALE PRICE  \n",
       "count               69987.000000  6.998700e+04  \n",
       "mean                    1.641976  1.276456e+06  \n",
       "std                     0.771162  1.140526e+07  \n",
       "min                     1.000000  0.000000e+00  \n",
       "25%                     1.000000  2.250000e+05  \n",
       "50%                     2.000000  5.300000e+05  \n",
       "75%                     2.000000  9.500000e+05  \n",
       "max                     4.000000  2.210000e+09  "
      ]
     },
     "execution_count": 20,
     "metadata": {},
     "output_type": "execute_result"
    }
   ],
   "source": [
    "df2.describe()"
   ]
  },
  {
   "cell_type": "code",
   "execution_count": 21,
   "id": "5e6ed4eb",
   "metadata": {},
   "outputs": [
    {
     "name": "stdout",
     "output_type": "stream",
     "text": [
      "<class 'pandas.core.frame.DataFrame'>\n",
      "Int64Index: 69987 entries, 0 to 84547\n",
      "Data columns (total 15 columns):\n",
      " #   Column                          Non-Null Count  Dtype   \n",
      "---  ------                          --------------  -----   \n",
      " 0   BOROUGH                         69987 non-null  category\n",
      " 1   NEIGHBORHOOD                    69987 non-null  category\n",
      " 2   BUILDING CLASS CATEGORY         69987 non-null  category\n",
      " 3   TAX CLASS AT PRESENT            69987 non-null  category\n",
      " 4   BUILDING CLASS AT PRESENT       69987 non-null  object  \n",
      " 5   ZIP CODE                        69987 non-null  int64   \n",
      " 6   RESIDENTIAL UNITS               69987 non-null  int64   \n",
      " 7   COMMERCIAL UNITS                69987 non-null  int64   \n",
      " 8   TOTAL UNITS                     69987 non-null  int64   \n",
      " 9   LAND SQUARE FEET                69987 non-null  float64 \n",
      " 10  GROSS SQUARE FEET               69987 non-null  float64 \n",
      " 11  YEAR BUILT                      69987 non-null  int64   \n",
      " 12  TAX CLASS AT TIME OF SALE       69987 non-null  int64   \n",
      " 13  BUILDING CLASS AT TIME OF SALE  69987 non-null  category\n",
      " 14  SALE PRICE                      69987 non-null  float64 \n",
      "dtypes: category(5), float64(3), int64(6), object(1)\n",
      "memory usage: 6.4+ MB\n"
     ]
    }
   ],
   "source": [
    "df2.info()"
   ]
  },
  {
   "cell_type": "markdown",
   "id": "6f7452e0",
   "metadata": {},
   "source": [
    "# Measure of Central Tendency:"
   ]
  },
  {
   "cell_type": "markdown",
   "id": "88d7100f",
   "metadata": {},
   "source": [
    "## Mean\n",
    "### 1. Mean Sale Price"
   ]
  },
  {
   "cell_type": "code",
   "execution_count": 22,
   "id": "fe67b42b",
   "metadata": {},
   "outputs": [
    {
     "name": "stdout",
     "output_type": "stream",
     "text": [
      "Mean Sale Price :  1276456.4977638705\n"
     ]
    }
   ],
   "source": [
    "mean_SP = df2['SALE PRICE'].mean()\n",
    "print(\"Mean Sale Price : \", mean_SP)"
   ]
  },
  {
   "cell_type": "markdown",
   "id": "8793be3f",
   "metadata": {},
   "source": [
    "### 2. Mean dari SP tiap borough"
   ]
  },
  {
   "cell_type": "code",
   "execution_count": 24,
   "id": "09279bfe",
   "metadata": {},
   "outputs": [
    {
     "name": "stdout",
     "output_type": "stream",
     "text": [
      "Mean Manhattan : 3337951.2707943763\n",
      "Mean Bronx : 590193.6434955313\n",
      "Mean Brooklyn : 834488.3717719465\n",
      "Mean Queens : 739908.6159102\n",
      "Mean Staten Island : 543472.1102977874\n"
     ]
    }
   ],
   "source": [
    "mean_Manhattan = df2[df2['BOROUGH'] == 'Manhattan']['SALE PRICE'].mean()\n",
    "print('Mean Manhattan :',mean_Manhattan)\n",
    "mean_Bronx = df2[df2['BOROUGH'] == 'Bronx']['SALE PRICE'].mean()\n",
    "print('Mean Bronx :',mean_Bronx)\n",
    "mean_Brooklyn = df2[df2['BOROUGH'] == 'Brooklyn']['SALE PRICE'].mean()\n",
    "print('Mean Brooklyn :',mean_Brooklyn)\n",
    "mean_Queens = df2[df2['BOROUGH'] == 'Queens']['SALE PRICE'].mean()\n",
    "print('Mean Queens :',mean_Queens)\n",
    "mean_Staten_Island = df2[df2['BOROUGH'] == 'Staten Island']['SALE PRICE'].mean()\n",
    "print('Mean Staten Island :',mean_Staten_Island)"
   ]
  },
  {
   "cell_type": "markdown",
   "id": "5a8a05b9",
   "metadata": {},
   "source": [
    "## Median"
   ]
  },
  {
   "cell_type": "markdown",
   "id": "d91d5e0a",
   "metadata": {},
   "source": [
    "### 1. Median Sale Price"
   ]
  },
  {
   "cell_type": "code",
   "execution_count": 25,
   "id": "ec9a19a2",
   "metadata": {},
   "outputs": [
    {
     "name": "stdout",
     "output_type": "stream",
     "text": [
      "Median Sale Price :  530000.0\n"
     ]
    }
   ],
   "source": [
    "median_SP = df2['SALE PRICE'].median()\n",
    "print(\"Median Sale Price : \", median_SP)"
   ]
  },
  {
   "cell_type": "markdown",
   "id": "cf42e0e5",
   "metadata": {},
   "source": [
    "### 2. Median SP tiap borough"
   ]
  },
  {
   "cell_type": "code",
   "execution_count": 26,
   "id": "502c8fea",
   "metadata": {},
   "outputs": [
    {
     "name": "stdout",
     "output_type": "stream",
     "text": [
      "Median Manhattan : 1150000.0\n",
      "Median Bronx : 270000.0\n",
      "Median Brooklyn : 420000.0\n",
      "Median Queens : 495000.0\n",
      "Median Staten Island : 465000.0\n"
     ]
    }
   ],
   "source": [
    "median_Manhattan = df2[df2['BOROUGH'] == 'Manhattan']['SALE PRICE'].median()\n",
    "print('Median Manhattan :',median_Manhattan)\n",
    "median_Bronx = df2[df2['BOROUGH'] == 'Bronx']['SALE PRICE'].median()\n",
    "print('Median Bronx :',median_Bronx)\n",
    "median_Brooklyn = df2[df2['BOROUGH'] == 'Brooklyn']['SALE PRICE'].median()\n",
    "print('Median Brooklyn :',median_Brooklyn)\n",
    "median_Queens = df2[df2['BOROUGH'] == 'Queens']['SALE PRICE'].median()\n",
    "print('Median Queens :',median_Queens)\n",
    "median_Staten_Island = df2[df2['BOROUGH'] == 'Staten Island']['SALE PRICE'].median()\n",
    "print('Median Staten Island :',median_Staten_Island)"
   ]
  },
  {
   "cell_type": "markdown",
   "id": "d88cfb70",
   "metadata": {},
   "source": [
    "## Mode"
   ]
  },
  {
   "cell_type": "markdown",
   "id": "3be27b14",
   "metadata": {},
   "source": [
    "### Mode Categorical Data"
   ]
  },
  {
   "cell_type": "code",
   "execution_count": 27,
   "id": "7ade1b75",
   "metadata": {
    "scrolled": true
   },
   "outputs": [
    {
     "name": "stdout",
     "output_type": "stream",
     "text": [
      "Mode Borough : Brooklyn\n",
      "Mode Neighborhood : FLUSHING-NORTH\n",
      "Mode Building Class Category : 01 ONE FAMILY DWELLINGS                    \n",
      "Mode Building Class At Present : D4\n",
      "Mode Building Class At Time Of Sale : D4\n",
      "Mode Tax Class At Time Of Sale : 1\n"
     ]
    }
   ],
   "source": [
    "mode_Borough = statistics.mode(df2['BOROUGH'])\n",
    "print(\"Mode Borough :\", mode_Borough)\n",
    "mode_Neighborhood = statistics.mode(df2['NEIGHBORHOOD'])\n",
    "print(\"Mode Neighborhood :\", mode_Neighborhood)\n",
    "mode_BuildingClassCategory = statistics.mode(df2['BUILDING CLASS CATEGORY'])\n",
    "print(\"Mode Building Class Category :\", mode_BuildingClassCategory)\n",
    "mode_BuildingClassAP = statistics.mode(df2['BUILDING CLASS AT PRESENT'])\n",
    "print(\"Mode Building Class At Present :\", mode_BuildingClassAP)\n",
    "mode_BuildingClassATOS = statistics.mode(df2['BUILDING CLASS AT TIME OF SALE'])\n",
    "print(\"Mode Building Class At Time Of Sale :\", mode_BuildingClassATOS)\n",
    "mode_Tax = statistics.mode(df2['TAX CLASS AT TIME OF SALE'])\n",
    "print(\"Mode Tax Class At Time Of Sale :\", mode_Tax)"
   ]
  },
  {
   "cell_type": "markdown",
   "id": "4d4e667f",
   "metadata": {},
   "source": [
    "# Measure of Spread"
   ]
  },
  {
   "cell_type": "markdown",
   "id": "f6642c78",
   "metadata": {},
   "source": [
    "## Range"
   ]
  },
  {
   "cell_type": "markdown",
   "id": "dc460115",
   "metadata": {},
   "source": [
    "### Range pada Sale Price?"
   ]
  },
  {
   "cell_type": "code",
   "execution_count": 28,
   "id": "ccfb6a6a",
   "metadata": {},
   "outputs": [
    {
     "name": "stdout",
     "output_type": "stream",
     "text": [
      "Range dari Sale Price:  2210000000.0\n"
     ]
    }
   ],
   "source": [
    "range_price = np.ptp(df2['SALE PRICE'])\n",
    "print(\"Range dari Sale Price: \",range_price)"
   ]
  },
  {
   "cell_type": "markdown",
   "id": "20de6e7f",
   "metadata": {},
   "source": [
    "### Range pada Gross Square Feet"
   ]
  },
  {
   "cell_type": "code",
   "execution_count": 29,
   "id": "b814a16b",
   "metadata": {},
   "outputs": [
    {
     "name": "stdout",
     "output_type": "stream",
     "text": [
      "Range dari Gross Square Feet:  3750565.0\n"
     ]
    }
   ],
   "source": [
    "range_GSF = np.ptp(df2['GROSS SQUARE FEET'])\n",
    "print(\"Range dari Gross Square Feet: \",range_GSF)"
   ]
  },
  {
   "cell_type": "markdown",
   "id": "db037146",
   "metadata": {},
   "source": [
    "### Range pada Land Square Feet"
   ]
  },
  {
   "cell_type": "code",
   "execution_count": 30,
   "id": "c40a343c",
   "metadata": {},
   "outputs": [
    {
     "name": "stdout",
     "output_type": "stream",
     "text": [
      "Range dari Land Square Feet:  4252327.0\n"
     ]
    }
   ],
   "source": [
    "range_LSF = np.ptp(df2['LAND SQUARE FEET'])\n",
    "print(\"Range dari Land Square Feet: \",range_LSF)"
   ]
  },
  {
   "cell_type": "markdown",
   "id": "6ef4a5c1",
   "metadata": {},
   "source": [
    "## Quartiles"
   ]
  },
  {
   "cell_type": "code",
   "execution_count": 45,
   "id": "38583f52",
   "metadata": {},
   "outputs": [
    {
     "name": "stdout",
     "output_type": "stream",
     "text": [
      "Q1 Sale Price :  225000.0\n",
      "Q2 Sale Price :  530000.0\n",
      "Q3 Sale Price :  950000.0\n",
      "Q4 Sale Price :  2210000000.0\n",
      "IQR Sale Price :  725000.0\n"
     ]
    }
   ],
   "source": [
    "Q1 = np.percentile(df2['SALE PRICE'],25)\n",
    "print('Q1 Sale Price : ',Q1)\n",
    "Q2 = np.percentile(df2['SALE PRICE'],50)\n",
    "print('Q2 Sale Price : ',Q2)\n",
    "Q3 = np.percentile(df2['SALE PRICE'],75)\n",
    "print('Q3 Sale Price : ',Q3)\n",
    "Q4 = np.percentile(df2['SALE PRICE'],100)\n",
    "print('Q4 Sale Price : ',Q4)\n",
    "IQR = Q3 - Q1 \n",
    "print('IQR Sale Price : ',IQR)"
   ]
  },
  {
   "cell_type": "markdown",
   "id": "7862c512",
   "metadata": {},
   "source": [
    "### Variance"
   ]
  },
  {
   "cell_type": "code",
   "execution_count": 46,
   "id": "cf8abefe",
   "metadata": {},
   "outputs": [
    {
     "name": "stdout",
     "output_type": "stream",
     "text": [
      "Variance Sale Price        :  130079849507172.66\n",
      "Variance Gross Square Feet :  599322230.2910105\n",
      "Variance Land Square Feet  :  1136015085.9746628\n",
      "Variance Residential Units :  211.68925007861327\n",
      "Variance Commercial Units  :  83.24221573829841\n",
      "Variance Total Units       :  298.463635799853\n"
     ]
    }
   ],
   "source": [
    "v_sp = statistics.variance(df2['SALE PRICE'])\n",
    "print(\"Variance Sale Price        : \", v_sp)\n",
    "v_gsf = statistics.variance(df2['GROSS SQUARE FEET'])\n",
    "print(\"Variance Gross Square Feet : \", v_gsf)\n",
    "v_lsf = statistics.variance(df2['LAND SQUARE FEET'])\n",
    "print(\"Variance Land Square Feet  : \", v_lsf)\n",
    "v_ru = statistics.variance(df2['RESIDENTIAL UNITS'])\n",
    "print(\"Variance Residential Units : \", v_ru)\n",
    "v_cu = statistics.variance(df2['COMMERCIAL UNITS'])\n",
    "print(\"Variance Commercial Units  : \", v_cu)\n",
    "v_tu = statistics.variance(df2['TOTAL UNITS'])\n",
    "print(\"Variance Total Units       : \", v_tu)"
   ]
  },
  {
   "cell_type": "markdown",
   "id": "0118dd5d",
   "metadata": {},
   "source": [
    "### Standard Deviation"
   ]
  },
  {
   "cell_type": "code",
   "execution_count": 47,
   "id": "7aa42503",
   "metadata": {},
   "outputs": [
    {
     "name": "stdout",
     "output_type": "stream",
     "text": [
      "Standar Deviasi Sale Price :  11405255.345987333\n",
      "Standar Deviasi Gross Square Feet :  24481.058602336023\n",
      "Standar Deviasi Land Square Feet :  33704.822888937764\n",
      "Standar Deviasi Residential Units :  14.549544669116393\n",
      "Standar Deviasi Commercial Units :  9.123717210561626\n",
      "Standar Deviasi Total Units :  17.276100132838227\n"
     ]
    }
   ],
   "source": [
    "std_sp = statistics.stdev(df2['SALE PRICE'])\n",
    "print('Standar Deviasi Sale Price : ',std_sp)\n",
    "std_gsf = statistics.stdev(df2['GROSS SQUARE FEET'])\n",
    "print('Standar Deviasi Gross Square Feet : ',std_gsf)\n",
    "std_lsf = statistics.stdev(df2['LAND SQUARE FEET'])\n",
    "print('Standar Deviasi Land Square Feet : ',std_lsf)\n",
    "std_ru = statistics.stdev(df2['RESIDENTIAL UNITS'])\n",
    "print('Standar Deviasi Residential Units : ',std_ru)\n",
    "std_cu = statistics.stdev(df2['COMMERCIAL UNITS'])\n",
    "print('Standar Deviasi Commercial Units : ',std_cu)\n",
    "std_tu = statistics.stdev(df2['TOTAL UNITS'])\n",
    "print('Standar Deviasi Total Units : ',std_tu)"
   ]
  },
  {
   "cell_type": "markdown",
   "id": "1f0e6494",
   "metadata": {},
   "source": [
    "## Median Absolute Deviation"
   ]
  },
  {
   "cell_type": "code",
   "execution_count": 48,
   "id": "33273c23",
   "metadata": {},
   "outputs": [
    {
     "data": {
      "text/plain": [
       "518910.7764769607"
      ]
     },
     "execution_count": 48,
     "metadata": {},
     "output_type": "execute_result"
    }
   ],
   "source": [
    "from statsmodels import robust\n",
    "robust.mad(df2['SALE PRICE'])"
   ]
  },
  {
   "cell_type": "markdown",
   "id": "38c59236",
   "metadata": {},
   "source": [
    "## Normal Distribution in Statistics"
   ]
  },
  {
   "cell_type": "code",
   "execution_count": 49,
   "id": "3b80da34",
   "metadata": {},
   "outputs": [
    {
     "data": {
      "text/plain": [
       "<seaborn.axisgrid.FacetGrid at 0x2663960ab50>"
      ]
     },
     "execution_count": 49,
     "metadata": {},
     "output_type": "execute_result"
    },
    {
     "data": {
      "image/png": "[encoded data removed]",
      "text/plain": [
       "<Figure size 360x360 with 1 Axes>"
      ]
     },
     "metadata": {
      "needs_background": "light"
     },
     "output_type": "display_data"
    }
   ],
   "source": [
    "sns.displot(df2['SALE PRICE'], kde=True, rug=True)"
   ]
  },
  {
   "cell_type": "code",
   "execution_count": 50,
   "id": "05bbca98",
   "metadata": {},
   "outputs": [],
   "source": [
    "df2nd = df2[(df2['SALE PRICE']>10000) & (df2['SALE PRICE']<10000000)]"
   ]
  },
  {
   "cell_type": "code",
   "execution_count": 51,
   "id": "1492177d",
   "metadata": {},
   "outputs": [
    {
     "data": {
      "text/plain": [
       "<seaborn.axisgrid.FacetGrid at 0x26662aa3520>"
      ]
     },
     "execution_count": 51,
     "metadata": {},
     "output_type": "execute_result"
    },
    {
     "data": {
      "image/png": "[encoded data removed]",
      "text/plain": [
       "<Figure size 360x360 with 1 Axes>"
      ]
     },
     "metadata": {
      "needs_background": "light"
     },
     "output_type": "display_data"
    }
   ],
   "source": [
    "sns.displot(df2nd['SALE PRICE'], kde=True, rug=True)"
   ]
  },
  {
   "cell_type": "code",
   "execution_count": 52,
   "id": "bdbfc9d2",
   "metadata": {},
   "outputs": [
    {
     "name": "stderr",
     "output_type": "stream",
     "text": [
      "<ipython-input-52-202e8f9c098b>:1: SettingWithCopyWarning: \n",
      "A value is trying to be set on a copy of a slice from a DataFrame.\n",
      "Try using .loc[row_indexer,col_indexer] = value instead\n",
      "\n",
      "See the caveats in the documentation: https://pandas.pydata.org/pandas-docs/stable/user_guide/indexing.html#returning-a-view-versus-a-copy\n",
      "  df2nd['SALE PRICE'] = np.log(df2nd['SALE PRICE'])\n"
     ]
    }
   ],
   "source": [
    "df2nd['SALE PRICE'] = np.log(df2nd['SALE PRICE'])"
   ]
  },
  {
   "cell_type": "code",
   "execution_count": 56,
   "id": "e764b5b4",
   "metadata": {},
   "outputs": [
    {
     "data": {
      "text/plain": [
       "<seaborn.axisgrid.FacetGrid at 0x2668b66f970>"
      ]
     },
     "execution_count": 56,
     "metadata": {},
     "output_type": "execute_result"
    },
    {
     "data": {
      "image/png": "[encoded data removed]",
      "text/plain": [
       "<Figure size 360x360 with 1 Axes>"
      ]
     },
     "metadata": {
      "needs_background": "light"
     },
     "output_type": "display_data"
    }
   ],
   "source": [
    "sns.displot(df2nd['SALE PRICE'],kde=True, rug=True)"
   ]
  },
  {
   "cell_type": "markdown",
   "id": "b207ffb9",
   "metadata": {},
   "source": [
    "# Kesimpulan"
   ]
  },
  {
   "cell_type": "markdown",
   "id": "b5272de5",
   "metadata": {},
   "source": [
    "1. Measure of central tendencies\n",
    "- Mean Sale Price :  1276456.4977638705\n",
    "- Mean Sale Price dari setiap Borough:\n",
    "    Mean Manhattan : 3337951.2707943763\n",
    "    Mean Bronx : 590193.6434955313\n",
    "    Mean Brooklyn : 834488.3717719465\n",
    "    Mean Queens : 739908.6159102\n",
    "    Mean Staten Island : 543472.1102977874\n",
    "- Median Sale Price : 530000.0\n",
    "- Median Sale Price dari setiap Borough:\n",
    "    Median Manhattan : 1150000.0\n",
    "    Median Bronx : 270000.0\n",
    "    Median Brooklyn : 420000.0\n",
    "    Median Queens : 495000.0\n",
    "    Median Staten Island : 465000.0\n",
    "- Mode dari semua categorical data:\n",
    "    Mode Borough : Brooklyn\n",
    "    Mode Neighborhood : FLUSHING-NORTH\n",
    "    Mode Building Class Category : 01 ONE FAMILY DWELLINGS                    \n",
    "    Mode Building Class At Present : D4\n",
    "    Mode Building Class At Time Of Sale : D4\n",
    "    Mode Tax Class At Time Of Sale : 1\n",
    "    \n",
    "2. Measure of Spread\n",
    "- Range:\n",
    "    Range dari Sale Price:  2210000000.0\n",
    "    Range dari Gross Square Feet:  3750565.0\n",
    "    Range dari Land Square Feet:  4252327.0\n",
    "- Quartiles dari Sale Price:\n",
    "    Q1 Sale Price :  225000.0\n",
    "    Q2 Sale Price :  530000.0\n",
    "    Q3 Sale Price :  950000.0\n",
    "    Q4 Sale Price :  2210000000.0\n",
    "    IQR Sale Price :  725000.0\n",
    "- Variance:\n",
    "    Variance Sale Price        :  130079849507172.66\n",
    "    Variance Gross Square Feet :  599322230.2910105\n",
    "    Variance Land Square Feet  :  1136015085.9746628\n",
    "    Variance Residential Units :  211.68925007861327\n",
    "    Variance Commercial Units  :  83.24221573829841\n",
    "    Variance Total Units       :  298.463635799853\n",
    "- Standard Deviation:\n",
    "    Standar Deviasi Sale Price :  11405255.345987333\n",
    "    Standar Deviasi Gross Square Feet :  24481.058602336023\n",
    "    Standar Deviasi Land Square Feet :  33704.822888937764\n",
    "    Standar Deviasi Residential Units :  14.549544669116393\n",
    "    Standar Deviasi Commercial Units :  9.123717210561626\n",
    "    Standar Deviasi Total Units :  17.276100132838227\n",
    "- Median Absolute Deviation(MAD):\n",
    "    518910.7764769607"
   ]
  },
  {
   "cell_type": "code",
   "execution_count": null,
   "id": "f2eefc3d",
   "metadata": {},
   "outputs": [],
   "source": []
  }
 ],
 "metadata": {
  "kernelspec": {
   "display_name": "Python 3",
   "language": "python",
   "name": "python3"
  },
  "language_info": {
   "codemirror_mode": {
    "name": "ipython",
    "version": 3
   },
   "file_extension": ".py",
   "mimetype": "text/x-python",
   "name": "python",
   "nbconvert_exporter": "python",
   "pygments_lexer": "ipython3",
   "version": "3.8.8"
  }
 },
 "nbformat": 4,
 "nbformat_minor": 5
}
