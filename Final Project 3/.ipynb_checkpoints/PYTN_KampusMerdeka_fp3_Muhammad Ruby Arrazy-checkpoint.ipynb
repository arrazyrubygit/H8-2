{
 "cells": [
  {
   "cell_type": "markdown",
   "id": "90ad6a28",
   "metadata": {},
   "source": [
    "# FINAL PROJECT 3: ENSEMBLE"
   ]
  },
  {
   "cell_type": "markdown",
   "id": "cbfb65f3",
   "metadata": {},
   "source": [
    "## 1. Problem Statement:\n",
    "\n",
    "### Tujuan utama dari explorasi dataset heart_failure_clinical_records_dataset adalah menggunakan features yang ada pada dataset untuk melakukan klasifikasi apakah pasien tersebut keselamatan dari pasien pengidap gagal jantung"
   ]
  },
  {
   "cell_type": "markdown",
   "id": "f94df78b",
   "metadata": {},
   "source": [
    "## 2. Analytical Context:\n",
    "### Dataset rideshare_kaggle (https://www.kaggle.com/andrewmvd/heart-failure-clinical-data) memiliki 12 variables dan 299 baris. Metode Machine Learning yang digunakan adalah Ensemble seperti Random Forest dan Extratrees"
   ]
  },
  {
   "cell_type": "markdown",
   "id": "0a7b67ca",
   "metadata": {},
   "source": [
    "# 3. Importing Library dan Load Dataset"
   ]
  },
  {
   "cell_type": "code",
   "execution_count": 24,
   "id": "ab750b46",
   "metadata": {},
   "outputs": [],
   "source": [
    "import pandas as pd\n",
    "import numpy as np\n",
    "%matplotlib inline\n",
    "import matplotlib.pyplot as plt\n",
    "import seaborn as sns\n",
    "import plotly.figure_factory as ff\n",
    "import plotly.graph_objs as go"
   ]
  },
  {
   "cell_type": "code",
   "execution_count": 10,
   "id": "dfbbb390",
   "metadata": {},
   "outputs": [],
   "source": [
    "df = pd.read_csv('heart_failure_clinical_records_dataset.csv')"
   ]
  },
  {
   "cell_type": "markdown",
   "id": "7efc5fbd",
   "metadata": {},
   "source": [
    "# 4. EDA"
   ]
  },
  {
   "cell_type": "code",
   "execution_count": 11,
   "id": "d1c011f3",
   "metadata": {},
   "outputs": [
    {
     "data": {
      "text/html": [
       "<div>\n",
       "<style scoped>\n",
       "    .dataframe tbody tr th:only-of-type {\n",
       "        vertical-align: middle;\n",
       "    }\n",
       "\n",
       "    .dataframe tbody tr th {\n",
       "        vertical-align: top;\n",
       "    }\n",
       "\n",
       "    .dataframe thead th {\n",
       "        text-align: right;\n",
       "    }\n",
       "</style>\n",
       "<table border=\"1\" class=\"dataframe\">\n",
       "  <thead>\n",
       "    <tr style=\"text-align: right;\">\n",
       "      <th></th>\n",
       "      <th>age</th>\n",
       "      <th>anaemia</th>\n",
       "      <th>creatinine_phosphokinase</th>\n",
       "      <th>diabetes</th>\n",
       "      <th>ejection_fraction</th>\n",
       "      <th>high_blood_pressure</th>\n",
       "      <th>platelets</th>\n",
       "      <th>serum_creatinine</th>\n",
       "      <th>serum_sodium</th>\n",
       "      <th>sex</th>\n",
       "      <th>smoking</th>\n",
       "      <th>time</th>\n",
       "      <th>DEATH_EVENT</th>\n",
       "    </tr>\n",
       "  </thead>\n",
       "  <tbody>\n",
       "    <tr>\n",
       "      <th>0</th>\n",
       "      <td>75.0</td>\n",
       "      <td>0</td>\n",
       "      <td>582</td>\n",
       "      <td>0</td>\n",
       "      <td>20</td>\n",
       "      <td>1</td>\n",
       "      <td>265000.00</td>\n",
       "      <td>1.9</td>\n",
       "      <td>130</td>\n",
       "      <td>1</td>\n",
       "      <td>0</td>\n",
       "      <td>4</td>\n",
       "      <td>1</td>\n",
       "    </tr>\n",
       "    <tr>\n",
       "      <th>1</th>\n",
       "      <td>55.0</td>\n",
       "      <td>0</td>\n",
       "      <td>7861</td>\n",
       "      <td>0</td>\n",
       "      <td>38</td>\n",
       "      <td>0</td>\n",
       "      <td>263358.03</td>\n",
       "      <td>1.1</td>\n",
       "      <td>136</td>\n",
       "      <td>1</td>\n",
       "      <td>0</td>\n",
       "      <td>6</td>\n",
       "      <td>1</td>\n",
       "    </tr>\n",
       "    <tr>\n",
       "      <th>2</th>\n",
       "      <td>65.0</td>\n",
       "      <td>0</td>\n",
       "      <td>146</td>\n",
       "      <td>0</td>\n",
       "      <td>20</td>\n",
       "      <td>0</td>\n",
       "      <td>162000.00</td>\n",
       "      <td>1.3</td>\n",
       "      <td>129</td>\n",
       "      <td>1</td>\n",
       "      <td>1</td>\n",
       "      <td>7</td>\n",
       "      <td>1</td>\n",
       "    </tr>\n",
       "    <tr>\n",
       "      <th>3</th>\n",
       "      <td>50.0</td>\n",
       "      <td>1</td>\n",
       "      <td>111</td>\n",
       "      <td>0</td>\n",
       "      <td>20</td>\n",
       "      <td>0</td>\n",
       "      <td>210000.00</td>\n",
       "      <td>1.9</td>\n",
       "      <td>137</td>\n",
       "      <td>1</td>\n",
       "      <td>0</td>\n",
       "      <td>7</td>\n",
       "      <td>1</td>\n",
       "    </tr>\n",
       "    <tr>\n",
       "      <th>4</th>\n",
       "      <td>65.0</td>\n",
       "      <td>1</td>\n",
       "      <td>160</td>\n",
       "      <td>1</td>\n",
       "      <td>20</td>\n",
       "      <td>0</td>\n",
       "      <td>327000.00</td>\n",
       "      <td>2.7</td>\n",
       "      <td>116</td>\n",
       "      <td>0</td>\n",
       "      <td>0</td>\n",
       "      <td>8</td>\n",
       "      <td>1</td>\n",
       "    </tr>\n",
       "  </tbody>\n",
       "</table>\n",
       "</div>"
      ],
      "text/plain": [
       "    age  anaemia  creatinine_phosphokinase  diabetes  ejection_fraction  \\\n",
       "0  75.0        0                       582         0                 20   \n",
       "1  55.0        0                      7861         0                 38   \n",
       "2  65.0        0                       146         0                 20   \n",
       "3  50.0        1                       111         0                 20   \n",
       "4  65.0        1                       160         1                 20   \n",
       "\n",
       "   high_blood_pressure  platelets  serum_creatinine  serum_sodium  sex  \\\n",
       "0                    1  265000.00               1.9           130    1   \n",
       "1                    0  263358.03               1.1           136    1   \n",
       "2                    0  162000.00               1.3           129    1   \n",
       "3                    0  210000.00               1.9           137    1   \n",
       "4                    0  327000.00               2.7           116    0   \n",
       "\n",
       "   smoking  time  DEATH_EVENT  \n",
       "0        0     4            1  \n",
       "1        0     6            1  \n",
       "2        1     7            1  \n",
       "3        0     7            1  \n",
       "4        0     8            1  "
      ]
     },
     "execution_count": 11,
     "metadata": {},
     "output_type": "execute_result"
    }
   ],
   "source": [
    "df.head()"
   ]
  },
  {
   "cell_type": "code",
   "execution_count": 12,
   "id": "3cc767aa",
   "metadata": {
    "scrolled": true
   },
   "outputs": [
    {
     "name": "stdout",
     "output_type": "stream",
     "text": [
      "<class 'pandas.core.frame.DataFrame'>\n",
      "RangeIndex: 299 entries, 0 to 298\n",
      "Data columns (total 13 columns):\n",
      " #   Column                    Non-Null Count  Dtype  \n",
      "---  ------                    --------------  -----  \n",
      " 0   age                       299 non-null    float64\n",
      " 1   anaemia                   299 non-null    int64  \n",
      " 2   creatinine_phosphokinase  299 non-null    int64  \n",
      " 3   diabetes                  299 non-null    int64  \n",
      " 4   ejection_fraction         299 non-null    int64  \n",
      " 5   high_blood_pressure       299 non-null    int64  \n",
      " 6   platelets                 299 non-null    float64\n",
      " 7   serum_creatinine          299 non-null    float64\n",
      " 8   serum_sodium              299 non-null    int64  \n",
      " 9   sex                       299 non-null    int64  \n",
      " 10  smoking                   299 non-null    int64  \n",
      " 11  time                      299 non-null    int64  \n",
      " 12  DEATH_EVENT               299 non-null    int64  \n",
      "dtypes: float64(3), int64(10)\n",
      "memory usage: 30.5 KB\n"
     ]
    }
   ],
   "source": [
    "df.info()"
   ]
  },
  {
   "cell_type": "markdown",
   "id": "f183799e",
   "metadata": {},
   "source": [
    "Data bersih tanpa missing values dan teridir dari tipe data float64 dan int64"
   ]
  },
  {
   "cell_type": "code",
   "execution_count": 13,
   "id": "16a5031d",
   "metadata": {},
   "outputs": [
    {
     "data": {
      "text/html": [
       "<div>\n",
       "<style scoped>\n",
       "    .dataframe tbody tr th:only-of-type {\n",
       "        vertical-align: middle;\n",
       "    }\n",
       "\n",
       "    .dataframe tbody tr th {\n",
       "        vertical-align: top;\n",
       "    }\n",
       "\n",
       "    .dataframe thead th {\n",
       "        text-align: right;\n",
       "    }\n",
       "</style>\n",
       "<table border=\"1\" class=\"dataframe\">\n",
       "  <thead>\n",
       "    <tr style=\"text-align: right;\">\n",
       "      <th></th>\n",
       "      <th>age</th>\n",
       "      <th>anaemia</th>\n",
       "      <th>creatinine_phosphokinase</th>\n",
       "      <th>diabetes</th>\n",
       "      <th>ejection_fraction</th>\n",
       "      <th>high_blood_pressure</th>\n",
       "      <th>platelets</th>\n",
       "      <th>serum_creatinine</th>\n",
       "      <th>serum_sodium</th>\n",
       "      <th>sex</th>\n",
       "      <th>smoking</th>\n",
       "      <th>time</th>\n",
       "      <th>DEATH_EVENT</th>\n",
       "    </tr>\n",
       "  </thead>\n",
       "  <tbody>\n",
       "    <tr>\n",
       "      <th>count</th>\n",
       "      <td>299.000000</td>\n",
       "      <td>299.000000</td>\n",
       "      <td>299.000000</td>\n",
       "      <td>299.000000</td>\n",
       "      <td>299.000000</td>\n",
       "      <td>299.000000</td>\n",
       "      <td>299.000000</td>\n",
       "      <td>299.00000</td>\n",
       "      <td>299.000000</td>\n",
       "      <td>299.000000</td>\n",
       "      <td>299.00000</td>\n",
       "      <td>299.000000</td>\n",
       "      <td>299.00000</td>\n",
       "    </tr>\n",
       "    <tr>\n",
       "      <th>mean</th>\n",
       "      <td>60.833893</td>\n",
       "      <td>0.431438</td>\n",
       "      <td>581.839465</td>\n",
       "      <td>0.418060</td>\n",
       "      <td>38.083612</td>\n",
       "      <td>0.351171</td>\n",
       "      <td>263358.029264</td>\n",
       "      <td>1.39388</td>\n",
       "      <td>136.625418</td>\n",
       "      <td>0.648829</td>\n",
       "      <td>0.32107</td>\n",
       "      <td>130.260870</td>\n",
       "      <td>0.32107</td>\n",
       "    </tr>\n",
       "    <tr>\n",
       "      <th>std</th>\n",
       "      <td>11.894809</td>\n",
       "      <td>0.496107</td>\n",
       "      <td>970.287881</td>\n",
       "      <td>0.494067</td>\n",
       "      <td>11.834841</td>\n",
       "      <td>0.478136</td>\n",
       "      <td>97804.236869</td>\n",
       "      <td>1.03451</td>\n",
       "      <td>4.412477</td>\n",
       "      <td>0.478136</td>\n",
       "      <td>0.46767</td>\n",
       "      <td>77.614208</td>\n",
       "      <td>0.46767</td>\n",
       "    </tr>\n",
       "    <tr>\n",
       "      <th>min</th>\n",
       "      <td>40.000000</td>\n",
       "      <td>0.000000</td>\n",
       "      <td>23.000000</td>\n",
       "      <td>0.000000</td>\n",
       "      <td>14.000000</td>\n",
       "      <td>0.000000</td>\n",
       "      <td>25100.000000</td>\n",
       "      <td>0.50000</td>\n",
       "      <td>113.000000</td>\n",
       "      <td>0.000000</td>\n",
       "      <td>0.00000</td>\n",
       "      <td>4.000000</td>\n",
       "      <td>0.00000</td>\n",
       "    </tr>\n",
       "    <tr>\n",
       "      <th>25%</th>\n",
       "      <td>51.000000</td>\n",
       "      <td>0.000000</td>\n",
       "      <td>116.500000</td>\n",
       "      <td>0.000000</td>\n",
       "      <td>30.000000</td>\n",
       "      <td>0.000000</td>\n",
       "      <td>212500.000000</td>\n",
       "      <td>0.90000</td>\n",
       "      <td>134.000000</td>\n",
       "      <td>0.000000</td>\n",
       "      <td>0.00000</td>\n",
       "      <td>73.000000</td>\n",
       "      <td>0.00000</td>\n",
       "    </tr>\n",
       "    <tr>\n",
       "      <th>50%</th>\n",
       "      <td>60.000000</td>\n",
       "      <td>0.000000</td>\n",
       "      <td>250.000000</td>\n",
       "      <td>0.000000</td>\n",
       "      <td>38.000000</td>\n",
       "      <td>0.000000</td>\n",
       "      <td>262000.000000</td>\n",
       "      <td>1.10000</td>\n",
       "      <td>137.000000</td>\n",
       "      <td>1.000000</td>\n",
       "      <td>0.00000</td>\n",
       "      <td>115.000000</td>\n",
       "      <td>0.00000</td>\n",
       "    </tr>\n",
       "    <tr>\n",
       "      <th>75%</th>\n",
       "      <td>70.000000</td>\n",
       "      <td>1.000000</td>\n",
       "      <td>582.000000</td>\n",
       "      <td>1.000000</td>\n",
       "      <td>45.000000</td>\n",
       "      <td>1.000000</td>\n",
       "      <td>303500.000000</td>\n",
       "      <td>1.40000</td>\n",
       "      <td>140.000000</td>\n",
       "      <td>1.000000</td>\n",
       "      <td>1.00000</td>\n",
       "      <td>203.000000</td>\n",
       "      <td>1.00000</td>\n",
       "    </tr>\n",
       "    <tr>\n",
       "      <th>max</th>\n",
       "      <td>95.000000</td>\n",
       "      <td>1.000000</td>\n",
       "      <td>7861.000000</td>\n",
       "      <td>1.000000</td>\n",
       "      <td>80.000000</td>\n",
       "      <td>1.000000</td>\n",
       "      <td>850000.000000</td>\n",
       "      <td>9.40000</td>\n",
       "      <td>148.000000</td>\n",
       "      <td>1.000000</td>\n",
       "      <td>1.00000</td>\n",
       "      <td>285.000000</td>\n",
       "      <td>1.00000</td>\n",
       "    </tr>\n",
       "  </tbody>\n",
       "</table>\n",
       "</div>"
      ],
      "text/plain": [
       "              age     anaemia  creatinine_phosphokinase    diabetes  \\\n",
       "count  299.000000  299.000000                299.000000  299.000000   \n",
       "mean    60.833893    0.431438                581.839465    0.418060   \n",
       "std     11.894809    0.496107                970.287881    0.494067   \n",
       "min     40.000000    0.000000                 23.000000    0.000000   \n",
       "25%     51.000000    0.000000                116.500000    0.000000   \n",
       "50%     60.000000    0.000000                250.000000    0.000000   \n",
       "75%     70.000000    1.000000                582.000000    1.000000   \n",
       "max     95.000000    1.000000               7861.000000    1.000000   \n",
       "\n",
       "       ejection_fraction  high_blood_pressure      platelets  \\\n",
       "count         299.000000           299.000000     299.000000   \n",
       "mean           38.083612             0.351171  263358.029264   \n",
       "std            11.834841             0.478136   97804.236869   \n",
       "min            14.000000             0.000000   25100.000000   \n",
       "25%            30.000000             0.000000  212500.000000   \n",
       "50%            38.000000             0.000000  262000.000000   \n",
       "75%            45.000000             1.000000  303500.000000   \n",
       "max            80.000000             1.000000  850000.000000   \n",
       "\n",
       "       serum_creatinine  serum_sodium         sex    smoking        time  \\\n",
       "count         299.00000    299.000000  299.000000  299.00000  299.000000   \n",
       "mean            1.39388    136.625418    0.648829    0.32107  130.260870   \n",
       "std             1.03451      4.412477    0.478136    0.46767   77.614208   \n",
       "min             0.50000    113.000000    0.000000    0.00000    4.000000   \n",
       "25%             0.90000    134.000000    0.000000    0.00000   73.000000   \n",
       "50%             1.10000    137.000000    1.000000    0.00000  115.000000   \n",
       "75%             1.40000    140.000000    1.000000    1.00000  203.000000   \n",
       "max             9.40000    148.000000    1.000000    1.00000  285.000000   \n",
       "\n",
       "       DEATH_EVENT  \n",
       "count    299.00000  \n",
       "mean       0.32107  \n",
       "std        0.46767  \n",
       "min        0.00000  \n",
       "25%        0.00000  \n",
       "50%        0.00000  \n",
       "75%        1.00000  \n",
       "max        1.00000  "
      ]
     },
     "execution_count": 13,
     "metadata": {},
     "output_type": "execute_result"
    }
   ],
   "source": [
    "df.describe()"
   ]
  },
  {
   "cell_type": "markdown",
   "id": "297d1164",
   "metadata": {},
   "source": [
    "### Melihat korelasi antar features"
   ]
  },
  {
   "cell_type": "code",
   "execution_count": 14,
   "id": "58afe694",
   "metadata": {
    "scrolled": false
   },
   "outputs": [
    {
     "data": {
      "text/plain": [
       "<AxesSubplot:>"
      ]
     },
     "execution_count": 14,
     "metadata": {},
     "output_type": "execute_result"
    },
    {
     "data": {
      "image/png": "[encoded data removed]",
      "text/plain": [
       "<Figure size 1080x576 with 2 Axes>"
      ]
     },
     "metadata": {
      "needs_background": "light"
     },
     "output_type": "display_data"
    }
   ],
   "source": [
    "plt.figure(figsize=(15,8))\n",
    "sns.heatmap(df.corr())"
   ]
  },
  {
   "cell_type": "code",
   "execution_count": 15,
   "id": "af1a7caa",
   "metadata": {},
   "outputs": [
    {
     "data": {
      "text/plain": [
       "DEATH_EVENT                 1.000000\n",
       "serum_creatinine            0.294278\n",
       "age                         0.253729\n",
       "high_blood_pressure         0.079351\n",
       "anaemia                     0.066270\n",
       "creatinine_phosphokinase    0.062728\n",
       "diabetes                   -0.001943\n",
       "sex                        -0.004316\n",
       "smoking                    -0.012623\n",
       "platelets                  -0.049139\n",
       "serum_sodium               -0.195204\n",
       "ejection_fraction          -0.268603\n",
       "time                       -0.526964\n",
       "Name: DEATH_EVENT, dtype: float64"
      ]
     },
     "execution_count": 15,
     "metadata": {},
     "output_type": "execute_result"
    }
   ],
   "source": [
    "df.corr()['DEATH_EVENT'].sort_values(ascending=False)"
   ]
  },
  {
   "cell_type": "markdown",
   "id": "98b0829b",
   "metadata": {},
   "source": [
    "Urutan features yang memilki korelasi tinggi dengan death event"
   ]
  },
  {
   "cell_type": "markdown",
   "id": "246675a7",
   "metadata": {},
   "source": [
    "## Visualisasi dari Numerical Features"
   ]
  },
  {
   "cell_type": "code",
   "execution_count": 16,
   "id": "204a7c09",
   "metadata": {
    "scrolled": true
   },
   "outputs": [
    {
     "name": "stderr",
     "output_type": "stream",
     "text": [
      "C:\\Users\\rromy\\anaconda3\\lib\\site-packages\\seaborn\\distributions.py:2557: FutureWarning: `distplot` is a deprecated function and will be removed in a future version. Please adapt your code to use either `displot` (a figure-level function with similar flexibility) or `histplot` (an axes-level function for histograms).\n",
      "  warnings.warn(msg, FutureWarning)\n",
      "C:\\Users\\rromy\\anaconda3\\lib\\site-packages\\seaborn\\distributions.py:2557: FutureWarning: `distplot` is a deprecated function and will be removed in a future version. Please adapt your code to use either `displot` (a figure-level function with similar flexibility) or `histplot` (an axes-level function for histograms).\n",
      "  warnings.warn(msg, FutureWarning)\n",
      "C:\\Users\\rromy\\anaconda3\\lib\\site-packages\\seaborn\\distributions.py:2557: FutureWarning: `distplot` is a deprecated function and will be removed in a future version. Please adapt your code to use either `displot` (a figure-level function with similar flexibility) or `histplot` (an axes-level function for histograms).\n",
      "  warnings.warn(msg, FutureWarning)\n",
      "C:\\Users\\rromy\\anaconda3\\lib\\site-packages\\seaborn\\distributions.py:2557: FutureWarning: `distplot` is a deprecated function and will be removed in a future version. Please adapt your code to use either `displot` (a figure-level function with similar flexibility) or `histplot` (an axes-level function for histograms).\n",
      "  warnings.warn(msg, FutureWarning)\n",
      "C:\\Users\\rromy\\anaconda3\\lib\\site-packages\\seaborn\\distributions.py:2557: FutureWarning: `distplot` is a deprecated function and will be removed in a future version. Please adapt your code to use either `displot` (a figure-level function with similar flexibility) or `histplot` (an axes-level function for histograms).\n",
      "  warnings.warn(msg, FutureWarning)\n",
      "C:\\Users\\rromy\\anaconda3\\lib\\site-packages\\seaborn\\distributions.py:2557: FutureWarning: `distplot` is a deprecated function and will be removed in a future version. Please adapt your code to use either `displot` (a figure-level function with similar flexibility) or `histplot` (an axes-level function for histograms).\n",
      "  warnings.warn(msg, FutureWarning)\n",
      "C:\\Users\\rromy\\anaconda3\\lib\\site-packages\\seaborn\\distributions.py:2557: FutureWarning: `distplot` is a deprecated function and will be removed in a future version. Please adapt your code to use either `displot` (a figure-level function with similar flexibility) or `histplot` (an axes-level function for histograms).\n",
      "  warnings.warn(msg, FutureWarning)\n",
      "C:\\Users\\rromy\\anaconda3\\lib\\site-packages\\seaborn\\distributions.py:2557: FutureWarning: `distplot` is a deprecated function and will be removed in a future version. Please adapt your code to use either `displot` (a figure-level function with similar flexibility) or `histplot` (an axes-level function for histograms).\n",
      "  warnings.warn(msg, FutureWarning)\n",
      "C:\\Users\\rromy\\anaconda3\\lib\\site-packages\\seaborn\\distributions.py:2557: FutureWarning: `distplot` is a deprecated function and will be removed in a future version. Please adapt your code to use either `displot` (a figure-level function with similar flexibility) or `histplot` (an axes-level function for histograms).\n",
      "  warnings.warn(msg, FutureWarning)\n",
      "C:\\Users\\rromy\\anaconda3\\lib\\site-packages\\seaborn\\distributions.py:2557: FutureWarning: `distplot` is a deprecated function and will be removed in a future version. Please adapt your code to use either `displot` (a figure-level function with similar flexibility) or `histplot` (an axes-level function for histograms).\n",
      "  warnings.warn(msg, FutureWarning)\n",
      "C:\\Users\\rromy\\anaconda3\\lib\\site-packages\\seaborn\\distributions.py:2557: FutureWarning: `distplot` is a deprecated function and will be removed in a future version. Please adapt your code to use either `displot` (a figure-level function with similar flexibility) or `histplot` (an axes-level function for histograms).\n",
      "  warnings.warn(msg, FutureWarning)\n",
      "C:\\Users\\rromy\\anaconda3\\lib\\site-packages\\seaborn\\distributions.py:2557: FutureWarning: `distplot` is a deprecated function and will be removed in a future version. Please adapt your code to use either `displot` (a figure-level function with similar flexibility) or `histplot` (an axes-level function for histograms).\n",
      "  warnings.warn(msg, FutureWarning)\n"
     ]
    },
    {
     "data": {
      "image/png": "[encoded data removed]",
      "text/plain": [
       "<Figure size 1440x1800 with 12 Axes>"
      ]
     },
     "metadata": {
      "needs_background": "light"
     },
     "output_type": "display_data"
    }
   ],
   "source": [
    "plt.figure(figsize = (20, 25))\n",
    "feature_num = 1\n",
    "for i in df:\n",
    "    if feature_num < 13:\n",
    "        ax = plt.subplot(4, 4, feature_num)\n",
    "        sns.distplot(df[i])\n",
    "        plt.xlabel(i, fontsize = 12)\n",
    "        \n",
    "    feature_num += 1\n",
    "plt.show()"
   ]
  },
  {
   "cell_type": "code",
   "execution_count": 17,
   "id": "77f59be3",
   "metadata": {
    "scrolled": true
   },
   "outputs": [
    {
     "data": {
      "text/plain": [
       "(299, 13)"
      ]
     },
     "execution_count": 17,
     "metadata": {},
     "output_type": "execute_result"
    }
   ],
   "source": [
    "df.shape"
   ]
  },
  {
   "cell_type": "markdown",
   "id": "06025298",
   "metadata": {},
   "source": [
    "### Melihat hubungan umur dan jenis kelamin sebagai salah satu faktor Death Event"
   ]
  },
  {
   "cell_type": "code",
   "execution_count": 22,
   "id": "94f7b608",
   "metadata": {},
   "outputs": [
    {
     "data": {
      "application/vnd.plotly.v1+json": {
       "config": {
        "plotlyServerURL": "https://plot.ly"
       },
       "data": [
        {
         "autobinx": false,
         "histnorm": "probability density",
         "legendgroup": "age",
         "marker": {
          "color": "rgb(31, 119, 180)"
         },
         "name": "age",
         "opacity": 0.7,
         "type": "histogram",
         "x": [
          75,
          55,
          65,
          50,
          65,
          90,
          75,
          60,
          65,
          80,
          75,
          62,
          45,
          50,
          49,
          82,
          87,
          45,
          70,
          48,
          65,
          65,
          68,
          53,
          75,
          80,
          95,
          70,
          58,
          82,
          94,
          85,
          50,
          50,
          65,
          69,
          90,
          82,
          60,
          60,
          70,
          50,
          70,
          72,
          60,
          50,
          51,
          60,
          80,
          57,
          68,
          53,
          60,
          70,
          60,
          95,
          70,
          60,
          49,
          72,
          45,
          50,
          55,
          45,
          45,
          60,
          42,
          72,
          70,
          65,
          41,
          58,
          85,
          65,
          69,
          60,
          70,
          42,
          75,
          55,
          70,
          67,
          60,
          79,
          59,
          51,
          55,
          65,
          44,
          57,
          70,
          60,
          42,
          60,
          58,
          58,
          63,
          70,
          60,
          63,
          65,
          75,
          80,
          42,
          60,
          72,
          55,
          45,
          63,
          45,
          85,
          55,
          50,
          70,
          60,
          58,
          60,
          85,
          65,
          86,
          60,
          66,
          60,
          60,
          60,
          43,
          46,
          58,
          61,
          53,
          53,
          60,
          46,
          63,
          81,
          75,
          65,
          68,
          62,
          50,
          80,
          46,
          50,
          61,
          72,
          50,
          52,
          64,
          75,
          60,
          72,
          62,
          50,
          50,
          65,
          60,
          52,
          50,
          85,
          59,
          66,
          45,
          63,
          50,
          45,
          80,
          53,
          59,
          65,
          70,
          51,
          52,
          70,
          50,
          65,
          60,
          69,
          49,
          63,
          55,
          40,
          59,
          65,
          75,
          58,
          60.667,
          50,
          60,
          60.667,
          40,
          80,
          64,
          50,
          73,
          45,
          77,
          45,
          65,
          50,
          60,
          63,
          45,
          70,
          60,
          78,
          50,
          40,
          85,
          60,
          49,
          70,
          50,
          78,
          48,
          65,
          73,
          70,
          54,
          68,
          55,
          73,
          65,
          42,
          47,
          58,
          75,
          58,
          55,
          65,
          72,
          60,
          70,
          40,
          53,
          53,
          77,
          75,
          70,
          65,
          55,
          70,
          65,
          40,
          73,
          54,
          61,
          55,
          64,
          40,
          53,
          50,
          55,
          50,
          70,
          53,
          52,
          65,
          58,
          45,
          53,
          55,
          62,
          65,
          68,
          61,
          50,
          55,
          56,
          45,
          40,
          44,
          51,
          67,
          42,
          60,
          45,
          70,
          70,
          50,
          55,
          70,
          70,
          42,
          65,
          50,
          55,
          60,
          45,
          65,
          90,
          45,
          60,
          52,
          63,
          62,
          55,
          45,
          45,
          50
         ],
         "xaxis": "x",
         "xbins": {
          "end": 95,
          "size": 1,
          "start": 40
         },
         "yaxis": "y"
        },
        {
         "legendgroup": "age",
         "marker": {
          "color": "rgb(31, 119, 180)"
         },
         "mode": "lines",
         "name": "age",
         "showlegend": false,
         "type": "scatter",
         "x": [
          40,
          40.11,
          40.22,
          40.33,
          40.44,
          40.55,
          40.66,
          40.77,
          40.88,
          40.99,
          41.1,
          41.21,
          41.32,
          41.43,
          41.54,
          41.65,
          41.76,
          41.87,
          41.98,
          42.09,
          42.2,
          42.31,
          42.42,
          42.53,
          42.64,
          42.75,
          42.86,
          42.97,
          43.08,
          43.19,
          43.3,
          43.41,
          43.52,
          43.63,
          43.74,
          43.85,
          43.96,
          44.07,
          44.18,
          44.29,
          44.4,
          44.51,
          44.62,
          44.730000000000004,
          44.84,
          44.95,
          45.06,
          45.17,
          45.28,
          45.39,
          45.5,
          45.61,
          45.72,
          45.83,
          45.94,
          46.05,
          46.16,
          46.269999999999996,
          46.38,
          46.49,
          46.6,
          46.71,
          46.82,
          46.93,
          47.04,
          47.15,
          47.26,
          47.37,
          47.480000000000004,
          47.59,
          47.7,
          47.81,
          47.92,
          48.03,
          48.14,
          48.25,
          48.36,
          48.47,
          48.58,
          48.69,
          48.8,
          48.91,
          49.019999999999996,
          49.13,
          49.24,
          49.35,
          49.46,
          49.57,
          49.68,
          49.79,
          49.9,
          50.01,
          50.12,
          50.230000000000004,
          50.34,
          50.45,
          50.56,
          50.67,
          50.78,
          50.89,
          51,
          51.11,
          51.22,
          51.33,
          51.44,
          51.55,
          51.66,
          51.769999999999996,
          51.88,
          51.99,
          52.1,
          52.21,
          52.32,
          52.43,
          52.54,
          52.65,
          52.76,
          52.87,
          52.980000000000004,
          53.09,
          53.2,
          53.31,
          53.42,
          53.53,
          53.64,
          53.75,
          53.86,
          53.97,
          54.08,
          54.19,
          54.3,
          54.41,
          54.519999999999996,
          54.63,
          54.74,
          54.85,
          54.96,
          55.07,
          55.18,
          55.29,
          55.4,
          55.51,
          55.62,
          55.730000000000004,
          55.84,
          55.95,
          56.06,
          56.17,
          56.28,
          56.39,
          56.5,
          56.61,
          56.72,
          56.83,
          56.94,
          57.05,
          57.16,
          57.269999999999996,
          57.379999999999995,
          57.489999999999995,
          57.6,
          57.71,
          57.82,
          57.93,
          58.04,
          58.15,
          58.260000000000005,
          58.370000000000005,
          58.480000000000004,
          58.59,
          58.7,
          58.81,
          58.92,
          59.03,
          59.14,
          59.25,
          59.36,
          59.47,
          59.58,
          59.69,
          59.8,
          59.91,
          60.019999999999996,
          60.129999999999995,
          60.239999999999995,
          60.35,
          60.46,
          60.57,
          60.68,
          60.79,
          60.9,
          61.010000000000005,
          61.120000000000005,
          61.230000000000004,
          61.34,
          61.45,
          61.56,
          61.67,
          61.78,
          61.89,
          62,
          62.11,
          62.22,
          62.33,
          62.44,
          62.55,
          62.66,
          62.769999999999996,
          62.879999999999995,
          62.989999999999995,
          63.1,
          63.21,
          63.32,
          63.43,
          63.54,
          63.65,
          63.760000000000005,
          63.870000000000005,
          63.980000000000004,
          64.09,
          64.2,
          64.31,
          64.42,
          64.53,
          64.64,
          64.75,
          64.86,
          64.97,
          65.08,
          65.19,
          65.3,
          65.41,
          65.52,
          65.63,
          65.74,
          65.85,
          65.96000000000001,
          66.07,
          66.18,
          66.28999999999999,
          66.4,
          66.51,
          66.62,
          66.73,
          66.84,
          66.95,
          67.06,
          67.17,
          67.28,
          67.39,
          67.5,
          67.61,
          67.72,
          67.83,
          67.94,
          68.05,
          68.16,
          68.27,
          68.38,
          68.49,
          68.6,
          68.71000000000001,
          68.82,
          68.93,
          69.03999999999999,
          69.15,
          69.26,
          69.37,
          69.48,
          69.59,
          69.7,
          69.81,
          69.92,
          70.03,
          70.14,
          70.25,
          70.36,
          70.47,
          70.58,
          70.69,
          70.8,
          70.91,
          71.02,
          71.13,
          71.24,
          71.35,
          71.46000000000001,
          71.57,
          71.68,
          71.78999999999999,
          71.9,
          72.00999999999999,
          72.12,
          72.22999999999999,
          72.34,
          72.45,
          72.56,
          72.67,
          72.78,
          72.89,
          73,
          73.11,
          73.22,
          73.33,
          73.44,
          73.55,
          73.66,
          73.77000000000001,
          73.88,
          73.99000000000001,
          74.1,
          74.21000000000001,
          74.32,
          74.43,
          74.53999999999999,
          74.65,
          74.75999999999999,
          74.87,
          74.97999999999999,
          75.09,
          75.2,
          75.31,
          75.42,
          75.53,
          75.64,
          75.75,
          75.86,
          75.97,
          76.08,
          76.19,
          76.3,
          76.41,
          76.52000000000001,
          76.63,
          76.74000000000001,
          76.85,
          76.96000000000001,
          77.07,
          77.18,
          77.28999999999999,
          77.4,
          77.50999999999999,
          77.62,
          77.72999999999999,
          77.84,
          77.95,
          78.06,
          78.17,
          78.28,
          78.39,
          78.5,
          78.61,
          78.72,
          78.83,
          78.94,
          79.05,
          79.16,
          79.27000000000001,
          79.38,
          79.49000000000001,
          79.6,
          79.71000000000001,
          79.82,
          79.93,
          80.03999999999999,
          80.15,
          80.25999999999999,
          80.37,
          80.47999999999999,
          80.59,
          80.7,
          80.81,
          80.92,
          81.03,
          81.14,
          81.25,
          81.36,
          81.47,
          81.58,
          81.69,
          81.8,
          81.91,
          82.02000000000001,
          82.13,
          82.24000000000001,
          82.35,
          82.46000000000001,
          82.57,
          82.68,
          82.78999999999999,
          82.9,
          83.00999999999999,
          83.12,
          83.22999999999999,
          83.34,
          83.45,
          83.56,
          83.67,
          83.78,
          83.89,
          84,
          84.11,
          84.22,
          84.33,
          84.44,
          84.55,
          84.66,
          84.77000000000001,
          84.88,
          84.99000000000001,
          85.1,
          85.21000000000001,
          85.32,
          85.43,
          85.53999999999999,
          85.65,
          85.75999999999999,
          85.87,
          85.97999999999999,
          86.09,
          86.2,
          86.31,
          86.42,
          86.53,
          86.64,
          86.75,
          86.86,
          86.97,
          87.08,
          87.19,
          87.3,
          87.41,
          87.52000000000001,
          87.63,
          87.74000000000001,
          87.85,
          87.96000000000001,
          88.07,
          88.18,
          88.28999999999999,
          88.4,
          88.50999999999999,
          88.62,
          88.72999999999999,
          88.84,
          88.95,
          89.06,
          89.17,
          89.28,
          89.39,
          89.5,
          89.61,
          89.72,
          89.83,
          89.94,
          90.05,
          90.16,
          90.27000000000001,
          90.38,
          90.49000000000001,
          90.6,
          90.71000000000001,
          90.82,
          90.93,
          91.03999999999999,
          91.15,
          91.25999999999999,
          91.37,
          91.47999999999999,
          91.59,
          91.7,
          91.81,
          91.92,
          92.03,
          92.14,
          92.25,
          92.36,
          92.47,
          92.58,
          92.69,
          92.8,
          92.91,
          93.02000000000001,
          93.13,
          93.24000000000001,
          93.35,
          93.46000000000001,
          93.57,
          93.68,
          93.78999999999999,
          93.9,
          94.00999999999999,
          94.12,
          94.22999999999999,
          94.34,
          94.45,
          94.56,
          94.67,
          94.78,
          94.89
         ],
         "xaxis": "x",
         "y": [
          0.009278580261905384,
          0.0094938463446575,
          0.009709942017945495,
          0.009926756744584264,
          0.010144180923897348,
          0.010362106165255599,
          0.010580425557159689,
          0.010799033930689383,
          0.011017828116131665,
          0.011236707191591193,
          0.011455572722384,
          0.011674328990017607,
          0.011892883209567724,
          0.012111145734276236,
          0.012329030246215258,
          0.012546453931888775,
          0.012763337641678352,
          0.012979606032081831,
          0.013195187689743742,
          0.013410015236335695,
          0.013624025413411553,
          0.013837159146439872,
          0.014049361587299726,
          0.01426058213462163,
          0.014470774431457532,
          0.014679896339876555,
          0.014887909892202802,
          0.015094781218740527,
          0.015300480451968345,
          0.01550498160732627,
          0.015708262440870466,
          0.01591030428422435,
          0.01611109185741427,
          0.01631061306034132,
          0.016508858743806334,
          0.016705822461170507,
          0.01690150020190048,
          0.017095890108411515,
          0.017288992177782837,
          0.017480807950075228,
          0.017671340185131588,
          0.017860592529883406,
          0.018048569178316758,
          0.018235274526376036,
          0.018420712824188782,
          0.018604887828092793,
          0.018787802455023078,
          0.01896945844188089,
          0.019149856012548677,
          0.019328993555241654,
          0.01950686731289016,
          0.019683471089231012,
          0.019858795973248702,
          0.020032830084546285,
          0.02020555834214575,
          0.02037696225911062,
          0.020547019765259855,
          0.020715705060092387,
          0.020882988497873026,
          0.021048836506641345,
          0.021213211542696026,
          0.021376072081882334,
          0.021537372648764957,
          0.021697063884514027,
          0.021855092654058352,
          0.022011402192781488,
          0.02216593229274253,
          0.02231861952810981,
          0.022469397519190897,
          0.02261819723414251,
          0.022764947327138935,
          0.022909574511478403,
          0.023052003965815384,
          0.02319215977141755,
          0.02332996537807535,
          0.02346534409602645,
          0.023598219611014146,
          0.02372851651936785,
          0.023856160879784594,
          0.023981080778304475,
          0.024103206902805898,
          0.02422247312320875,
          0.024338817073458682,
          0.024452180731279916,
          0.024562510991625954,
          0.02466976022972639,
          0.024773886849630302,
          0.024874855814173223,
          0.024972639152355116,
          0.02506721644020211,
          0.025158575251302762,
          0.025246711573351798,
          0.0253316301872051,
          0.025413345005145905,
          0.025491879365282372,
          0.025567266279239227,
          0.02563954863057085,
          0.025708779321605993,
          0.025775021366734527,
          0.025838347930462264,
          0.025898842308888437,
          0.02595659785359945,
          0.026011717837320314,
          0.026064315261018954,
          0.026114512602515773,
          0.026162441507011684,
          0.026208242420302764,
          0.026252064165808626,
          0.026294063466890324,
          0.02633440441627337,
          0.02637325789472914,
          0.026410800941486096,
          0.02644721607914996,
          0.026482690596207663,
          0.02651741579046128,
          0.026551586177000458,
          0.02658539866455349,
          0.026619051704278543,
          0.02665274441524492,
          0.02668667569102916,
          0.02672104329199035,
          0.02675604292791466,
          0.026791867335808132,
          0.02682870535768781,
          0.02686674102325875,
          0.026906152642380107,
          0.026947111912206924,
          0.026989783043853792,
          0.02703432191335856,
          0.027080875241625262,
          0.027129579807906357,
          0.027180561701233154,
          0.02723393561403056,
          0.027289804181952638,
          0.027348257373752936,
          0.027409371934759747,
          0.027473210887256398,
          0.02753982309078393,
          0.027609242865073023,
          0.02768148967799341,
          0.02775656790056619,
          0.02783446663073456,
          0.02791515958722357,
          0.02799860507444367,
          0.02808474601901188,
          0.028173510078075777,
          0.02826480981923451,
          0.02835854297145724,
          0.02845459274600961,
          0.02855282822600891,
          0.02865310482285001,
          0.028755264797366065,
          0.028859137843230714,
          0.028964541729754448,
          0.029071283000898594,
          0.029179157727009474,
          0.029287952305484196,
          0.029397444306302863,
          0.029507403358112666,
          0.029617592070326104,
          0.029727766986498236,
          0.029837679564080753,
          0.02994707717551278,
          0.030055704125503055,
          0.030163302679281266,
          0.030269614096558376,
          0.03037437966592311,
          0.03047734173442865,
          0.03057824472717848,
          0.030676836151810397,
          0.030772867582898714,
          0.030866095621444253,
          0.030956282824804372,
          0.03104319860262321,
          0.031126620074554436,
          0.031206332885835027,
          0.031282131977039065,
          0.03135382230465307,
          0.031421219509424766,
          0.03148415052977618,
          0.03154245415791434,
          0.03159598153663014,
          0.03164459659514011,
          0.03168817642268719,
          0.031726611578989865,
          0.031759806340990133,
          0.03178767888571526,
          0.031810161409422034,
          0.031827200183536956,
          0.03183875554824023,
          0.031844801844859535,
          0.031845327288545756,
          0.031840333782985314,
          0.031829836679173225,
          0.031813864480514834,
          0.03179245849674978,
          0.031765672449392324,
          0.0317335720315596,
          0.03169623442521679,
          0.0316537477789949,
          0.031606210649847255,
          0.031553731411892376,
          0.031496427635854606,
          0.03143442544254776,
          0.031367858833871734,
          0.03129686900478313,
          0.031221603639684948,
          0.03114221619663816,
          0.031058865182745993,
          0.03097171342399218,
          0.030880927332730897,
          0.030786676175934155,
          0.0306891313471994,
          0.03058846564540762,
          0.03048485256280277,
          0.030378465585143836,
          0.03026947750644809,
          0.030158059760716206,
          0.03004438177289864,
          0.029928610331226773,
          0.02981090898290241,
          0.029691437455007647,
          0.029570351102362915,
          0.029447800383938343,
          0.02932393036929374,
          0.0291988802763988,
          0.02907278304206635,
          0.028945764926109292,
          0.02881794515021735,
          0.028689435572433166,
          0.028560340397992715,
          0.028430755927186375,
          0.028300770340778054,
          0.02817046352341414,
          0.028039906925336096,
          0.0279091634626016,
          0.027778287455897874,
          0.027647324607921093,
          0.02751631201916986,
          0.027385278241884064,
          0.027254243371731258,
          0.027123219176722273,
          0.026992209262699764,
          0.02686120927461879,
          0.026730207132698684,
          0.026599183302391218,
          0.026468111096973366,
          0.02633695701143171,
          0.026205681086169542,
          0.026074237298930644,
          0.0259425739831961,
          0.02581063427117978,
          0.02567835655942136,
          0.025545674994847875,
          0.025412519979064734,
          0.025278818688522844,
          0.025144495608113025,
          0.025009473075645803,
          0.0248736718346006,
          0.024737011592458107,
          0.024599411581882936,
          0.02446079112198086,
          0.024321070176837916,
          0.02418016990853795,
          0.024038013221870932,
          0.023894525297967442,
          0.02374963411414364,
          0.023603270947301892,
          0.023455370858312247,
          0.02330587315489988,
          0.023154721830673186,
          0.02300186597806304,
          0.022847260173083653,
          0.022690864829991067,
          0.02253264652408357,
          0.022372578281078845,
          0.022210639831695272,
          0.0220468178302722,
          0.021881106036477763,
          0.021713505459371618,
          0.021544024463313303,
          0.021372678835435796,
          0.021199491814628654,
          0.0210244940822025,
          0.020847723714631165,
          0.020669226098985926,
          0.020489053811889955,
          0.02030726646302652,
          0.020123930504430263,
          0.019939119006977875,
          0.019752911405665315,
          0.01956539321542272,
          0.019376655719360945,
          0.019186795631478584,
          0.018995914735969288,
          0.0188041195053748,
          0.01861152069990388,
          0.01841823295031002,
          0.018224374326764405,
          0.018030065896193898,
          0.017835431270569024,
          0.017640596148622213,
          0.017445687853463107,
          0.017250834868519714,
          0.017056166374190593,
          0.016861811787527964,
          0.016667900307199886,
          0.01647456046589064,
          0.016281919692203432,
          0.016090103884019623,
          0.015899236995155098,
          0.015709440637029486,
          0.015520833696934532,
          0.015333531974352931,
          0.01514764783663997,
          0.014963289895237581,
          0.01478056270344743,
          0.014599566476644125,
          0.014420396835665447,
          0.01424314457397236,
          0.014067895449031732,
          0.013894729998232299,
          0.013723723379513627,
          0.013554945236753109,
          0.013388459589830983,
          0.013224324749172294,
          0.013062593254449133,
          0.012903311837016774,
          0.012746521405555067,
          0.01259225705429012,
          0.012440548093081531,
          0.012291418098579098,
          0.012144884985577023,
          0.01200096109762613,
          0.011859653315904014,
          0.011720963185289932,
          0.011584887056543819,
          0.011451416243450824,
          0.011320537193759951,
          0.011192231672720076,
          0.011066476957997397,
          0.01094324604474717,
          0.010822507859605895,
          0.0107042274823706,
          0.01058836637413869,
          0.010474882610693643,
          0.010363731119938642,
          0.010254863922205716,
          0.010148230372292857,
          0.010043777402117494,
          0.009941449762910516,
          0.009841190265917848,
          0.009742940020622707,
          0.009646638669550747,
          0.009552224618775149,
          0.009459635263293296,
          0.009368807206507727,
          0.009279676473105054,
          0.009192178714690262,
          0.009106249407600147,
          0.009021824042386009,
          0.008938838304523796,
          0.008857228245978508,
          0.00877693044731803,
          0.008697882170139356,
          0.008620021499637847,
          0.008543287477216666,
          0.008467620223096798,
          0.008392961048951776,
          0.008319252560650048,
          0.008246438751245734,
          0.008174465084411223,
          0.00810327856855644,
          0.008032827821924266,
          0.00796306312899487,
          0.007893936488567638,
          0.007825401653923524,
          0.007757414165496963,
          0.007689931376510232,
          0.00762291247204015,
          0.007556318481999335,
          0.007490112288522172,
          0.007424258628247027,
          0.00735872408998383,
          0.007293477108248602,
          0.007228487953134304,
          0.007163728716970578,
          0.007099173298204766,
          0.007034797382912015,
          0.006970578424315054,
          0.006906495620663077,
          0.006842529891787083,
          0.006778663854612895,
          0.006714881797877846,
          0.006651169656257826,
          0.006587514984074646,
          0.006523906928714569,
          0.00646033620385067,
          0.006396795062525257,
          0.00633327727011215,
          0.00626977807714494,
          0.006206294191964689,
          0.006142823753112158,
          0.006079366301361472,
          0.006015922751270015,
          0.0059524953620979145,
          0.005889087707934707,
          0.0058257046468567705,
          0.005762352288931351,
          0.0056990379628756764,
          0.005635770181180636,
          0.005572558603508486,
          0.005509413998181905,
          0.005446348201590365,
          0.005383374075353626,
          0.0053205054610980605,
          0.005257757132721113,
          0.005195144746040957,
          0.005132684785753487,
          0.005070394509644003,
          0.005008291890030984,
          0.004946395552446823,
          0.004884724711592645,
          0.004823299104634315,
          0.0047621389219389175,
          0.004701264735381418,
          0.004640697424382723,
          0.00458045809986977,
          0.004520568026377115,
          0.0044610485425368865,
          0.004401920980229372,
          0.0043432065826900824,
          0.004284926421890157,
          0.0042271013155263815,
          0.004169751743972383,
          0.004112897767557139,
          0.004056558944546446,
          0.0040007542502115655,
          0.003945501997373203,
          0.0038908197588115585,
          0.0038367242919308715,
          0.0037832314660637694,
          0.003730356192792589,
          0.00367811235965628,
          0.0036265127675974554,
          0.003575569072490734,
          0.003525291731074774,
          0.003475689951591607,
          0.0034267716494149475,
          0.003378543407925249,
          0.0033310104448647875,
          0.003284176584378605,
          0.003238044234919543,
          0.003192614373166391,
          0.0031478865340742565,
          0.003103858807145334,
          0.003060527838977364,
          0.003017888842115247,
          0.002975935610199882,
          0.0029346605393763235,
          0.0028940546558922486,
          0.002854107649786426,
          0.00281480791453626,
          0.0027761425925037736,
          0.002738097625990081,
          0.002700657813680286,
          0.0026638068722337413,
          0.002627527502748126,
          0.0025918014618020934,
          0.002556609636756832,
          0.0025219321249761104,
          0.0024877483166034415,
          0.0024540369805171325,
          0.0024207763530668647,
          0.0023879442291807485,
          0.0023555180554189997,
          0.0023234750245393555,
          0.002291792171130615,
          0.002260446467863983,
          0.0022294149219074344,
          0.0021986746710461447,
          0.0021682030790519152,
          0.0021379778298470545,
          0.0021079770200127614,
          0.00207817924919904,
          0.002048563708002719,
          0.0020191102628915303,
          0.0019897995377665617,
          0.0019606129917712485,
          0.0019315329929739573,
          0.001902542887571333,
          0.0018736270642826832,
          0.0018447710136299071,
          0.0018159613818242376,
          0.0017871860190088633,
          0.001758434021636693,
          0.0017296957687931143,
          0.0017009629523064844,
          0.0016722286005221086,
          0.0016434870956500052
         ],
         "yaxis": "y"
        },
        {
         "legendgroup": "age",
         "marker": {
          "color": "rgb(31, 119, 180)",
          "symbol": "line-ns-open"
         },
         "mode": "markers",
         "name": "age",
         "showlegend": false,
         "type": "scatter",
         "x": [
          75,
          55,
          65,
          50,
          65,
          90,
          75,
          60,
          65,
          80,
          75,
          62,
          45,
          50,
          49,
          82,
          87,
          45,
          70,
          48,
          65,
          65,
          68,
          53,
          75,
          80,
          95,
          70,
          58,
          82,
          94,
          85,
          50,
          50,
          65,
          69,
          90,
          82,
          60,
          60,
          70,
          50,
          70,
          72,
          60,
          50,
          51,
          60,
          80,
          57,
          68,
          53,
          60,
          70,
          60,
          95,
          70,
          60,
          49,
          72,
          45,
          50,
          55,
          45,
          45,
          60,
          42,
          72,
          70,
          65,
          41,
          58,
          85,
          65,
          69,
          60,
          70,
          42,
          75,
          55,
          70,
          67,
          60,
          79,
          59,
          51,
          55,
          65,
          44,
          57,
          70,
          60,
          42,
          60,
          58,
          58,
          63,
          70,
          60,
          63,
          65,
          75,
          80,
          42,
          60,
          72,
          55,
          45,
          63,
          45,
          85,
          55,
          50,
          70,
          60,
          58,
          60,
          85,
          65,
          86,
          60,
          66,
          60,
          60,
          60,
          43,
          46,
          58,
          61,
          53,
          53,
          60,
          46,
          63,
          81,
          75,
          65,
          68,
          62,
          50,
          80,
          46,
          50,
          61,
          72,
          50,
          52,
          64,
          75,
          60,
          72,
          62,
          50,
          50,
          65,
          60,
          52,
          50,
          85,
          59,
          66,
          45,
          63,
          50,
          45,
          80,
          53,
          59,
          65,
          70,
          51,
          52,
          70,
          50,
          65,
          60,
          69,
          49,
          63,
          55,
          40,
          59,
          65,
          75,
          58,
          60.667,
          50,
          60,
          60.667,
          40,
          80,
          64,
          50,
          73,
          45,
          77,
          45,
          65,
          50,
          60,
          63,
          45,
          70,
          60,
          78,
          50,
          40,
          85,
          60,
          49,
          70,
          50,
          78,
          48,
          65,
          73,
          70,
          54,
          68,
          55,
          73,
          65,
          42,
          47,
          58,
          75,
          58,
          55,
          65,
          72,
          60,
          70,
          40,
          53,
          53,
          77,
          75,
          70,
          65,
          55,
          70,
          65,
          40,
          73,
          54,
          61,
          55,
          64,
          40,
          53,
          50,
          55,
          50,
          70,
          53,
          52,
          65,
          58,
          45,
          53,
          55,
          62,
          65,
          68,
          61,
          50,
          55,
          56,
          45,
          40,
          44,
          51,
          67,
          42,
          60,
          45,
          70,
          70,
          50,
          55,
          70,
          70,
          42,
          65,
          50,
          55,
          60,
          45,
          65,
          90,
          45,
          60,
          52,
          63,
          62,
          55,
          45,
          45,
          50
         ],
         "xaxis": "x",
         "y": [
          "age",
          "age",
          "age",
          "age",
          "age",
          "age",
          "age",
          "age",
          "age",
          "age",
          "age",
          "age",
          "age",
          "age",
          "age",
          "age",
          "age",
          "age",
          "age",
          "age",
          "age",
          "age",
          "age",
          "age",
          "age",
          "age",
          "age",
          "age",
          "age",
          "age",
          "age",
          "age",
          "age",
          "age",
          "age",
          "age",
          "age",
          "age",
          "age",
          "age",
          "age",
          "age",
          "age",
          "age",
          "age",
          "age",
          "age",
          "age",
          "age",
          "age",
          "age",
          "age",
          "age",
          "age",
          "age",
          "age",
          "age",
          "age",
          "age",
          "age",
          "age",
          "age",
          "age",
          "age",
          "age",
          "age",
          "age",
          "age",
          "age",
          "age",
          "age",
          "age",
          "age",
          "age",
          "age",
          "age",
          "age",
          "age",
          "age",
          "age",
          "age",
          "age",
          "age",
          "age",
          "age",
          "age",
          "age",
          "age",
          "age",
          "age",
          "age",
          "age",
          "age",
          "age",
          "age",
          "age",
          "age",
          "age",
          "age",
          "age",
          "age",
          "age",
          "age",
          "age",
          "age",
          "age",
          "age",
          "age",
          "age",
          "age",
          "age",
          "age",
          "age",
          "age",
          "age",
          "age",
          "age",
          "age",
          "age",
          "age",
          "age",
          "age",
          "age",
          "age",
          "age",
          "age",
          "age",
          "age",
          "age",
          "age",
          "age",
          "age",
          "age",
          "age",
          "age",
          "age",
          "age",
          "age",
          "age",
          "age",
          "age",
          "age",
          "age",
          "age",
          "age",
          "age",
          "age",
          "age",
          "age",
          "age",
          "age",
          "age",
          "age",
          "age",
          "age",
          "age",
          "age",
          "age",
          "age",
          "age",
          "age",
          "age",
          "age",
          "age",
          "age",
          "age",
          "age",
          "age",
          "age",
          "age",
          "age",
          "age",
          "age",
          "age",
          "age",
          "age",
          "age",
          "age",
          "age",
          "age",
          "age",
          "age",
          "age",
          "age",
          "age",
          "age",
          "age",
          "age",
          "age",
          "age",
          "age",
          "age",
          "age",
          "age",
          "age",
          "age",
          "age",
          "age",
          "age",
          "age",
          "age",
          "age",
          "age",
          "age",
          "age",
          "age",
          "age",
          "age",
          "age",
          "age",
          "age",
          "age",
          "age",
          "age",
          "age",
          "age",
          "age",
          "age",
          "age",
          "age",
          "age",
          "age",
          "age",
          "age",
          "age",
          "age",
          "age",
          "age",
          "age",
          "age",
          "age",
          "age",
          "age",
          "age",
          "age",
          "age",
          "age",
          "age",
          "age",
          "age",
          "age",
          "age",
          "age",
          "age",
          "age",
          "age",
          "age",
          "age",
          "age",
          "age",
          "age",
          "age",
          "age",
          "age",
          "age",
          "age",
          "age",
          "age",
          "age",
          "age",
          "age",
          "age",
          "age",
          "age",
          "age",
          "age",
          "age",
          "age",
          "age",
          "age",
          "age",
          "age",
          "age",
          "age",
          "age",
          "age",
          "age",
          "age",
          "age",
          "age",
          "age",
          "age",
          "age",
          "age",
          "age",
          "age",
          "age",
          "age",
          "age",
          "age",
          "age",
          "age",
          "age",
          "age",
          "age",
          "age",
          "age",
          "age",
          "age"
         ],
         "yaxis": "y2"
        }
       ],
       "layout": {
        "barmode": "overlay",
        "hovermode": "closest",
        "legend": {
         "traceorder": "reversed"
        },
        "template": {
         "data": {
          "bar": [
           {
            "error_x": {
             "color": "#2a3f5f"
            },
            "error_y": {
             "color": "#2a3f5f"
            },
            "marker": {
             "line": {
              "color": "#E5ECF6",
              "width": 0.5
             },
             "pattern": {
              "fillmode": "overlay",
              "size": 10,
              "solidity": 0.2
             }
            },
            "type": "bar"
           }
          ],
          "barpolar": [
           {
            "marker": {
             "line": {
              "color": "#E5ECF6",
              "width": 0.5
             },
             "pattern": {
              "fillmode": "overlay",
              "size": 10,
              "solidity": 0.2
             }
            },
            "type": "barpolar"
           }
          ],
          "carpet": [
           {
            "aaxis": {
             "endlinecolor": "#2a3f5f",
             "gridcolor": "white",
             "linecolor": "white",
             "minorgridcolor": "white",
             "startlinecolor": "#2a3f5f"
            },
            "baxis": {
             "endlinecolor": "#2a3f5f",
             "gridcolor": "white",
             "linecolor": "white",
             "minorgridcolor": "white",
             "startlinecolor": "#2a3f5f"
            },
            "type": "carpet"
           }
          ],
          "choropleth": [
           {
            "colorbar": {
             "outlinewidth": 0,
             "ticks": ""
            },
            "type": "choropleth"
           }
          ],
          "contour": [
           {
            "colorbar": {
             "outlinewidth": 0,
             "ticks": ""
            },
            "colorscale": [
             [
              0,
              "#0d0887"
             ],
             [
              0.1111111111111111,
              "#46039f"
             ],
             [
              0.2222222222222222,
              "#7201a8"
             ],
             [
              0.3333333333333333,
              "#9c179e"
             ],
             [
              0.4444444444444444,
              "#bd3786"
             ],
             [
              0.5555555555555556,
              "#d8576b"
             ],
             [
              0.6666666666666666,
              "#ed7953"
             ],
             [
              0.7777777777777778,
              "#fb9f3a"
             ],
             [
              0.8888888888888888,
              "#fdca26"
             ],
             [
              1,
              "#f0f921"
             ]
            ],
            "type": "contour"
           }
          ],
          "contourcarpet": [
           {
            "colorbar": {
             "outlinewidth": 0,
             "ticks": ""
            },
            "type": "contourcarpet"
           }
          ],
          "heatmap": [
           {
            "colorbar": {
             "outlinewidth": 0,
             "ticks": ""
            },
            "colorscale": [
             [
              0,
              "#0d0887"
             ],
             [
              0.1111111111111111,
              "#46039f"
             ],
             [
              0.2222222222222222,
              "#7201a8"
             ],
             [
              0.3333333333333333,
              "#9c179e"
             ],
             [
              0.4444444444444444,
              "#bd3786"
             ],
             [
              0.5555555555555556,
              "#d8576b"
             ],
             [
              0.6666666666666666,
              "#ed7953"
             ],
             [
              0.7777777777777778,
              "#fb9f3a"
             ],
             [
              0.8888888888888888,
              "#fdca26"
             ],
             [
              1,
              "#f0f921"
             ]
            ],
            "type": "heatmap"
           }
          ],
          "heatmapgl": [
           {
            "colorbar": {
             "outlinewidth": 0,
             "ticks": ""
            },
            "colorscale": [
             [
              0,
              "#0d0887"
             ],
             [
              0.1111111111111111,
              "#46039f"
             ],
             [
              0.2222222222222222,
              "#7201a8"
             ],
             [
              0.3333333333333333,
              "#9c179e"
             ],
             [
              0.4444444444444444,
              "#bd3786"
             ],
             [
              0.5555555555555556,
              "#d8576b"
             ],
             [
              0.6666666666666666,
              "#ed7953"
             ],
             [
              0.7777777777777778,
              "#fb9f3a"
             ],
             [
              0.8888888888888888,
              "#fdca26"
             ],
             [
              1,
              "#f0f921"
             ]
            ],
            "type": "heatmapgl"
           }
          ],
          "histogram": [
           {
            "marker": {
             "pattern": {
              "fillmode": "overlay",
              "size": 10,
              "solidity": 0.2
             }
            },
            "type": "histogram"
           }
          ],
          "histogram2d": [
           {
            "colorbar": {
             "outlinewidth": 0,
             "ticks": ""
            },
            "colorscale": [
             [
              0,
              "#0d0887"
             ],
             [
              0.1111111111111111,
              "#46039f"
             ],
             [
              0.2222222222222222,
              "#7201a8"
             ],
             [
              0.3333333333333333,
              "#9c179e"
             ],
             [
              0.4444444444444444,
              "#bd3786"
             ],
             [
              0.5555555555555556,
              "#d8576b"
             ],
             [
              0.6666666666666666,
              "#ed7953"
             ],
             [
              0.7777777777777778,
              "#fb9f3a"
             ],
             [
              0.8888888888888888,
              "#fdca26"
             ],
             [
              1,
              "#f0f921"
             ]
            ],
            "type": "histogram2d"
           }
          ],
          "histogram2dcontour": [
           {
            "colorbar": {
             "outlinewidth": 0,
             "ticks": ""
            },
            "colorscale": [
             [
              0,
              "#0d0887"
             ],
             [
              0.1111111111111111,
              "#46039f"
             ],
             [
              0.2222222222222222,
              "#7201a8"
             ],
             [
              0.3333333333333333,
              "#9c179e"
             ],
             [
              0.4444444444444444,
              "#bd3786"
             ],
             [
              0.5555555555555556,
              "#d8576b"
             ],
             [
              0.6666666666666666,
              "#ed7953"
             ],
             [
              0.7777777777777778,
              "#fb9f3a"
             ],
             [
              0.8888888888888888,
              "#fdca26"
             ],
             [
              1,
              "#f0f921"
             ]
            ],
            "type": "histogram2dcontour"
           }
          ],
          "mesh3d": [
           {
            "colorbar": {
             "outlinewidth": 0,
             "ticks": ""
            },
            "type": "mesh3d"
           }
          ],
          "parcoords": [
           {
            "line": {
             "colorbar": {
              "outlinewidth": 0,
              "ticks": ""
             }
            },
            "type": "parcoords"
           }
          ],
          "pie": [
           {
            "automargin": true,
            "type": "pie"
           }
          ],
          "scatter": [
           {
            "marker": {
             "colorbar": {
              "outlinewidth": 0,
              "ticks": ""
             }
            },
            "type": "scatter"
           }
          ],
          "scatter3d": [
           {
            "line": {
             "colorbar": {
              "outlinewidth": 0,
              "ticks": ""
             }
            },
            "marker": {
             "colorbar": {
              "outlinewidth": 0,
              "ticks": ""
             }
            },
            "type": "scatter3d"
           }
          ],
          "scattercarpet": [
           {
            "marker": {
             "colorbar": {
              "outlinewidth": 0,
              "ticks": ""
             }
            },
            "type": "scattercarpet"
           }
          ],
          "scattergeo": [
           {
            "marker": {
             "colorbar": {
              "outlinewidth": 0,
              "ticks": ""
             }
            },
            "type": "scattergeo"
           }
          ],
          "scattergl": [
           {
            "marker": {
             "colorbar": {
              "outlinewidth": 0,
              "ticks": ""
             }
            },
            "type": "scattergl"
           }
          ],
          "scattermapbox": [
           {
            "marker": {
             "colorbar": {
              "outlinewidth": 0,
              "ticks": ""
             }
            },
            "type": "scattermapbox"
           }
          ],
          "scatterpolar": [
           {
            "marker": {
             "colorbar": {
              "outlinewidth": 0,
              "ticks": ""
             }
            },
            "type": "scatterpolar"
           }
          ],
          "scatterpolargl": [
           {
            "marker": {
             "colorbar": {
              "outlinewidth": 0,
              "ticks": ""
             }
            },
            "type": "scatterpolargl"
           }
          ],
          "scatterternary": [
           {
            "marker": {
             "colorbar": {
              "outlinewidth": 0,
              "ticks": ""
             }
            },
            "type": "scatterternary"
           }
          ],
          "surface": [
           {
            "colorbar": {
             "outlinewidth": 0,
             "ticks": ""
            },
            "colorscale": [
             [
              0,
              "#0d0887"
             ],
             [
              0.1111111111111111,
              "#46039f"
             ],
             [
              0.2222222222222222,
              "#7201a8"
             ],
             [
              0.3333333333333333,
              "#9c179e"
             ],
             [
              0.4444444444444444,
              "#bd3786"
             ],
             [
              0.5555555555555556,
              "#d8576b"
             ],
             [
              0.6666666666666666,
              "#ed7953"
             ],
             [
              0.7777777777777778,
              "#fb9f3a"
             ],
             [
              0.8888888888888888,
              "#fdca26"
             ],
             [
              1,
              "#f0f921"
             ]
            ],
            "type": "surface"
           }
          ],
          "table": [
           {
            "cells": {
             "fill": {
              "color": "#EBF0F8"
             },
             "line": {
              "color": "white"
             }
            },
            "header": {
             "fill": {
              "color": "#C8D4E3"
             },
             "line": {
              "color": "white"
             }
            },
            "type": "table"
           }
          ]
         },
         "layout": {
          "annotationdefaults": {
           "arrowcolor": "#2a3f5f",
           "arrowhead": 0,
           "arrowwidth": 1
          },
          "autotypenumbers": "strict",
          "coloraxis": {
           "colorbar": {
            "outlinewidth": 0,
            "ticks": ""
           }
          },
          "colorscale": {
           "diverging": [
            [
             0,
             "#8e0152"
            ],
            [
             0.1,
             "#c51b7d"
            ],
            [
             0.2,
             "#de77ae"
            ],
            [
             0.3,
             "#f1b6da"
            ],
            [
             0.4,
             "#fde0ef"
            ],
            [
             0.5,
             "#f7f7f7"
            ],
            [
             0.6,
             "#e6f5d0"
            ],
            [
             0.7,
             "#b8e186"
            ],
            [
             0.8,
             "#7fbc41"
            ],
            [
             0.9,
             "#4d9221"
            ],
            [
             1,
             "#276419"
            ]
           ],
           "sequential": [
            [
             0,
             "#0d0887"
            ],
            [
             0.1111111111111111,
             "#46039f"
            ],
            [
             0.2222222222222222,
             "#7201a8"
            ],
            [
             0.3333333333333333,
             "#9c179e"
            ],
            [
             0.4444444444444444,
             "#bd3786"
            ],
            [
             0.5555555555555556,
             "#d8576b"
            ],
            [
             0.6666666666666666,
             "#ed7953"
            ],
            [
             0.7777777777777778,
             "#fb9f3a"
            ],
            [
             0.8888888888888888,
             "#fdca26"
            ],
            [
             1,
             "#f0f921"
            ]
           ],
           "sequentialminus": [
            [
             0,
             "#0d0887"
            ],
            [
             0.1111111111111111,
             "#46039f"
            ],
            [
             0.2222222222222222,
             "#7201a8"
            ],
            [
             0.3333333333333333,
             "#9c179e"
            ],
            [
             0.4444444444444444,
             "#bd3786"
            ],
            [
             0.5555555555555556,
             "#d8576b"
            ],
            [
             0.6666666666666666,
             "#ed7953"
            ],
            [
             0.7777777777777778,
             "#fb9f3a"
            ],
            [
             0.8888888888888888,
             "#fdca26"
            ],
            [
             1,
             "#f0f921"
            ]
           ]
          },
          "colorway": [
           "#636efa",
           "#EF553B",
           "#00cc96",
           "#ab63fa",
           "#FFA15A",
           "#19d3f3",
           "#FF6692",
           "#B6E880",
           "#FF97FF",
           "#FECB52"
          ],
          "font": {
           "color": "#2a3f5f"
          },
          "geo": {
           "bgcolor": "white",
           "lakecolor": "white",
           "landcolor": "#E5ECF6",
           "showlakes": true,
           "showland": true,
           "subunitcolor": "white"
          },
          "hoverlabel": {
           "align": "left"
          },
          "hovermode": "closest",
          "mapbox": {
           "style": "light"
          },
          "paper_bgcolor": "white",
          "plot_bgcolor": "#E5ECF6",
          "polar": {
           "angularaxis": {
            "gridcolor": "white",
            "linecolor": "white",
            "ticks": ""
           },
           "bgcolor": "#E5ECF6",
           "radialaxis": {
            "gridcolor": "white",
            "linecolor": "white",
            "ticks": ""
           }
          },
          "scene": {
           "xaxis": {
            "backgroundcolor": "#E5ECF6",
            "gridcolor": "white",
            "gridwidth": 2,
            "linecolor": "white",
            "showbackground": true,
            "ticks": "",
            "zerolinecolor": "white"
           },
           "yaxis": {
            "backgroundcolor": "#E5ECF6",
            "gridcolor": "white",
            "gridwidth": 2,
            "linecolor": "white",
            "showbackground": true,
            "ticks": "",
            "zerolinecolor": "white"
           },
           "zaxis": {
            "backgroundcolor": "#E5ECF6",
            "gridcolor": "white",
            "gridwidth": 2,
            "linecolor": "white",
            "showbackground": true,
            "ticks": "",
            "zerolinecolor": "white"
           }
          },
          "shapedefaults": {
           "line": {
            "color": "#2a3f5f"
           }
          },
          "ternary": {
           "aaxis": {
            "gridcolor": "white",
            "linecolor": "white",
            "ticks": ""
           },
           "baxis": {
            "gridcolor": "white",
            "linecolor": "white",
            "ticks": ""
           },
           "bgcolor": "#E5ECF6",
           "caxis": {
            "gridcolor": "white",
            "linecolor": "white",
            "ticks": ""
           }
          },
          "title": {
           "x": 0.05
          },
          "xaxis": {
           "automargin": true,
           "gridcolor": "white",
           "linecolor": "white",
           "ticks": "",
           "title": {
            "standoff": 15
           },
           "zerolinecolor": "white",
           "zerolinewidth": 2
          },
          "yaxis": {
           "automargin": true,
           "gridcolor": "white",
           "linecolor": "white",
           "ticks": "",
           "title": {
            "standoff": 15
           },
           "zerolinecolor": "white",
           "zerolinewidth": 2
          }
         }
        },
        "title": {
         "text": "Distribusi umur"
        },
        "xaxis": {
         "anchor": "y2",
         "domain": [
          0,
          1
         ],
         "zeroline": false
        },
        "yaxis": {
         "anchor": "free",
         "domain": [
          0.35,
          1
         ],
         "position": 0
        },
        "yaxis2": {
         "anchor": "x",
         "domain": [
          0,
          0.25
         ],
         "dtick": 1,
         "showticklabels": false
        }
       }
      },
      "text/html": [
       "<div>                            <div id=\"399a2a59-81a1-4e13-9628-a594848ebbae\" class=\"plotly-graph-div\" style=\"height:525px; width:100%;\"></div>            <script type=\"text/javascript\">                require([\"plotly\"], function(Plotly) {                    window.PLOTLYENV=window.PLOTLYENV || {};                                    if (document.getElementById(\"399a2a59-81a1-4e13-9628-a594848ebbae\")) {                    Plotly.newPlot(                        \"399a2a59-81a1-4e13-9628-a594848ebbae\",                        [{\"autobinx\":false,\"histnorm\":\"probability density\",\"legendgroup\":\"age\",\"marker\":{\"color\":\"rgb(31, 119, 180)\"},\"name\":\"age\",\"opacity\":0.7,\"type\":\"histogram\",\"x\":[75.0,55.0,65.0,50.0,65.0,90.0,75.0,60.0,65.0,80.0,75.0,62.0,45.0,50.0,49.0,82.0,87.0,45.0,70.0,48.0,65.0,65.0,68.0,53.0,75.0,80.0,95.0,70.0,58.0,82.0,94.0,85.0,50.0,50.0,65.0,69.0,90.0,82.0,60.0,60.0,70.0,50.0,70.0,72.0,60.0,50.0,51.0,60.0,80.0,57.0,68.0,53.0,60.0,70.0,60.0,95.0,70.0,60.0,49.0,72.0,45.0,50.0,55.0,45.0,45.0,60.0,42.0,72.0,70.0,65.0,41.0,58.0,85.0,65.0,69.0,60.0,70.0,42.0,75.0,55.0,70.0,67.0,60.0,79.0,59.0,51.0,55.0,65.0,44.0,57.0,70.0,60.0,42.0,60.0,58.0,58.0,63.0,70.0,60.0,63.0,65.0,75.0,80.0,42.0,60.0,72.0,55.0,45.0,63.0,45.0,85.0,55.0,50.0,70.0,60.0,58.0,60.0,85.0,65.0,86.0,60.0,66.0,60.0,60.0,60.0,43.0,46.0,58.0,61.0,53.0,53.0,60.0,46.0,63.0,81.0,75.0,65.0,68.0,62.0,50.0,80.0,46.0,50.0,61.0,72.0,50.0,52.0,64.0,75.0,60.0,72.0,62.0,50.0,50.0,65.0,60.0,52.0,50.0,85.0,59.0,66.0,45.0,63.0,50.0,45.0,80.0,53.0,59.0,65.0,70.0,51.0,52.0,70.0,50.0,65.0,60.0,69.0,49.0,63.0,55.0,40.0,59.0,65.0,75.0,58.0,60.667,50.0,60.0,60.667,40.0,80.0,64.0,50.0,73.0,45.0,77.0,45.0,65.0,50.0,60.0,63.0,45.0,70.0,60.0,78.0,50.0,40.0,85.0,60.0,49.0,70.0,50.0,78.0,48.0,65.0,73.0,70.0,54.0,68.0,55.0,73.0,65.0,42.0,47.0,58.0,75.0,58.0,55.0,65.0,72.0,60.0,70.0,40.0,53.0,53.0,77.0,75.0,70.0,65.0,55.0,70.0,65.0,40.0,73.0,54.0,61.0,55.0,64.0,40.0,53.0,50.0,55.0,50.0,70.0,53.0,52.0,65.0,58.0,45.0,53.0,55.0,62.0,65.0,68.0,61.0,50.0,55.0,56.0,45.0,40.0,44.0,51.0,67.0,42.0,60.0,45.0,70.0,70.0,50.0,55.0,70.0,70.0,42.0,65.0,50.0,55.0,60.0,45.0,65.0,90.0,45.0,60.0,52.0,63.0,62.0,55.0,45.0,45.0,50.0],\"xaxis\":\"x\",\"xbins\":{\"end\":95.0,\"size\":1.0,\"start\":40.0},\"yaxis\":\"y\"},{\"legendgroup\":\"age\",\"marker\":{\"color\":\"rgb(31, 119, 180)\"},\"mode\":\"lines\",\"name\":\"age\",\"showlegend\":false,\"type\":\"scatter\",\"x\":[40.0,40.11,40.22,40.33,40.44,40.55,40.66,40.77,40.88,40.99,41.1,41.21,41.32,41.43,41.54,41.65,41.76,41.87,41.98,42.09,42.2,42.31,42.42,42.53,42.64,42.75,42.86,42.97,43.08,43.19,43.3,43.41,43.52,43.63,43.74,43.85,43.96,44.07,44.18,44.29,44.4,44.51,44.62,44.730000000000004,44.84,44.95,45.06,45.17,45.28,45.39,45.5,45.61,45.72,45.83,45.94,46.05,46.16,46.269999999999996,46.38,46.49,46.6,46.71,46.82,46.93,47.04,47.15,47.26,47.37,47.480000000000004,47.59,47.7,47.81,47.92,48.03,48.14,48.25,48.36,48.47,48.58,48.69,48.8,48.91,49.019999999999996,49.13,49.24,49.35,49.46,49.57,49.68,49.79,49.9,50.01,50.12,50.230000000000004,50.34,50.45,50.56,50.67,50.78,50.89,51.0,51.11,51.22,51.33,51.44,51.55,51.66,51.769999999999996,51.88,51.99,52.1,52.21,52.32,52.43,52.54,52.65,52.76,52.87,52.980000000000004,53.09,53.2,53.31,53.42,53.53,53.64,53.75,53.86,53.97,54.08,54.19,54.3,54.41,54.519999999999996,54.63,54.74,54.85,54.96,55.07,55.18,55.29,55.4,55.51,55.62,55.730000000000004,55.84,55.95,56.06,56.17,56.28,56.39,56.5,56.61,56.72,56.83,56.94,57.05,57.16,57.269999999999996,57.379999999999995,57.489999999999995,57.6,57.71,57.82,57.93,58.04,58.15,58.260000000000005,58.370000000000005,58.480000000000004,58.59,58.7,58.81,58.92,59.03,59.14,59.25,59.36,59.47,59.58,59.69,59.8,59.91,60.019999999999996,60.129999999999995,60.239999999999995,60.35,60.46,60.57,60.68,60.79,60.9,61.010000000000005,61.120000000000005,61.230000000000004,61.34,61.45,61.56,61.67,61.78,61.89,62.0,62.11,62.22,62.33,62.44,62.55,62.66,62.769999999999996,62.879999999999995,62.989999999999995,63.1,63.21,63.32,63.43,63.54,63.65,63.760000000000005,63.870000000000005,63.980000000000004,64.09,64.2,64.31,64.42,64.53,64.64,64.75,64.86,64.97,65.08,65.19,65.3,65.41,65.52,65.63,65.74,65.85,65.96000000000001,66.07,66.18,66.28999999999999,66.4,66.51,66.62,66.73,66.84,66.95,67.06,67.17,67.28,67.39,67.5,67.61,67.72,67.83,67.94,68.05,68.16,68.27,68.38,68.49,68.6,68.71000000000001,68.82,68.93,69.03999999999999,69.15,69.26,69.37,69.48,69.59,69.7,69.81,69.92,70.03,70.14,70.25,70.36,70.47,70.58,70.69,70.8,70.91,71.02,71.13,71.24,71.35,71.46000000000001,71.57,71.68,71.78999999999999,71.9,72.00999999999999,72.12,72.22999999999999,72.34,72.45,72.56,72.67,72.78,72.89,73.0,73.11,73.22,73.33,73.44,73.55,73.66,73.77000000000001,73.88,73.99000000000001,74.1,74.21000000000001,74.32,74.43,74.53999999999999,74.65,74.75999999999999,74.87,74.97999999999999,75.09,75.2,75.31,75.42,75.53,75.64,75.75,75.86,75.97,76.08,76.19,76.3,76.41,76.52000000000001,76.63,76.74000000000001,76.85,76.96000000000001,77.07,77.18,77.28999999999999,77.4,77.50999999999999,77.62,77.72999999999999,77.84,77.95,78.06,78.17,78.28,78.39,78.5,78.61,78.72,78.83,78.94,79.05,79.16,79.27000000000001,79.38,79.49000000000001,79.6,79.71000000000001,79.82,79.93,80.03999999999999,80.15,80.25999999999999,80.37,80.47999999999999,80.59,80.7,80.81,80.92,81.03,81.14,81.25,81.36,81.47,81.58,81.69,81.8,81.91,82.02000000000001,82.13,82.24000000000001,82.35,82.46000000000001,82.57,82.68,82.78999999999999,82.9,83.00999999999999,83.12,83.22999999999999,83.34,83.45,83.56,83.67,83.78,83.89,84.0,84.11,84.22,84.33,84.44,84.55,84.66,84.77000000000001,84.88,84.99000000000001,85.1,85.21000000000001,85.32,85.43,85.53999999999999,85.65,85.75999999999999,85.87,85.97999999999999,86.09,86.2,86.31,86.42,86.53,86.64,86.75,86.86,86.97,87.08,87.19,87.3,87.41,87.52000000000001,87.63,87.74000000000001,87.85,87.96000000000001,88.07,88.18,88.28999999999999,88.4,88.50999999999999,88.62,88.72999999999999,88.84,88.95,89.06,89.17,89.28,89.39,89.5,89.61,89.72,89.83,89.94,90.05,90.16,90.27000000000001,90.38,90.49000000000001,90.6,90.71000000000001,90.82,90.93,91.03999999999999,91.15,91.25999999999999,91.37,91.47999999999999,91.59,91.7,91.81,91.92,92.03,92.14,92.25,92.36,92.47,92.58,92.69,92.8,92.91,93.02000000000001,93.13,93.24000000000001,93.35,93.46000000000001,93.57,93.68,93.78999999999999,93.9,94.00999999999999,94.12,94.22999999999999,94.34,94.45,94.56,94.67,94.78,94.89],\"xaxis\":\"x\",\"y\":[0.009278580261905384,0.0094938463446575,0.009709942017945495,0.009926756744584264,0.010144180923897348,0.010362106165255599,0.010580425557159689,0.010799033930689383,0.011017828116131665,0.011236707191591193,0.011455572722384,0.011674328990017607,0.011892883209567724,0.012111145734276236,0.012329030246215258,0.012546453931888775,0.012763337641678352,0.012979606032081831,0.013195187689743742,0.013410015236335695,0.013624025413411553,0.013837159146439872,0.014049361587299726,0.01426058213462163,0.014470774431457532,0.014679896339876555,0.014887909892202802,0.015094781218740527,0.015300480451968345,0.01550498160732627,0.015708262440870466,0.01591030428422435,0.01611109185741427,0.01631061306034132,0.016508858743806334,0.016705822461170507,0.01690150020190048,0.017095890108411515,0.017288992177782837,0.017480807950075228,0.017671340185131588,0.017860592529883406,0.018048569178316758,0.018235274526376036,0.018420712824188782,0.018604887828092793,0.018787802455023078,0.01896945844188089,0.019149856012548677,0.019328993555241654,0.01950686731289016,0.019683471089231012,0.019858795973248702,0.020032830084546285,0.02020555834214575,0.02037696225911062,0.020547019765259855,0.020715705060092387,0.020882988497873026,0.021048836506641345,0.021213211542696026,0.021376072081882334,0.021537372648764957,0.021697063884514027,0.021855092654058352,0.022011402192781488,0.02216593229274253,0.02231861952810981,0.022469397519190897,0.02261819723414251,0.022764947327138935,0.022909574511478403,0.023052003965815384,0.02319215977141755,0.02332996537807535,0.02346534409602645,0.023598219611014146,0.02372851651936785,0.023856160879784594,0.023981080778304475,0.024103206902805898,0.02422247312320875,0.024338817073458682,0.024452180731279916,0.024562510991625954,0.02466976022972639,0.024773886849630302,0.024874855814173223,0.024972639152355116,0.02506721644020211,0.025158575251302762,0.025246711573351798,0.0253316301872051,0.025413345005145905,0.025491879365282372,0.025567266279239227,0.02563954863057085,0.025708779321605993,0.025775021366734527,0.025838347930462264,0.025898842308888437,0.02595659785359945,0.026011717837320314,0.026064315261018954,0.026114512602515773,0.026162441507011684,0.026208242420302764,0.026252064165808626,0.026294063466890324,0.02633440441627337,0.02637325789472914,0.026410800941486096,0.02644721607914996,0.026482690596207663,0.02651741579046128,0.026551586177000458,0.02658539866455349,0.026619051704278543,0.02665274441524492,0.02668667569102916,0.02672104329199035,0.02675604292791466,0.026791867335808132,0.02682870535768781,0.02686674102325875,0.026906152642380107,0.026947111912206924,0.026989783043853792,0.02703432191335856,0.027080875241625262,0.027129579807906357,0.027180561701233154,0.02723393561403056,0.027289804181952638,0.027348257373752936,0.027409371934759747,0.027473210887256398,0.02753982309078393,0.027609242865073023,0.02768148967799341,0.02775656790056619,0.02783446663073456,0.02791515958722357,0.02799860507444367,0.02808474601901188,0.028173510078075777,0.02826480981923451,0.02835854297145724,0.02845459274600961,0.02855282822600891,0.02865310482285001,0.028755264797366065,0.028859137843230714,0.028964541729754448,0.029071283000898594,0.029179157727009474,0.029287952305484196,0.029397444306302863,0.029507403358112666,0.029617592070326104,0.029727766986498236,0.029837679564080753,0.02994707717551278,0.030055704125503055,0.030163302679281266,0.030269614096558376,0.03037437966592311,0.03047734173442865,0.03057824472717848,0.030676836151810397,0.030772867582898714,0.030866095621444253,0.030956282824804372,0.03104319860262321,0.031126620074554436,0.031206332885835027,0.031282131977039065,0.03135382230465307,0.031421219509424766,0.03148415052977618,0.03154245415791434,0.03159598153663014,0.03164459659514011,0.03168817642268719,0.031726611578989865,0.031759806340990133,0.03178767888571526,0.031810161409422034,0.031827200183536956,0.03183875554824023,0.031844801844859535,0.031845327288545756,0.031840333782985314,0.031829836679173225,0.031813864480514834,0.03179245849674978,0.031765672449392324,0.0317335720315596,0.03169623442521679,0.0316537477789949,0.031606210649847255,0.031553731411892376,0.031496427635854606,0.03143442544254776,0.031367858833871734,0.03129686900478313,0.031221603639684948,0.03114221619663816,0.031058865182745993,0.03097171342399218,0.030880927332730897,0.030786676175934155,0.0306891313471994,0.03058846564540762,0.03048485256280277,0.030378465585143836,0.03026947750644809,0.030158059760716206,0.03004438177289864,0.029928610331226773,0.02981090898290241,0.029691437455007647,0.029570351102362915,0.029447800383938343,0.02932393036929374,0.0291988802763988,0.02907278304206635,0.028945764926109292,0.02881794515021735,0.028689435572433166,0.028560340397992715,0.028430755927186375,0.028300770340778054,0.02817046352341414,0.028039906925336096,0.0279091634626016,0.027778287455897874,0.027647324607921093,0.02751631201916986,0.027385278241884064,0.027254243371731258,0.027123219176722273,0.026992209262699764,0.02686120927461879,0.026730207132698684,0.026599183302391218,0.026468111096973366,0.02633695701143171,0.026205681086169542,0.026074237298930644,0.0259425739831961,0.02581063427117978,0.02567835655942136,0.025545674994847875,0.025412519979064734,0.025278818688522844,0.025144495608113025,0.025009473075645803,0.0248736718346006,0.024737011592458107,0.024599411581882936,0.02446079112198086,0.024321070176837916,0.02418016990853795,0.024038013221870932,0.023894525297967442,0.02374963411414364,0.023603270947301892,0.023455370858312247,0.02330587315489988,0.023154721830673186,0.02300186597806304,0.022847260173083653,0.022690864829991067,0.02253264652408357,0.022372578281078845,0.022210639831695272,0.0220468178302722,0.021881106036477763,0.021713505459371618,0.021544024463313303,0.021372678835435796,0.021199491814628654,0.0210244940822025,0.020847723714631165,0.020669226098985926,0.020489053811889955,0.02030726646302652,0.020123930504430263,0.019939119006977875,0.019752911405665315,0.01956539321542272,0.019376655719360945,0.019186795631478584,0.018995914735969288,0.0188041195053748,0.01861152069990388,0.01841823295031002,0.018224374326764405,0.018030065896193898,0.017835431270569024,0.017640596148622213,0.017445687853463107,0.017250834868519714,0.017056166374190593,0.016861811787527964,0.016667900307199886,0.01647456046589064,0.016281919692203432,0.016090103884019623,0.015899236995155098,0.015709440637029486,0.015520833696934532,0.015333531974352931,0.01514764783663997,0.014963289895237581,0.01478056270344743,0.014599566476644125,0.014420396835665447,0.01424314457397236,0.014067895449031732,0.013894729998232299,0.013723723379513627,0.013554945236753109,0.013388459589830983,0.013224324749172294,0.013062593254449133,0.012903311837016774,0.012746521405555067,0.01259225705429012,0.012440548093081531,0.012291418098579098,0.012144884985577023,0.01200096109762613,0.011859653315904014,0.011720963185289932,0.011584887056543819,0.011451416243450824,0.011320537193759951,0.011192231672720076,0.011066476957997397,0.01094324604474717,0.010822507859605895,0.0107042274823706,0.01058836637413869,0.010474882610693643,0.010363731119938642,0.010254863922205716,0.010148230372292857,0.010043777402117494,0.009941449762910516,0.009841190265917848,0.009742940020622707,0.009646638669550747,0.009552224618775149,0.009459635263293296,0.009368807206507727,0.009279676473105054,0.009192178714690262,0.009106249407600147,0.009021824042386009,0.008938838304523796,0.008857228245978508,0.00877693044731803,0.008697882170139356,0.008620021499637847,0.008543287477216666,0.008467620223096798,0.008392961048951776,0.008319252560650048,0.008246438751245734,0.008174465084411223,0.00810327856855644,0.008032827821924266,0.00796306312899487,0.007893936488567638,0.007825401653923524,0.007757414165496963,0.007689931376510232,0.00762291247204015,0.007556318481999335,0.007490112288522172,0.007424258628247027,0.00735872408998383,0.007293477108248602,0.007228487953134304,0.007163728716970578,0.007099173298204766,0.007034797382912015,0.006970578424315054,0.006906495620663077,0.006842529891787083,0.006778663854612895,0.006714881797877846,0.006651169656257826,0.006587514984074646,0.006523906928714569,0.00646033620385067,0.006396795062525257,0.00633327727011215,0.00626977807714494,0.006206294191964689,0.006142823753112158,0.006079366301361472,0.006015922751270015,0.0059524953620979145,0.005889087707934707,0.0058257046468567705,0.005762352288931351,0.0056990379628756764,0.005635770181180636,0.005572558603508486,0.005509413998181905,0.005446348201590365,0.005383374075353626,0.0053205054610980605,0.005257757132721113,0.005195144746040957,0.005132684785753487,0.005070394509644003,0.005008291890030984,0.004946395552446823,0.004884724711592645,0.004823299104634315,0.0047621389219389175,0.004701264735381418,0.004640697424382723,0.00458045809986977,0.004520568026377115,0.0044610485425368865,0.004401920980229372,0.0043432065826900824,0.004284926421890157,0.0042271013155263815,0.004169751743972383,0.004112897767557139,0.004056558944546446,0.0040007542502115655,0.003945501997373203,0.0038908197588115585,0.0038367242919308715,0.0037832314660637694,0.003730356192792589,0.00367811235965628,0.0036265127675974554,0.003575569072490734,0.003525291731074774,0.003475689951591607,0.0034267716494149475,0.003378543407925249,0.0033310104448647875,0.003284176584378605,0.003238044234919543,0.003192614373166391,0.0031478865340742565,0.003103858807145334,0.003060527838977364,0.003017888842115247,0.002975935610199882,0.0029346605393763235,0.0028940546558922486,0.002854107649786426,0.00281480791453626,0.0027761425925037736,0.002738097625990081,0.002700657813680286,0.0026638068722337413,0.002627527502748126,0.0025918014618020934,0.002556609636756832,0.0025219321249761104,0.0024877483166034415,0.0024540369805171325,0.0024207763530668647,0.0023879442291807485,0.0023555180554189997,0.0023234750245393555,0.002291792171130615,0.002260446467863983,0.0022294149219074344,0.0021986746710461447,0.0021682030790519152,0.0021379778298470545,0.0021079770200127614,0.00207817924919904,0.002048563708002719,0.0020191102628915303,0.0019897995377665617,0.0019606129917712485,0.0019315329929739573,0.001902542887571333,0.0018736270642826832,0.0018447710136299071,0.0018159613818242376,0.0017871860190088633,0.001758434021636693,0.0017296957687931143,0.0017009629523064844,0.0016722286005221086,0.0016434870956500052],\"yaxis\":\"y\"},{\"legendgroup\":\"age\",\"marker\":{\"color\":\"rgb(31, 119, 180)\",\"symbol\":\"line-ns-open\"},\"mode\":\"markers\",\"name\":\"age\",\"showlegend\":false,\"type\":\"scatter\",\"x\":[75.0,55.0,65.0,50.0,65.0,90.0,75.0,60.0,65.0,80.0,75.0,62.0,45.0,50.0,49.0,82.0,87.0,45.0,70.0,48.0,65.0,65.0,68.0,53.0,75.0,80.0,95.0,70.0,58.0,82.0,94.0,85.0,50.0,50.0,65.0,69.0,90.0,82.0,60.0,60.0,70.0,50.0,70.0,72.0,60.0,50.0,51.0,60.0,80.0,57.0,68.0,53.0,60.0,70.0,60.0,95.0,70.0,60.0,49.0,72.0,45.0,50.0,55.0,45.0,45.0,60.0,42.0,72.0,70.0,65.0,41.0,58.0,85.0,65.0,69.0,60.0,70.0,42.0,75.0,55.0,70.0,67.0,60.0,79.0,59.0,51.0,55.0,65.0,44.0,57.0,70.0,60.0,42.0,60.0,58.0,58.0,63.0,70.0,60.0,63.0,65.0,75.0,80.0,42.0,60.0,72.0,55.0,45.0,63.0,45.0,85.0,55.0,50.0,70.0,60.0,58.0,60.0,85.0,65.0,86.0,60.0,66.0,60.0,60.0,60.0,43.0,46.0,58.0,61.0,53.0,53.0,60.0,46.0,63.0,81.0,75.0,65.0,68.0,62.0,50.0,80.0,46.0,50.0,61.0,72.0,50.0,52.0,64.0,75.0,60.0,72.0,62.0,50.0,50.0,65.0,60.0,52.0,50.0,85.0,59.0,66.0,45.0,63.0,50.0,45.0,80.0,53.0,59.0,65.0,70.0,51.0,52.0,70.0,50.0,65.0,60.0,69.0,49.0,63.0,55.0,40.0,59.0,65.0,75.0,58.0,60.667,50.0,60.0,60.667,40.0,80.0,64.0,50.0,73.0,45.0,77.0,45.0,65.0,50.0,60.0,63.0,45.0,70.0,60.0,78.0,50.0,40.0,85.0,60.0,49.0,70.0,50.0,78.0,48.0,65.0,73.0,70.0,54.0,68.0,55.0,73.0,65.0,42.0,47.0,58.0,75.0,58.0,55.0,65.0,72.0,60.0,70.0,40.0,53.0,53.0,77.0,75.0,70.0,65.0,55.0,70.0,65.0,40.0,73.0,54.0,61.0,55.0,64.0,40.0,53.0,50.0,55.0,50.0,70.0,53.0,52.0,65.0,58.0,45.0,53.0,55.0,62.0,65.0,68.0,61.0,50.0,55.0,56.0,45.0,40.0,44.0,51.0,67.0,42.0,60.0,45.0,70.0,70.0,50.0,55.0,70.0,70.0,42.0,65.0,50.0,55.0,60.0,45.0,65.0,90.0,45.0,60.0,52.0,63.0,62.0,55.0,45.0,45.0,50.0],\"xaxis\":\"x\",\"y\":[\"age\",\"age\",\"age\",\"age\",\"age\",\"age\",\"age\",\"age\",\"age\",\"age\",\"age\",\"age\",\"age\",\"age\",\"age\",\"age\",\"age\",\"age\",\"age\",\"age\",\"age\",\"age\",\"age\",\"age\",\"age\",\"age\",\"age\",\"age\",\"age\",\"age\",\"age\",\"age\",\"age\",\"age\",\"age\",\"age\",\"age\",\"age\",\"age\",\"age\",\"age\",\"age\",\"age\",\"age\",\"age\",\"age\",\"age\",\"age\",\"age\",\"age\",\"age\",\"age\",\"age\",\"age\",\"age\",\"age\",\"age\",\"age\",\"age\",\"age\",\"age\",\"age\",\"age\",\"age\",\"age\",\"age\",\"age\",\"age\",\"age\",\"age\",\"age\",\"age\",\"age\",\"age\",\"age\",\"age\",\"age\",\"age\",\"age\",\"age\",\"age\",\"age\",\"age\",\"age\",\"age\",\"age\",\"age\",\"age\",\"age\",\"age\",\"age\",\"age\",\"age\",\"age\",\"age\",\"age\",\"age\",\"age\",\"age\",\"age\",\"age\",\"age\",\"age\",\"age\",\"age\",\"age\",\"age\",\"age\",\"age\",\"age\",\"age\",\"age\",\"age\",\"age\",\"age\",\"age\",\"age\",\"age\",\"age\",\"age\",\"age\",\"age\",\"age\",\"age\",\"age\",\"age\",\"age\",\"age\",\"age\",\"age\",\"age\",\"age\",\"age\",\"age\",\"age\",\"age\",\"age\",\"age\",\"age\",\"age\",\"age\",\"age\",\"age\",\"age\",\"age\",\"age\",\"age\",\"age\",\"age\",\"age\",\"age\",\"age\",\"age\",\"age\",\"age\",\"age\",\"age\",\"age\",\"age\",\"age\",\"age\",\"age\",\"age\",\"age\",\"age\",\"age\",\"age\",\"age\",\"age\",\"age\",\"age\",\"age\",\"age\",\"age\",\"age\",\"age\",\"age\",\"age\",\"age\",\"age\",\"age\",\"age\",\"age\",\"age\",\"age\",\"age\",\"age\",\"age\",\"age\",\"age\",\"age\",\"age\",\"age\",\"age\",\"age\",\"age\",\"age\",\"age\",\"age\",\"age\",\"age\",\"age\",\"age\",\"age\",\"age\",\"age\",\"age\",\"age\",\"age\",\"age\",\"age\",\"age\",\"age\",\"age\",\"age\",\"age\",\"age\",\"age\",\"age\",\"age\",\"age\",\"age\",\"age\",\"age\",\"age\",\"age\",\"age\",\"age\",\"age\",\"age\",\"age\",\"age\",\"age\",\"age\",\"age\",\"age\",\"age\",\"age\",\"age\",\"age\",\"age\",\"age\",\"age\",\"age\",\"age\",\"age\",\"age\",\"age\",\"age\",\"age\",\"age\",\"age\",\"age\",\"age\",\"age\",\"age\",\"age\",\"age\",\"age\",\"age\",\"age\",\"age\",\"age\",\"age\",\"age\",\"age\",\"age\",\"age\",\"age\",\"age\",\"age\",\"age\",\"age\",\"age\",\"age\",\"age\",\"age\",\"age\",\"age\",\"age\",\"age\",\"age\",\"age\",\"age\",\"age\",\"age\",\"age\",\"age\",\"age\",\"age\",\"age\",\"age\",\"age\",\"age\",\"age\",\"age\",\"age\",\"age\",\"age\"],\"yaxis\":\"y2\"}],                        {\"barmode\":\"overlay\",\"hovermode\":\"closest\",\"legend\":{\"traceorder\":\"reversed\"},\"template\":{\"data\":{\"bar\":[{\"error_x\":{\"color\":\"#2a3f5f\"},\"error_y\":{\"color\":\"#2a3f5f\"},\"marker\":{\"line\":{\"color\":\"#E5ECF6\",\"width\":0.5},\"pattern\":{\"fillmode\":\"overlay\",\"size\":10,\"solidity\":0.2}},\"type\":\"bar\"}],\"barpolar\":[{\"marker\":{\"line\":{\"color\":\"#E5ECF6\",\"width\":0.5},\"pattern\":{\"fillmode\":\"overlay\",\"size\":10,\"solidity\":0.2}},\"type\":\"barpolar\"}],\"carpet\":[{\"aaxis\":{\"endlinecolor\":\"#2a3f5f\",\"gridcolor\":\"white\",\"linecolor\":\"white\",\"minorgridcolor\":\"white\",\"startlinecolor\":\"#2a3f5f\"},\"baxis\":{\"endlinecolor\":\"#2a3f5f\",\"gridcolor\":\"white\",\"linecolor\":\"white\",\"minorgridcolor\":\"white\",\"startlinecolor\":\"#2a3f5f\"},\"type\":\"carpet\"}],\"choropleth\":[{\"colorbar\":{\"outlinewidth\":0,\"ticks\":\"\"},\"type\":\"choropleth\"}],\"contour\":[{\"colorbar\":{\"outlinewidth\":0,\"ticks\":\"\"},\"colorscale\":[[0.0,\"#0d0887\"],[0.1111111111111111,\"#46039f\"],[0.2222222222222222,\"#7201a8\"],[0.3333333333333333,\"#9c179e\"],[0.4444444444444444,\"#bd3786\"],[0.5555555555555556,\"#d8576b\"],[0.6666666666666666,\"#ed7953\"],[0.7777777777777778,\"#fb9f3a\"],[0.8888888888888888,\"#fdca26\"],[1.0,\"#f0f921\"]],\"type\":\"contour\"}],\"contourcarpet\":[{\"colorbar\":{\"outlinewidth\":0,\"ticks\":\"\"},\"type\":\"contourcarpet\"}],\"heatmap\":[{\"colorbar\":{\"outlinewidth\":0,\"ticks\":\"\"},\"colorscale\":[[0.0,\"#0d0887\"],[0.1111111111111111,\"#46039f\"],[0.2222222222222222,\"#7201a8\"],[0.3333333333333333,\"#9c179e\"],[0.4444444444444444,\"#bd3786\"],[0.5555555555555556,\"#d8576b\"],[0.6666666666666666,\"#ed7953\"],[0.7777777777777778,\"#fb9f3a\"],[0.8888888888888888,\"#fdca26\"],[1.0,\"#f0f921\"]],\"type\":\"heatmap\"}],\"heatmapgl\":[{\"colorbar\":{\"outlinewidth\":0,\"ticks\":\"\"},\"colorscale\":[[0.0,\"#0d0887\"],[0.1111111111111111,\"#46039f\"],[0.2222222222222222,\"#7201a8\"],[0.3333333333333333,\"#9c179e\"],[0.4444444444444444,\"#bd3786\"],[0.5555555555555556,\"#d8576b\"],[0.6666666666666666,\"#ed7953\"],[0.7777777777777778,\"#fb9f3a\"],[0.8888888888888888,\"#fdca26\"],[1.0,\"#f0f921\"]],\"type\":\"heatmapgl\"}],\"histogram\":[{\"marker\":{\"pattern\":{\"fillmode\":\"overlay\",\"size\":10,\"solidity\":0.2}},\"type\":\"histogram\"}],\"histogram2d\":[{\"colorbar\":{\"outlinewidth\":0,\"ticks\":\"\"},\"colorscale\":[[0.0,\"#0d0887\"],[0.1111111111111111,\"#46039f\"],[0.2222222222222222,\"#7201a8\"],[0.3333333333333333,\"#9c179e\"],[0.4444444444444444,\"#bd3786\"],[0.5555555555555556,\"#d8576b\"],[0.6666666666666666,\"#ed7953\"],[0.7777777777777778,\"#fb9f3a\"],[0.8888888888888888,\"#fdca26\"],[1.0,\"#f0f921\"]],\"type\":\"histogram2d\"}],\"histogram2dcontour\":[{\"colorbar\":{\"outlinewidth\":0,\"ticks\":\"\"},\"colorscale\":[[0.0,\"#0d0887\"],[0.1111111111111111,\"#46039f\"],[0.2222222222222222,\"#7201a8\"],[0.3333333333333333,\"#9c179e\"],[0.4444444444444444,\"#bd3786\"],[0.5555555555555556,\"#d8576b\"],[0.6666666666666666,\"#ed7953\"],[0.7777777777777778,\"#fb9f3a\"],[0.8888888888888888,\"#fdca26\"],[1.0,\"#f0f921\"]],\"type\":\"histogram2dcontour\"}],\"mesh3d\":[{\"colorbar\":{\"outlinewidth\":0,\"ticks\":\"\"},\"type\":\"mesh3d\"}],\"parcoords\":[{\"line\":{\"colorbar\":{\"outlinewidth\":0,\"ticks\":\"\"}},\"type\":\"parcoords\"}],\"pie\":[{\"automargin\":true,\"type\":\"pie\"}],\"scatter\":[{\"marker\":{\"colorbar\":{\"outlinewidth\":0,\"ticks\":\"\"}},\"type\":\"scatter\"}],\"scatter3d\":[{\"line\":{\"colorbar\":{\"outlinewidth\":0,\"ticks\":\"\"}},\"marker\":{\"colorbar\":{\"outlinewidth\":0,\"ticks\":\"\"}},\"type\":\"scatter3d\"}],\"scattercarpet\":[{\"marker\":{\"colorbar\":{\"outlinewidth\":0,\"ticks\":\"\"}},\"type\":\"scattercarpet\"}],\"scattergeo\":[{\"marker\":{\"colorbar\":{\"outlinewidth\":0,\"ticks\":\"\"}},\"type\":\"scattergeo\"}],\"scattergl\":[{\"marker\":{\"colorbar\":{\"outlinewidth\":0,\"ticks\":\"\"}},\"type\":\"scattergl\"}],\"scattermapbox\":[{\"marker\":{\"colorbar\":{\"outlinewidth\":0,\"ticks\":\"\"}},\"type\":\"scattermapbox\"}],\"scatterpolar\":[{\"marker\":{\"colorbar\":{\"outlinewidth\":0,\"ticks\":\"\"}},\"type\":\"scatterpolar\"}],\"scatterpolargl\":[{\"marker\":{\"colorbar\":{\"outlinewidth\":0,\"ticks\":\"\"}},\"type\":\"scatterpolargl\"}],\"scatterternary\":[{\"marker\":{\"colorbar\":{\"outlinewidth\":0,\"ticks\":\"\"}},\"type\":\"scatterternary\"}],\"surface\":[{\"colorbar\":{\"outlinewidth\":0,\"ticks\":\"\"},\"colorscale\":[[0.0,\"#0d0887\"],[0.1111111111111111,\"#46039f\"],[0.2222222222222222,\"#7201a8\"],[0.3333333333333333,\"#9c179e\"],[0.4444444444444444,\"#bd3786\"],[0.5555555555555556,\"#d8576b\"],[0.6666666666666666,\"#ed7953\"],[0.7777777777777778,\"#fb9f3a\"],[0.8888888888888888,\"#fdca26\"],[1.0,\"#f0f921\"]],\"type\":\"surface\"}],\"table\":[{\"cells\":{\"fill\":{\"color\":\"#EBF0F8\"},\"line\":{\"color\":\"white\"}},\"header\":{\"fill\":{\"color\":\"#C8D4E3\"},\"line\":{\"color\":\"white\"}},\"type\":\"table\"}]},\"layout\":{\"annotationdefaults\":{\"arrowcolor\":\"#2a3f5f\",\"arrowhead\":0,\"arrowwidth\":1},\"autotypenumbers\":\"strict\",\"coloraxis\":{\"colorbar\":{\"outlinewidth\":0,\"ticks\":\"\"}},\"colorscale\":{\"diverging\":[[0,\"#8e0152\"],[0.1,\"#c51b7d\"],[0.2,\"#de77ae\"],[0.3,\"#f1b6da\"],[0.4,\"#fde0ef\"],[0.5,\"#f7f7f7\"],[0.6,\"#e6f5d0\"],[0.7,\"#b8e186\"],[0.8,\"#7fbc41\"],[0.9,\"#4d9221\"],[1,\"#276419\"]],\"sequential\":[[0.0,\"#0d0887\"],[0.1111111111111111,\"#46039f\"],[0.2222222222222222,\"#7201a8\"],[0.3333333333333333,\"#9c179e\"],[0.4444444444444444,\"#bd3786\"],[0.5555555555555556,\"#d8576b\"],[0.6666666666666666,\"#ed7953\"],[0.7777777777777778,\"#fb9f3a\"],[0.8888888888888888,\"#fdca26\"],[1.0,\"#f0f921\"]],\"sequentialminus\":[[0.0,\"#0d0887\"],[0.1111111111111111,\"#46039f\"],[0.2222222222222222,\"#7201a8\"],[0.3333333333333333,\"#9c179e\"],[0.4444444444444444,\"#bd3786\"],[0.5555555555555556,\"#d8576b\"],[0.6666666666666666,\"#ed7953\"],[0.7777777777777778,\"#fb9f3a\"],[0.8888888888888888,\"#fdca26\"],[1.0,\"#f0f921\"]]},\"colorway\":[\"#636efa\",\"#EF553B\",\"#00cc96\",\"#ab63fa\",\"#FFA15A\",\"#19d3f3\",\"#FF6692\",\"#B6E880\",\"#FF97FF\",\"#FECB52\"],\"font\":{\"color\":\"#2a3f5f\"},\"geo\":{\"bgcolor\":\"white\",\"lakecolor\":\"white\",\"landcolor\":\"#E5ECF6\",\"showlakes\":true,\"showland\":true,\"subunitcolor\":\"white\"},\"hoverlabel\":{\"align\":\"left\"},\"hovermode\":\"closest\",\"mapbox\":{\"style\":\"light\"},\"paper_bgcolor\":\"white\",\"plot_bgcolor\":\"#E5ECF6\",\"polar\":{\"angularaxis\":{\"gridcolor\":\"white\",\"linecolor\":\"white\",\"ticks\":\"\"},\"bgcolor\":\"#E5ECF6\",\"radialaxis\":{\"gridcolor\":\"white\",\"linecolor\":\"white\",\"ticks\":\"\"}},\"scene\":{\"xaxis\":{\"backgroundcolor\":\"#E5ECF6\",\"gridcolor\":\"white\",\"gridwidth\":2,\"linecolor\":\"white\",\"showbackground\":true,\"ticks\":\"\",\"zerolinecolor\":\"white\"},\"yaxis\":{\"backgroundcolor\":\"#E5ECF6\",\"gridcolor\":\"white\",\"gridwidth\":2,\"linecolor\":\"white\",\"showbackground\":true,\"ticks\":\"\",\"zerolinecolor\":\"white\"},\"zaxis\":{\"backgroundcolor\":\"#E5ECF6\",\"gridcolor\":\"white\",\"gridwidth\":2,\"linecolor\":\"white\",\"showbackground\":true,\"ticks\":\"\",\"zerolinecolor\":\"white\"}},\"shapedefaults\":{\"line\":{\"color\":\"#2a3f5f\"}},\"ternary\":{\"aaxis\":{\"gridcolor\":\"white\",\"linecolor\":\"white\",\"ticks\":\"\"},\"baxis\":{\"gridcolor\":\"white\",\"linecolor\":\"white\",\"ticks\":\"\"},\"bgcolor\":\"#E5ECF6\",\"caxis\":{\"gridcolor\":\"white\",\"linecolor\":\"white\",\"ticks\":\"\"}},\"title\":{\"x\":0.05},\"xaxis\":{\"automargin\":true,\"gridcolor\":\"white\",\"linecolor\":\"white\",\"ticks\":\"\",\"title\":{\"standoff\":15},\"zerolinecolor\":\"white\",\"zerolinewidth\":2},\"yaxis\":{\"automargin\":true,\"gridcolor\":\"white\",\"linecolor\":\"white\",\"ticks\":\"\",\"title\":{\"standoff\":15},\"zerolinecolor\":\"white\",\"zerolinewidth\":2}}},\"title\":{\"text\":\"Distribusi umur\"},\"xaxis\":{\"anchor\":\"y2\",\"domain\":[0.0,1.0],\"zeroline\":false},\"yaxis\":{\"anchor\":\"free\",\"domain\":[0.35,1],\"position\":0.0},\"yaxis2\":{\"anchor\":\"x\",\"domain\":[0,0.25],\"dtick\":1,\"showticklabels\":false}},                        {\"responsive\": true}                    ).then(function(){\n",
       "                            \n",
       "var gd = document.getElementById('399a2a59-81a1-4e13-9628-a594848ebbae');\n",
       "var x = new MutationObserver(function (mutations, observer) {{\n",
       "        var display = window.getComputedStyle(gd).display;\n",
       "        if (!display || display === 'none') {{\n",
       "            console.log([gd, 'removed!']);\n",
       "            Plotly.purge(gd);\n",
       "            observer.disconnect();\n",
       "        }}\n",
       "}});\n",
       "\n",
       "// Listen for the removal of the full notebook cells\n",
       "var notebookContainer = gd.closest('#notebook-container');\n",
       "if (notebookContainer) {{\n",
       "    x.observe(notebookContainer, {childList: true});\n",
       "}}\n",
       "\n",
       "// Listen for the clearing of the current output cell\n",
       "var outputEl = gd.closest('.output');\n",
       "if (outputEl) {{\n",
       "    x.observe(outputEl, {childList: true});\n",
       "}}\n",
       "\n",
       "                        })                };                });            </script>        </div>"
      ]
     },
     "metadata": {},
     "output_type": "display_data"
    }
   ],
   "source": [
    "hist_data =[df[\"age\"].values]\n",
    "group_labels = ['age'] \n",
    "\n",
    "fig = ff.create_distplot(hist_data, group_labels)\n",
    "fig.update_layout(title_text='Distribusi umur')\n",
    "\n",
    "fig.show()"
   ]
  },
  {
   "cell_type": "markdown",
   "id": "c7fda451",
   "metadata": {},
   "source": [
    "- Usia rentan kegagalan jantung adalah pada usia 40~80 Tahun\n",
    "- Usia dibawah 40 Tahun tidak rentan terhadap penyakit gagal jantung"
   ]
  },
  {
   "cell_type": "code",
   "execution_count": 25,
   "id": "b9ebb3a1",
   "metadata": {},
   "outputs": [
    {
     "name": "stderr",
     "output_type": "stream",
     "text": [
      "<ipython-input-25-87971a563fc7>:4: UserWarning:\n",
      "\n",
      "Boolean Series key will be reindexed to match DataFrame index.\n",
      "\n",
      "<ipython-input-25-87971a563fc7>:5: UserWarning:\n",
      "\n",
      "Boolean Series key will be reindexed to match DataFrame index.\n",
      "\n",
      "<ipython-input-25-87971a563fc7>:6: UserWarning:\n",
      "\n",
      "Boolean Series key will be reindexed to match DataFrame index.\n",
      "\n",
      "<ipython-input-25-87971a563fc7>:7: UserWarning:\n",
      "\n",
      "Boolean Series key will be reindexed to match DataFrame index.\n",
      "\n",
      "<ipython-input-25-87971a563fc7>:10: UserWarning:\n",
      "\n",
      "Boolean Series key will be reindexed to match DataFrame index.\n",
      "\n",
      "<ipython-input-25-87971a563fc7>:10: UserWarning:\n",
      "\n",
      "Boolean Series key will be reindexed to match DataFrame index.\n",
      "\n",
      "<ipython-input-25-87971a563fc7>:11: UserWarning:\n",
      "\n",
      "Boolean Series key will be reindexed to match DataFrame index.\n",
      "\n",
      "<ipython-input-25-87971a563fc7>:11: UserWarning:\n",
      "\n",
      "Boolean Series key will be reindexed to match DataFrame index.\n",
      "\n"
     ]
    },
    {
     "data": {
      "application/vnd.plotly.v1+json": {
       "config": {
        "plotlyServerURL": "https://plot.ly"
       },
       "data": [
        {
         "hole": 0.4,
         "labels": [
          "Male - Survived",
          "Male - Not Survived",
          "Female -  Survived",
          "Female - Not Survived"
         ],
         "type": "pie",
         "values": [
          132,
          62,
          71,
          34
         ]
        }
       ],
       "layout": {
        "template": {
         "data": {
          "bar": [
           {
            "error_x": {
             "color": "#2a3f5f"
            },
            "error_y": {
             "color": "#2a3f5f"
            },
            "marker": {
             "line": {
              "color": "#E5ECF6",
              "width": 0.5
             },
             "pattern": {
              "fillmode": "overlay",
              "size": 10,
              "solidity": 0.2
             }
            },
            "type": "bar"
           }
          ],
          "barpolar": [
           {
            "marker": {
             "line": {
              "color": "#E5ECF6",
              "width": 0.5
             },
             "pattern": {
              "fillmode": "overlay",
              "size": 10,
              "solidity": 0.2
             }
            },
            "type": "barpolar"
           }
          ],
          "carpet": [
           {
            "aaxis": {
             "endlinecolor": "#2a3f5f",
             "gridcolor": "white",
             "linecolor": "white",
             "minorgridcolor": "white",
             "startlinecolor": "#2a3f5f"
            },
            "baxis": {
             "endlinecolor": "#2a3f5f",
             "gridcolor": "white",
             "linecolor": "white",
             "minorgridcolor": "white",
             "startlinecolor": "#2a3f5f"
            },
            "type": "carpet"
           }
          ],
          "choropleth": [
           {
            "colorbar": {
             "outlinewidth": 0,
             "ticks": ""
            },
            "type": "choropleth"
           }
          ],
          "contour": [
           {
            "colorbar": {
             "outlinewidth": 0,
             "ticks": ""
            },
            "colorscale": [
             [
              0,
              "#0d0887"
             ],
             [
              0.1111111111111111,
              "#46039f"
             ],
             [
              0.2222222222222222,
              "#7201a8"
             ],
             [
              0.3333333333333333,
              "#9c179e"
             ],
             [
              0.4444444444444444,
              "#bd3786"
             ],
             [
              0.5555555555555556,
              "#d8576b"
             ],
             [
              0.6666666666666666,
              "#ed7953"
             ],
             [
              0.7777777777777778,
              "#fb9f3a"
             ],
             [
              0.8888888888888888,
              "#fdca26"
             ],
             [
              1,
              "#f0f921"
             ]
            ],
            "type": "contour"
           }
          ],
          "contourcarpet": [
           {
            "colorbar": {
             "outlinewidth": 0,
             "ticks": ""
            },
            "type": "contourcarpet"
           }
          ],
          "heatmap": [
           {
            "colorbar": {
             "outlinewidth": 0,
             "ticks": ""
            },
            "colorscale": [
             [
              0,
              "#0d0887"
             ],
             [
              0.1111111111111111,
              "#46039f"
             ],
             [
              0.2222222222222222,
              "#7201a8"
             ],
             [
              0.3333333333333333,
              "#9c179e"
             ],
             [
              0.4444444444444444,
              "#bd3786"
             ],
             [
              0.5555555555555556,
              "#d8576b"
             ],
             [
              0.6666666666666666,
              "#ed7953"
             ],
             [
              0.7777777777777778,
              "#fb9f3a"
             ],
             [
              0.8888888888888888,
              "#fdca26"
             ],
             [
              1,
              "#f0f921"
             ]
            ],
            "type": "heatmap"
           }
          ],
          "heatmapgl": [
           {
            "colorbar": {
             "outlinewidth": 0,
             "ticks": ""
            },
            "colorscale": [
             [
              0,
              "#0d0887"
             ],
             [
              0.1111111111111111,
              "#46039f"
             ],
             [
              0.2222222222222222,
              "#7201a8"
             ],
             [
              0.3333333333333333,
              "#9c179e"
             ],
             [
              0.4444444444444444,
              "#bd3786"
             ],
             [
              0.5555555555555556,
              "#d8576b"
             ],
             [
              0.6666666666666666,
              "#ed7953"
             ],
             [
              0.7777777777777778,
              "#fb9f3a"
             ],
             [
              0.8888888888888888,
              "#fdca26"
             ],
             [
              1,
              "#f0f921"
             ]
            ],
            "type": "heatmapgl"
           }
          ],
          "histogram": [
           {
            "marker": {
             "pattern": {
              "fillmode": "overlay",
              "size": 10,
              "solidity": 0.2
             }
            },
            "type": "histogram"
           }
          ],
          "histogram2d": [
           {
            "colorbar": {
             "outlinewidth": 0,
             "ticks": ""
            },
            "colorscale": [
             [
              0,
              "#0d0887"
             ],
             [
              0.1111111111111111,
              "#46039f"
             ],
             [
              0.2222222222222222,
              "#7201a8"
             ],
             [
              0.3333333333333333,
              "#9c179e"
             ],
             [
              0.4444444444444444,
              "#bd3786"
             ],
             [
              0.5555555555555556,
              "#d8576b"
             ],
             [
              0.6666666666666666,
              "#ed7953"
             ],
             [
              0.7777777777777778,
              "#fb9f3a"
             ],
             [
              0.8888888888888888,
              "#fdca26"
             ],
             [
              1,
              "#f0f921"
             ]
            ],
            "type": "histogram2d"
           }
          ],
          "histogram2dcontour": [
           {
            "colorbar": {
             "outlinewidth": 0,
             "ticks": ""
            },
            "colorscale": [
             [
              0,
              "#0d0887"
             ],
             [
              0.1111111111111111,
              "#46039f"
             ],
             [
              0.2222222222222222,
              "#7201a8"
             ],
             [
              0.3333333333333333,
              "#9c179e"
             ],
             [
              0.4444444444444444,
              "#bd3786"
             ],
             [
              0.5555555555555556,
              "#d8576b"
             ],
             [
              0.6666666666666666,
              "#ed7953"
             ],
             [
              0.7777777777777778,
              "#fb9f3a"
             ],
             [
              0.8888888888888888,
              "#fdca26"
             ],
             [
              1,
              "#f0f921"
             ]
            ],
            "type": "histogram2dcontour"
           }
          ],
          "mesh3d": [
           {
            "colorbar": {
             "outlinewidth": 0,
             "ticks": ""
            },
            "type": "mesh3d"
           }
          ],
          "parcoords": [
           {
            "line": {
             "colorbar": {
              "outlinewidth": 0,
              "ticks": ""
             }
            },
            "type": "parcoords"
           }
          ],
          "pie": [
           {
            "automargin": true,
            "type": "pie"
           }
          ],
          "scatter": [
           {
            "marker": {
             "colorbar": {
              "outlinewidth": 0,
              "ticks": ""
             }
            },
            "type": "scatter"
           }
          ],
          "scatter3d": [
           {
            "line": {
             "colorbar": {
              "outlinewidth": 0,
              "ticks": ""
             }
            },
            "marker": {
             "colorbar": {
              "outlinewidth": 0,
              "ticks": ""
             }
            },
            "type": "scatter3d"
           }
          ],
          "scattercarpet": [
           {
            "marker": {
             "colorbar": {
              "outlinewidth": 0,
              "ticks": ""
             }
            },
            "type": "scattercarpet"
           }
          ],
          "scattergeo": [
           {
            "marker": {
             "colorbar": {
              "outlinewidth": 0,
              "ticks": ""
             }
            },
            "type": "scattergeo"
           }
          ],
          "scattergl": [
           {
            "marker": {
             "colorbar": {
              "outlinewidth": 0,
              "ticks": ""
             }
            },
            "type": "scattergl"
           }
          ],
          "scattermapbox": [
           {
            "marker": {
             "colorbar": {
              "outlinewidth": 0,
              "ticks": ""
             }
            },
            "type": "scattermapbox"
           }
          ],
          "scatterpolar": [
           {
            "marker": {
             "colorbar": {
              "outlinewidth": 0,
              "ticks": ""
             }
            },
            "type": "scatterpolar"
           }
          ],
          "scatterpolargl": [
           {
            "marker": {
             "colorbar": {
              "outlinewidth": 0,
              "ticks": ""
             }
            },
            "type": "scatterpolargl"
           }
          ],
          "scatterternary": [
           {
            "marker": {
             "colorbar": {
              "outlinewidth": 0,
              "ticks": ""
             }
            },
            "type": "scatterternary"
           }
          ],
          "surface": [
           {
            "colorbar": {
             "outlinewidth": 0,
             "ticks": ""
            },
            "colorscale": [
             [
              0,
              "#0d0887"
             ],
             [
              0.1111111111111111,
              "#46039f"
             ],
             [
              0.2222222222222222,
              "#7201a8"
             ],
             [
              0.3333333333333333,
              "#9c179e"
             ],
             [
              0.4444444444444444,
              "#bd3786"
             ],
             [
              0.5555555555555556,
              "#d8576b"
             ],
             [
              0.6666666666666666,
              "#ed7953"
             ],
             [
              0.7777777777777778,
              "#fb9f3a"
             ],
             [
              0.8888888888888888,
              "#fdca26"
             ],
             [
              1,
              "#f0f921"
             ]
            ],
            "type": "surface"
           }
          ],
          "table": [
           {
            "cells": {
             "fill": {
              "color": "#EBF0F8"
             },
             "line": {
              "color": "white"
             }
            },
            "header": {
             "fill": {
              "color": "#C8D4E3"
             },
             "line": {
              "color": "white"
             }
            },
            "type": "table"
           }
          ]
         },
         "layout": {
          "annotationdefaults": {
           "arrowcolor": "#2a3f5f",
           "arrowhead": 0,
           "arrowwidth": 1
          },
          "autotypenumbers": "strict",
          "coloraxis": {
           "colorbar": {
            "outlinewidth": 0,
            "ticks": ""
           }
          },
          "colorscale": {
           "diverging": [
            [
             0,
             "#8e0152"
            ],
            [
             0.1,
             "#c51b7d"
            ],
            [
             0.2,
             "#de77ae"
            ],
            [
             0.3,
             "#f1b6da"
            ],
            [
             0.4,
             "#fde0ef"
            ],
            [
             0.5,
             "#f7f7f7"
            ],
            [
             0.6,
             "#e6f5d0"
            ],
            [
             0.7,
             "#b8e186"
            ],
            [
             0.8,
             "#7fbc41"
            ],
            [
             0.9,
             "#4d9221"
            ],
            [
             1,
             "#276419"
            ]
           ],
           "sequential": [
            [
             0,
             "#0d0887"
            ],
            [
             0.1111111111111111,
             "#46039f"
            ],
            [
             0.2222222222222222,
             "#7201a8"
            ],
            [
             0.3333333333333333,
             "#9c179e"
            ],
            [
             0.4444444444444444,
             "#bd3786"
            ],
            [
             0.5555555555555556,
             "#d8576b"
            ],
            [
             0.6666666666666666,
             "#ed7953"
            ],
            [
             0.7777777777777778,
             "#fb9f3a"
            ],
            [
             0.8888888888888888,
             "#fdca26"
            ],
            [
             1,
             "#f0f921"
            ]
           ],
           "sequentialminus": [
            [
             0,
             "#0d0887"
            ],
            [
             0.1111111111111111,
             "#46039f"
            ],
            [
             0.2222222222222222,
             "#7201a8"
            ],
            [
             0.3333333333333333,
             "#9c179e"
            ],
            [
             0.4444444444444444,
             "#bd3786"
            ],
            [
             0.5555555555555556,
             "#d8576b"
            ],
            [
             0.6666666666666666,
             "#ed7953"
            ],
            [
             0.7777777777777778,
             "#fb9f3a"
            ],
            [
             0.8888888888888888,
             "#fdca26"
            ],
            [
             1,
             "#f0f921"
            ]
           ]
          },
          "colorway": [
           "#636efa",
           "#EF553B",
           "#00cc96",
           "#ab63fa",
           "#FFA15A",
           "#19d3f3",
           "#FF6692",
           "#B6E880",
           "#FF97FF",
           "#FECB52"
          ],
          "font": {
           "color": "#2a3f5f"
          },
          "geo": {
           "bgcolor": "white",
           "lakecolor": "white",
           "landcolor": "#E5ECF6",
           "showlakes": true,
           "showland": true,
           "subunitcolor": "white"
          },
          "hoverlabel": {
           "align": "left"
          },
          "hovermode": "closest",
          "mapbox": {
           "style": "light"
          },
          "paper_bgcolor": "white",
          "plot_bgcolor": "#E5ECF6",
          "polar": {
           "angularaxis": {
            "gridcolor": "white",
            "linecolor": "white",
            "ticks": ""
           },
           "bgcolor": "#E5ECF6",
           "radialaxis": {
            "gridcolor": "white",
            "linecolor": "white",
            "ticks": ""
           }
          },
          "scene": {
           "xaxis": {
            "backgroundcolor": "#E5ECF6",
            "gridcolor": "white",
            "gridwidth": 2,
            "linecolor": "white",
            "showbackground": true,
            "ticks": "",
            "zerolinecolor": "white"
           },
           "yaxis": {
            "backgroundcolor": "#E5ECF6",
            "gridcolor": "white",
            "gridwidth": 2,
            "linecolor": "white",
            "showbackground": true,
            "ticks": "",
            "zerolinecolor": "white"
           },
           "zaxis": {
            "backgroundcolor": "#E5ECF6",
            "gridcolor": "white",
            "gridwidth": 2,
            "linecolor": "white",
            "showbackground": true,
            "ticks": "",
            "zerolinecolor": "white"
           }
          },
          "shapedefaults": {
           "line": {
            "color": "#2a3f5f"
           }
          },
          "ternary": {
           "aaxis": {
            "gridcolor": "white",
            "linecolor": "white",
            "ticks": ""
           },
           "baxis": {
            "gridcolor": "white",
            "linecolor": "white",
            "ticks": ""
           },
           "bgcolor": "#E5ECF6",
           "caxis": {
            "gridcolor": "white",
            "linecolor": "white",
            "ticks": ""
           }
          },
          "title": {
           "x": 0.05
          },
          "xaxis": {
           "automargin": true,
           "gridcolor": "white",
           "linecolor": "white",
           "ticks": "",
           "title": {
            "standoff": 15
           },
           "zerolinecolor": "white",
           "zerolinewidth": 2
          },
          "yaxis": {
           "automargin": true,
           "gridcolor": "white",
           "linecolor": "white",
           "ticks": "",
           "title": {
            "standoff": 15
           },
           "zerolinecolor": "white",
           "zerolinewidth": 2
          }
         }
        },
        "title": {
         "text": "Analysis on Survival - Gender"
        }
       }
      },
      "text/html": [
       "<div>                            <div id=\"7d2ba341-9a4d-49d2-801c-61b139cac614\" class=\"plotly-graph-div\" style=\"height:525px; width:100%;\"></div>            <script type=\"text/javascript\">                require([\"plotly\"], function(Plotly) {                    window.PLOTLYENV=window.PLOTLYENV || {};                                    if (document.getElementById(\"7d2ba341-9a4d-49d2-801c-61b139cac614\")) {                    Plotly.newPlot(                        \"7d2ba341-9a4d-49d2-801c-61b139cac614\",                        [{\"hole\":0.4,\"labels\":[\"Male - Survived\",\"Male - Not Survived\",\"Female -  Survived\",\"Female - Not Survived\"],\"type\":\"pie\",\"values\":[132,62,71,34]}],                        {\"template\":{\"data\":{\"bar\":[{\"error_x\":{\"color\":\"#2a3f5f\"},\"error_y\":{\"color\":\"#2a3f5f\"},\"marker\":{\"line\":{\"color\":\"#E5ECF6\",\"width\":0.5},\"pattern\":{\"fillmode\":\"overlay\",\"size\":10,\"solidity\":0.2}},\"type\":\"bar\"}],\"barpolar\":[{\"marker\":{\"line\":{\"color\":\"#E5ECF6\",\"width\":0.5},\"pattern\":{\"fillmode\":\"overlay\",\"size\":10,\"solidity\":0.2}},\"type\":\"barpolar\"}],\"carpet\":[{\"aaxis\":{\"endlinecolor\":\"#2a3f5f\",\"gridcolor\":\"white\",\"linecolor\":\"white\",\"minorgridcolor\":\"white\",\"startlinecolor\":\"#2a3f5f\"},\"baxis\":{\"endlinecolor\":\"#2a3f5f\",\"gridcolor\":\"white\",\"linecolor\":\"white\",\"minorgridcolor\":\"white\",\"startlinecolor\":\"#2a3f5f\"},\"type\":\"carpet\"}],\"choropleth\":[{\"colorbar\":{\"outlinewidth\":0,\"ticks\":\"\"},\"type\":\"choropleth\"}],\"contour\":[{\"colorbar\":{\"outlinewidth\":0,\"ticks\":\"\"},\"colorscale\":[[0.0,\"#0d0887\"],[0.1111111111111111,\"#46039f\"],[0.2222222222222222,\"#7201a8\"],[0.3333333333333333,\"#9c179e\"],[0.4444444444444444,\"#bd3786\"],[0.5555555555555556,\"#d8576b\"],[0.6666666666666666,\"#ed7953\"],[0.7777777777777778,\"#fb9f3a\"],[0.8888888888888888,\"#fdca26\"],[1.0,\"#f0f921\"]],\"type\":\"contour\"}],\"contourcarpet\":[{\"colorbar\":{\"outlinewidth\":0,\"ticks\":\"\"},\"type\":\"contourcarpet\"}],\"heatmap\":[{\"colorbar\":{\"outlinewidth\":0,\"ticks\":\"\"},\"colorscale\":[[0.0,\"#0d0887\"],[0.1111111111111111,\"#46039f\"],[0.2222222222222222,\"#7201a8\"],[0.3333333333333333,\"#9c179e\"],[0.4444444444444444,\"#bd3786\"],[0.5555555555555556,\"#d8576b\"],[0.6666666666666666,\"#ed7953\"],[0.7777777777777778,\"#fb9f3a\"],[0.8888888888888888,\"#fdca26\"],[1.0,\"#f0f921\"]],\"type\":\"heatmap\"}],\"heatmapgl\":[{\"colorbar\":{\"outlinewidth\":0,\"ticks\":\"\"},\"colorscale\":[[0.0,\"#0d0887\"],[0.1111111111111111,\"#46039f\"],[0.2222222222222222,\"#7201a8\"],[0.3333333333333333,\"#9c179e\"],[0.4444444444444444,\"#bd3786\"],[0.5555555555555556,\"#d8576b\"],[0.6666666666666666,\"#ed7953\"],[0.7777777777777778,\"#fb9f3a\"],[0.8888888888888888,\"#fdca26\"],[1.0,\"#f0f921\"]],\"type\":\"heatmapgl\"}],\"histogram\":[{\"marker\":{\"pattern\":{\"fillmode\":\"overlay\",\"size\":10,\"solidity\":0.2}},\"type\":\"histogram\"}],\"histogram2d\":[{\"colorbar\":{\"outlinewidth\":0,\"ticks\":\"\"},\"colorscale\":[[0.0,\"#0d0887\"],[0.1111111111111111,\"#46039f\"],[0.2222222222222222,\"#7201a8\"],[0.3333333333333333,\"#9c179e\"],[0.4444444444444444,\"#bd3786\"],[0.5555555555555556,\"#d8576b\"],[0.6666666666666666,\"#ed7953\"],[0.7777777777777778,\"#fb9f3a\"],[0.8888888888888888,\"#fdca26\"],[1.0,\"#f0f921\"]],\"type\":\"histogram2d\"}],\"histogram2dcontour\":[{\"colorbar\":{\"outlinewidth\":0,\"ticks\":\"\"},\"colorscale\":[[0.0,\"#0d0887\"],[0.1111111111111111,\"#46039f\"],[0.2222222222222222,\"#7201a8\"],[0.3333333333333333,\"#9c179e\"],[0.4444444444444444,\"#bd3786\"],[0.5555555555555556,\"#d8576b\"],[0.6666666666666666,\"#ed7953\"],[0.7777777777777778,\"#fb9f3a\"],[0.8888888888888888,\"#fdca26\"],[1.0,\"#f0f921\"]],\"type\":\"histogram2dcontour\"}],\"mesh3d\":[{\"colorbar\":{\"outlinewidth\":0,\"ticks\":\"\"},\"type\":\"mesh3d\"}],\"parcoords\":[{\"line\":{\"colorbar\":{\"outlinewidth\":0,\"ticks\":\"\"}},\"type\":\"parcoords\"}],\"pie\":[{\"automargin\":true,\"type\":\"pie\"}],\"scatter\":[{\"marker\":{\"colorbar\":{\"outlinewidth\":0,\"ticks\":\"\"}},\"type\":\"scatter\"}],\"scatter3d\":[{\"line\":{\"colorbar\":{\"outlinewidth\":0,\"ticks\":\"\"}},\"marker\":{\"colorbar\":{\"outlinewidth\":0,\"ticks\":\"\"}},\"type\":\"scatter3d\"}],\"scattercarpet\":[{\"marker\":{\"colorbar\":{\"outlinewidth\":0,\"ticks\":\"\"}},\"type\":\"scattercarpet\"}],\"scattergeo\":[{\"marker\":{\"colorbar\":{\"outlinewidth\":0,\"ticks\":\"\"}},\"type\":\"scattergeo\"}],\"scattergl\":[{\"marker\":{\"colorbar\":{\"outlinewidth\":0,\"ticks\":\"\"}},\"type\":\"scattergl\"}],\"scattermapbox\":[{\"marker\":{\"colorbar\":{\"outlinewidth\":0,\"ticks\":\"\"}},\"type\":\"scattermapbox\"}],\"scatterpolar\":[{\"marker\":{\"colorbar\":{\"outlinewidth\":0,\"ticks\":\"\"}},\"type\":\"scatterpolar\"}],\"scatterpolargl\":[{\"marker\":{\"colorbar\":{\"outlinewidth\":0,\"ticks\":\"\"}},\"type\":\"scatterpolargl\"}],\"scatterternary\":[{\"marker\":{\"colorbar\":{\"outlinewidth\":0,\"ticks\":\"\"}},\"type\":\"scatterternary\"}],\"surface\":[{\"colorbar\":{\"outlinewidth\":0,\"ticks\":\"\"},\"colorscale\":[[0.0,\"#0d0887\"],[0.1111111111111111,\"#46039f\"],[0.2222222222222222,\"#7201a8\"],[0.3333333333333333,\"#9c179e\"],[0.4444444444444444,\"#bd3786\"],[0.5555555555555556,\"#d8576b\"],[0.6666666666666666,\"#ed7953\"],[0.7777777777777778,\"#fb9f3a\"],[0.8888888888888888,\"#fdca26\"],[1.0,\"#f0f921\"]],\"type\":\"surface\"}],\"table\":[{\"cells\":{\"fill\":{\"color\":\"#EBF0F8\"},\"line\":{\"color\":\"white\"}},\"header\":{\"fill\":{\"color\":\"#C8D4E3\"},\"line\":{\"color\":\"white\"}},\"type\":\"table\"}]},\"layout\":{\"annotationdefaults\":{\"arrowcolor\":\"#2a3f5f\",\"arrowhead\":0,\"arrowwidth\":1},\"autotypenumbers\":\"strict\",\"coloraxis\":{\"colorbar\":{\"outlinewidth\":0,\"ticks\":\"\"}},\"colorscale\":{\"diverging\":[[0,\"#8e0152\"],[0.1,\"#c51b7d\"],[0.2,\"#de77ae\"],[0.3,\"#f1b6da\"],[0.4,\"#fde0ef\"],[0.5,\"#f7f7f7\"],[0.6,\"#e6f5d0\"],[0.7,\"#b8e186\"],[0.8,\"#7fbc41\"],[0.9,\"#4d9221\"],[1,\"#276419\"]],\"sequential\":[[0.0,\"#0d0887\"],[0.1111111111111111,\"#46039f\"],[0.2222222222222222,\"#7201a8\"],[0.3333333333333333,\"#9c179e\"],[0.4444444444444444,\"#bd3786\"],[0.5555555555555556,\"#d8576b\"],[0.6666666666666666,\"#ed7953\"],[0.7777777777777778,\"#fb9f3a\"],[0.8888888888888888,\"#fdca26\"],[1.0,\"#f0f921\"]],\"sequentialminus\":[[0.0,\"#0d0887\"],[0.1111111111111111,\"#46039f\"],[0.2222222222222222,\"#7201a8\"],[0.3333333333333333,\"#9c179e\"],[0.4444444444444444,\"#bd3786\"],[0.5555555555555556,\"#d8576b\"],[0.6666666666666666,\"#ed7953\"],[0.7777777777777778,\"#fb9f3a\"],[0.8888888888888888,\"#fdca26\"],[1.0,\"#f0f921\"]]},\"colorway\":[\"#636efa\",\"#EF553B\",\"#00cc96\",\"#ab63fa\",\"#FFA15A\",\"#19d3f3\",\"#FF6692\",\"#B6E880\",\"#FF97FF\",\"#FECB52\"],\"font\":{\"color\":\"#2a3f5f\"},\"geo\":{\"bgcolor\":\"white\",\"lakecolor\":\"white\",\"landcolor\":\"#E5ECF6\",\"showlakes\":true,\"showland\":true,\"subunitcolor\":\"white\"},\"hoverlabel\":{\"align\":\"left\"},\"hovermode\":\"closest\",\"mapbox\":{\"style\":\"light\"},\"paper_bgcolor\":\"white\",\"plot_bgcolor\":\"#E5ECF6\",\"polar\":{\"angularaxis\":{\"gridcolor\":\"white\",\"linecolor\":\"white\",\"ticks\":\"\"},\"bgcolor\":\"#E5ECF6\",\"radialaxis\":{\"gridcolor\":\"white\",\"linecolor\":\"white\",\"ticks\":\"\"}},\"scene\":{\"xaxis\":{\"backgroundcolor\":\"#E5ECF6\",\"gridcolor\":\"white\",\"gridwidth\":2,\"linecolor\":\"white\",\"showbackground\":true,\"ticks\":\"\",\"zerolinecolor\":\"white\"},\"yaxis\":{\"backgroundcolor\":\"#E5ECF6\",\"gridcolor\":\"white\",\"gridwidth\":2,\"linecolor\":\"white\",\"showbackground\":true,\"ticks\":\"\",\"zerolinecolor\":\"white\"},\"zaxis\":{\"backgroundcolor\":\"#E5ECF6\",\"gridcolor\":\"white\",\"gridwidth\":2,\"linecolor\":\"white\",\"showbackground\":true,\"ticks\":\"\",\"zerolinecolor\":\"white\"}},\"shapedefaults\":{\"line\":{\"color\":\"#2a3f5f\"}},\"ternary\":{\"aaxis\":{\"gridcolor\":\"white\",\"linecolor\":\"white\",\"ticks\":\"\"},\"baxis\":{\"gridcolor\":\"white\",\"linecolor\":\"white\",\"ticks\":\"\"},\"bgcolor\":\"#E5ECF6\",\"caxis\":{\"gridcolor\":\"white\",\"linecolor\":\"white\",\"ticks\":\"\"}},\"title\":{\"x\":0.05},\"xaxis\":{\"automargin\":true,\"gridcolor\":\"white\",\"linecolor\":\"white\",\"ticks\":\"\",\"title\":{\"standoff\":15},\"zerolinecolor\":\"white\",\"zerolinewidth\":2},\"yaxis\":{\"automargin\":true,\"gridcolor\":\"white\",\"linecolor\":\"white\",\"ticks\":\"\",\"title\":{\"standoff\":15},\"zerolinecolor\":\"white\",\"zerolinewidth\":2}}},\"title\":{\"text\":\"Analysis on Survival - Gender\"}},                        {\"responsive\": true}                    ).then(function(){\n",
       "                            \n",
       "var gd = document.getElementById('7d2ba341-9a4d-49d2-801c-61b139cac614');\n",
       "var x = new MutationObserver(function (mutations, observer) {{\n",
       "        var display = window.getComputedStyle(gd).display;\n",
       "        if (!display || display === 'none') {{\n",
       "            console.log([gd, 'removed!']);\n",
       "            Plotly.purge(gd);\n",
       "            observer.disconnect();\n",
       "        }}\n",
       "}});\n",
       "\n",
       "// Listen for the removal of the full notebook cells\n",
       "var notebookContainer = gd.closest('#notebook-container');\n",
       "if (notebookContainer) {{\n",
       "    x.observe(notebookContainer, {childList: true});\n",
       "}}\n",
       "\n",
       "// Listen for the clearing of the current output cell\n",
       "var outputEl = gd.closest('.output');\n",
       "if (outputEl) {{\n",
       "    x.observe(outputEl, {childList: true});\n",
       "}}\n",
       "\n",
       "                        })                };                });            </script>        </div>"
      ]
     },
     "metadata": {},
     "output_type": "display_data"
    }
   ],
   "source": [
    "male = df[df[\"sex\"]==1]\n",
    "female = df[df[\"sex\"]==0]\n",
    "\n",
    "male_survi = male[df[\"DEATH_EVENT\"]==0]\n",
    "male_not = male[df[\"DEATH_EVENT\"]==1]\n",
    "female_survi = female[df[\"DEATH_EVENT\"]==0]\n",
    "female_not = female[df[\"DEATH_EVENT\"]==1]\n",
    "\n",
    "labels = ['Male - Survived','Male - Not Survived', \"Female -  Survived\", \"Female - Not Survived\"]\n",
    "values = [len(male[df[\"DEATH_EVENT\"]==0]),len(male[df[\"DEATH_EVENT\"]==1]),\n",
    "         len(female[df[\"DEATH_EVENT\"]==0]),len(female[df[\"DEATH_EVENT\"]==1])]\n",
    "fig = go.Figure(data=[go.Pie(labels=labels, values=values, hole=.4)])\n",
    "fig.update_layout(\n",
    "    title_text=\"Analysis on Survival - Gender\")\n",
    "fig.show()"
   ]
  },
  {
   "cell_type": "markdown",
   "id": "d16b289b",
   "metadata": {},
   "source": [
    "## Standardisasi data untuk mengurangi skewness dengan StandardScaler"
   ]
  },
  {
   "cell_type": "code",
   "execution_count": 10,
   "id": "f2f604de",
   "metadata": {},
   "outputs": [],
   "source": [
    "from sklearn.preprocessing import StandardScaler\n",
    "ss = StandardScaler()\n",
    "y = df['DEATH_EVENT']\n",
    "df_scaled = ss.fit_transform(df.drop(('DEATH_EVENT'),axis=1))\n",
    "df_scaled = pd.DataFrame(data=df_scaled,columns=df.columns[:-1])\n",
    "df_scaled = pd.concat([df_scaled,y],axis=1)"
   ]
  },
  {
   "cell_type": "code",
   "execution_count": 11,
   "id": "4b77c454",
   "metadata": {},
   "outputs": [
    {
     "data": {
      "text/html": [
       "<div>\n",
       "<style scoped>\n",
       "    .dataframe tbody tr th:only-of-type {\n",
       "        vertical-align: middle;\n",
       "    }\n",
       "\n",
       "    .dataframe tbody tr th {\n",
       "        vertical-align: top;\n",
       "    }\n",
       "\n",
       "    .dataframe thead th {\n",
       "        text-align: right;\n",
       "    }\n",
       "</style>\n",
       "<table border=\"1\" class=\"dataframe\">\n",
       "  <thead>\n",
       "    <tr style=\"text-align: right;\">\n",
       "      <th></th>\n",
       "      <th>age</th>\n",
       "      <th>anaemia</th>\n",
       "      <th>creatinine_phosphokinase</th>\n",
       "      <th>diabetes</th>\n",
       "      <th>ejection_fraction</th>\n",
       "      <th>high_blood_pressure</th>\n",
       "      <th>platelets</th>\n",
       "      <th>serum_creatinine</th>\n",
       "      <th>serum_sodium</th>\n",
       "      <th>sex</th>\n",
       "      <th>smoking</th>\n",
       "      <th>time</th>\n",
       "      <th>DEATH_EVENT</th>\n",
       "    </tr>\n",
       "  </thead>\n",
       "  <tbody>\n",
       "    <tr>\n",
       "      <th>0</th>\n",
       "      <td>1.192945</td>\n",
       "      <td>-0.871105</td>\n",
       "      <td>0.000166</td>\n",
       "      <td>-0.847579</td>\n",
       "      <td>-1.530560</td>\n",
       "      <td>1.359272</td>\n",
       "      <td>1.681648e-02</td>\n",
       "      <td>0.490057</td>\n",
       "      <td>-1.504036</td>\n",
       "      <td>0.735688</td>\n",
       "      <td>-0.687682</td>\n",
       "      <td>-1.629502</td>\n",
       "      <td>1</td>\n",
       "    </tr>\n",
       "    <tr>\n",
       "      <th>1</th>\n",
       "      <td>-0.491279</td>\n",
       "      <td>-0.871105</td>\n",
       "      <td>7.514640</td>\n",
       "      <td>-0.847579</td>\n",
       "      <td>-0.007077</td>\n",
       "      <td>-0.735688</td>\n",
       "      <td>7.535660e-09</td>\n",
       "      <td>-0.284552</td>\n",
       "      <td>-0.141976</td>\n",
       "      <td>0.735688</td>\n",
       "      <td>-0.687682</td>\n",
       "      <td>-1.603691</td>\n",
       "      <td>1</td>\n",
       "    </tr>\n",
       "    <tr>\n",
       "      <th>2</th>\n",
       "      <td>0.350833</td>\n",
       "      <td>-0.871105</td>\n",
       "      <td>-0.449939</td>\n",
       "      <td>-0.847579</td>\n",
       "      <td>-1.530560</td>\n",
       "      <td>-0.735688</td>\n",
       "      <td>-1.038073e+00</td>\n",
       "      <td>-0.090900</td>\n",
       "      <td>-1.731046</td>\n",
       "      <td>0.735688</td>\n",
       "      <td>1.454161</td>\n",
       "      <td>-1.590785</td>\n",
       "      <td>1</td>\n",
       "    </tr>\n",
       "    <tr>\n",
       "      <th>3</th>\n",
       "      <td>-0.912335</td>\n",
       "      <td>1.147968</td>\n",
       "      <td>-0.486071</td>\n",
       "      <td>-0.847579</td>\n",
       "      <td>-1.530560</td>\n",
       "      <td>-0.735688</td>\n",
       "      <td>-5.464741e-01</td>\n",
       "      <td>0.490057</td>\n",
       "      <td>0.085034</td>\n",
       "      <td>0.735688</td>\n",
       "      <td>-0.687682</td>\n",
       "      <td>-1.590785</td>\n",
       "      <td>1</td>\n",
       "    </tr>\n",
       "    <tr>\n",
       "      <th>4</th>\n",
       "      <td>0.350833</td>\n",
       "      <td>1.147968</td>\n",
       "      <td>-0.435486</td>\n",
       "      <td>1.179830</td>\n",
       "      <td>-1.530560</td>\n",
       "      <td>-0.735688</td>\n",
       "      <td>6.517986e-01</td>\n",
       "      <td>1.264666</td>\n",
       "      <td>-4.682176</td>\n",
       "      <td>-1.359272</td>\n",
       "      <td>-0.687682</td>\n",
       "      <td>-1.577879</td>\n",
       "      <td>1</td>\n",
       "    </tr>\n",
       "    <tr>\n",
       "      <th>...</th>\n",
       "      <td>...</td>\n",
       "      <td>...</td>\n",
       "      <td>...</td>\n",
       "      <td>...</td>\n",
       "      <td>...</td>\n",
       "      <td>...</td>\n",
       "      <td>...</td>\n",
       "      <td>...</td>\n",
       "      <td>...</td>\n",
       "      <td>...</td>\n",
       "      <td>...</td>\n",
       "      <td>...</td>\n",
       "      <td>...</td>\n",
       "    </tr>\n",
       "    <tr>\n",
       "      <th>294</th>\n",
       "      <td>0.098199</td>\n",
       "      <td>-0.871105</td>\n",
       "      <td>-0.537688</td>\n",
       "      <td>1.179830</td>\n",
       "      <td>-0.007077</td>\n",
       "      <td>1.359272</td>\n",
       "      <td>-1.109765e+00</td>\n",
       "      <td>-0.284552</td>\n",
       "      <td>1.447094</td>\n",
       "      <td>0.735688</td>\n",
       "      <td>1.454161</td>\n",
       "      <td>1.803451</td>\n",
       "      <td>0</td>\n",
       "    </tr>\n",
       "    <tr>\n",
       "      <th>295</th>\n",
       "      <td>-0.491279</td>\n",
       "      <td>-0.871105</td>\n",
       "      <td>1.278215</td>\n",
       "      <td>-0.847579</td>\n",
       "      <td>-0.007077</td>\n",
       "      <td>-0.735688</td>\n",
       "      <td>6.802472e-02</td>\n",
       "      <td>-0.187726</td>\n",
       "      <td>0.539054</td>\n",
       "      <td>-1.359272</td>\n",
       "      <td>-0.687682</td>\n",
       "      <td>1.816357</td>\n",
       "      <td>0</td>\n",
       "    </tr>\n",
       "    <tr>\n",
       "      <th>296</th>\n",
       "      <td>-1.333392</td>\n",
       "      <td>-0.871105</td>\n",
       "      <td>1.525979</td>\n",
       "      <td>1.179830</td>\n",
       "      <td>1.854958</td>\n",
       "      <td>-0.735688</td>\n",
       "      <td>4.902082e+00</td>\n",
       "      <td>-0.575031</td>\n",
       "      <td>0.312044</td>\n",
       "      <td>-1.359272</td>\n",
       "      <td>-0.687682</td>\n",
       "      <td>1.906697</td>\n",
       "      <td>0</td>\n",
       "    </tr>\n",
       "    <tr>\n",
       "      <th>297</th>\n",
       "      <td>-1.333392</td>\n",
       "      <td>-0.871105</td>\n",
       "      <td>1.890398</td>\n",
       "      <td>-0.847579</td>\n",
       "      <td>-0.007077</td>\n",
       "      <td>-0.735688</td>\n",
       "      <td>-1.263389e+00</td>\n",
       "      <td>0.005926</td>\n",
       "      <td>0.766064</td>\n",
       "      <td>0.735688</td>\n",
       "      <td>1.454161</td>\n",
       "      <td>1.932509</td>\n",
       "      <td>0</td>\n",
       "    </tr>\n",
       "    <tr>\n",
       "      <th>298</th>\n",
       "      <td>-0.912335</td>\n",
       "      <td>-0.871105</td>\n",
       "      <td>-0.398321</td>\n",
       "      <td>-0.847579</td>\n",
       "      <td>0.585389</td>\n",
       "      <td>-0.735688</td>\n",
       "      <td>1.348231e+00</td>\n",
       "      <td>0.199578</td>\n",
       "      <td>-0.141976</td>\n",
       "      <td>0.735688</td>\n",
       "      <td>1.454161</td>\n",
       "      <td>1.997038</td>\n",
       "      <td>0</td>\n",
       "    </tr>\n",
       "  </tbody>\n",
       "</table>\n",
       "<p>299 rows × 13 columns</p>\n",
       "</div>"
      ],
      "text/plain": [
       "          age   anaemia  creatinine_phosphokinase  diabetes  \\\n",
       "0    1.192945 -0.871105                  0.000166 -0.847579   \n",
       "1   -0.491279 -0.871105                  7.514640 -0.847579   \n",
       "2    0.350833 -0.871105                 -0.449939 -0.847579   \n",
       "3   -0.912335  1.147968                 -0.486071 -0.847579   \n",
       "4    0.350833  1.147968                 -0.435486  1.179830   \n",
       "..        ...       ...                       ...       ...   \n",
       "294  0.098199 -0.871105                 -0.537688  1.179830   \n",
       "295 -0.491279 -0.871105                  1.278215 -0.847579   \n",
       "296 -1.333392 -0.871105                  1.525979  1.179830   \n",
       "297 -1.333392 -0.871105                  1.890398 -0.847579   \n",
       "298 -0.912335 -0.871105                 -0.398321 -0.847579   \n",
       "\n",
       "     ejection_fraction  high_blood_pressure     platelets  serum_creatinine  \\\n",
       "0            -1.530560             1.359272  1.681648e-02          0.490057   \n",
       "1            -0.007077            -0.735688  7.535660e-09         -0.284552   \n",
       "2            -1.530560            -0.735688 -1.038073e+00         -0.090900   \n",
       "3            -1.530560            -0.735688 -5.464741e-01          0.490057   \n",
       "4            -1.530560            -0.735688  6.517986e-01          1.264666   \n",
       "..                 ...                  ...           ...               ...   \n",
       "294          -0.007077             1.359272 -1.109765e+00         -0.284552   \n",
       "295          -0.007077            -0.735688  6.802472e-02         -0.187726   \n",
       "296           1.854958            -0.735688  4.902082e+00         -0.575031   \n",
       "297          -0.007077            -0.735688 -1.263389e+00          0.005926   \n",
       "298           0.585389            -0.735688  1.348231e+00          0.199578   \n",
       "\n",
       "     serum_sodium       sex   smoking      time  DEATH_EVENT  \n",
       "0       -1.504036  0.735688 -0.687682 -1.629502            1  \n",
       "1       -0.141976  0.735688 -0.687682 -1.603691            1  \n",
       "2       -1.731046  0.735688  1.454161 -1.590785            1  \n",
       "3        0.085034  0.735688 -0.687682 -1.590785            1  \n",
       "4       -4.682176 -1.359272 -0.687682 -1.577879            1  \n",
       "..            ...       ...       ...       ...          ...  \n",
       "294      1.447094  0.735688  1.454161  1.803451            0  \n",
       "295      0.539054 -1.359272 -0.687682  1.816357            0  \n",
       "296      0.312044 -1.359272 -0.687682  1.906697            0  \n",
       "297      0.766064  0.735688  1.454161  1.932509            0  \n",
       "298     -0.141976  0.735688  1.454161  1.997038            0  \n",
       "\n",
       "[299 rows x 13 columns]"
      ]
     },
     "execution_count": 11,
     "metadata": {},
     "output_type": "execute_result"
    }
   ],
   "source": [
    "df_scaled"
   ]
  },
  {
   "cell_type": "code",
   "execution_count": 12,
   "id": "322496ee",
   "metadata": {
    "scrolled": false
   },
   "outputs": [
    {
     "data": {
      "image/png": "[encoded data removed]",
      "text/plain": [
       "<Figure size 1656x720 with 1 Axes>"
      ]
     },
     "metadata": {
      "needs_background": "light"
     },
     "output_type": "display_data"
    }
   ],
   "source": [
    "fig, ax = plt.subplots(figsize = (23, 10))\n",
    "sns.boxplot(data = df_scaled, width = 0.5, ax = ax, fliersize = 3)\n",
    "plt.show()"
   ]
  },
  {
   "cell_type": "markdown",
   "id": "3a0f9511",
   "metadata": {},
   "source": [
    "## Handling Outliers"
   ]
  },
  {
   "cell_type": "code",
   "execution_count": 13,
   "id": "3301001c",
   "metadata": {},
   "outputs": [
    {
     "name": "stdout",
     "output_type": "stream",
     "text": [
      "[pca] >Processing dataframe..\n",
      "[pca] >The PCA reduction is performed on the [12] columns of the input dataframe.\n",
      "[pca] >Fitting using PCA..\n",
      "[pca] >Computing loadings and PCs..\n",
      "[pca] >Computing explained variance..\n",
      "[pca] >Outlier detection using Hotelling T2 test with alpha=[0.05] and n_components=[12]\n",
      "[pca] >Outlier detection using SPE/DmodX with n_std=[2]\n"
     ]
    }
   ],
   "source": [
    "from pca import pca\n",
    "model = pca(n_feat=12, n_components=12)\n",
    "df_scaled_x = model.fit_transform(df_scaled.drop(('DEATH_EVENT'), axis=1))"
   ]
  },
  {
   "cell_type": "code",
   "execution_count": 14,
   "id": "f892ec6b",
   "metadata": {},
   "outputs": [
    {
     "data": {
      "text/html": [
       "<div>\n",
       "<style scoped>\n",
       "    .dataframe tbody tr th:only-of-type {\n",
       "        vertical-align: middle;\n",
       "    }\n",
       "\n",
       "    .dataframe tbody tr th {\n",
       "        vertical-align: top;\n",
       "    }\n",
       "\n",
       "    .dataframe thead th {\n",
       "        text-align: right;\n",
       "    }\n",
       "</style>\n",
       "<table border=\"1\" class=\"dataframe\">\n",
       "  <thead>\n",
       "    <tr style=\"text-align: right;\">\n",
       "      <th></th>\n",
       "      <th>PC</th>\n",
       "      <th>feature</th>\n",
       "      <th>loading</th>\n",
       "      <th>type</th>\n",
       "    </tr>\n",
       "  </thead>\n",
       "  <tbody>\n",
       "    <tr>\n",
       "      <th>0</th>\n",
       "      <td>PC1</td>\n",
       "      <td>sex</td>\n",
       "      <td>0.622376</td>\n",
       "      <td>best</td>\n",
       "    </tr>\n",
       "    <tr>\n",
       "      <th>1</th>\n",
       "      <td>PC2</td>\n",
       "      <td>time</td>\n",
       "      <td>-0.510580</td>\n",
       "      <td>best</td>\n",
       "    </tr>\n",
       "    <tr>\n",
       "      <th>2</th>\n",
       "      <td>PC3</td>\n",
       "      <td>serum_sodium</td>\n",
       "      <td>-0.625528</td>\n",
       "      <td>best</td>\n",
       "    </tr>\n",
       "    <tr>\n",
       "      <th>3</th>\n",
       "      <td>PC4</td>\n",
       "      <td>platelets</td>\n",
       "      <td>0.508584</td>\n",
       "      <td>best</td>\n",
       "    </tr>\n",
       "    <tr>\n",
       "      <th>4</th>\n",
       "      <td>PC5</td>\n",
       "      <td>creatinine_phosphokinase</td>\n",
       "      <td>0.510700</td>\n",
       "      <td>best</td>\n",
       "    </tr>\n",
       "    <tr>\n",
       "      <th>5</th>\n",
       "      <td>PC6</td>\n",
       "      <td>platelets</td>\n",
       "      <td>0.522382</td>\n",
       "      <td>best</td>\n",
       "    </tr>\n",
       "    <tr>\n",
       "      <th>6</th>\n",
       "      <td>PC7</td>\n",
       "      <td>anaemia</td>\n",
       "      <td>0.615947</td>\n",
       "      <td>best</td>\n",
       "    </tr>\n",
       "    <tr>\n",
       "      <th>7</th>\n",
       "      <td>PC8</td>\n",
       "      <td>diabetes</td>\n",
       "      <td>-0.675612</td>\n",
       "      <td>best</td>\n",
       "    </tr>\n",
       "    <tr>\n",
       "      <th>8</th>\n",
       "      <td>PC9</td>\n",
       "      <td>age</td>\n",
       "      <td>-0.655096</td>\n",
       "      <td>best</td>\n",
       "    </tr>\n",
       "    <tr>\n",
       "      <th>9</th>\n",
       "      <td>PC10</td>\n",
       "      <td>serum_sodium</td>\n",
       "      <td>0.541121</td>\n",
       "      <td>best</td>\n",
       "    </tr>\n",
       "    <tr>\n",
       "      <th>10</th>\n",
       "      <td>PC11</td>\n",
       "      <td>time</td>\n",
       "      <td>-0.532951</td>\n",
       "      <td>best</td>\n",
       "    </tr>\n",
       "    <tr>\n",
       "      <th>11</th>\n",
       "      <td>PC12</td>\n",
       "      <td>sex</td>\n",
       "      <td>-0.690908</td>\n",
       "      <td>best</td>\n",
       "    </tr>\n",
       "    <tr>\n",
       "      <th>12</th>\n",
       "      <td>PC3</td>\n",
       "      <td>ejection_fraction</td>\n",
       "      <td>-0.443315</td>\n",
       "      <td>weak</td>\n",
       "    </tr>\n",
       "    <tr>\n",
       "      <th>13</th>\n",
       "      <td>PC7</td>\n",
       "      <td>high_blood_pressure</td>\n",
       "      <td>-0.447632</td>\n",
       "      <td>weak</td>\n",
       "    </tr>\n",
       "    <tr>\n",
       "      <th>14</th>\n",
       "      <td>PC10</td>\n",
       "      <td>serum_creatinine</td>\n",
       "      <td>0.469107</td>\n",
       "      <td>weak</td>\n",
       "    </tr>\n",
       "    <tr>\n",
       "      <th>15</th>\n",
       "      <td>PC12</td>\n",
       "      <td>smoking</td>\n",
       "      <td>0.648592</td>\n",
       "      <td>weak</td>\n",
       "    </tr>\n",
       "  </tbody>\n",
       "</table>\n",
       "</div>"
      ],
      "text/plain": [
       "      PC                   feature   loading  type\n",
       "0    PC1                       sex  0.622376  best\n",
       "1    PC2                      time -0.510580  best\n",
       "2    PC3              serum_sodium -0.625528  best\n",
       "3    PC4                 platelets  0.508584  best\n",
       "4    PC5  creatinine_phosphokinase  0.510700  best\n",
       "5    PC6                 platelets  0.522382  best\n",
       "6    PC7                   anaemia  0.615947  best\n",
       "7    PC8                  diabetes -0.675612  best\n",
       "8    PC9                       age -0.655096  best\n",
       "9   PC10              serum_sodium  0.541121  best\n",
       "10  PC11                      time -0.532951  best\n",
       "11  PC12                       sex -0.690908  best\n",
       "12   PC3         ejection_fraction -0.443315  weak\n",
       "13   PC7       high_blood_pressure -0.447632  weak\n",
       "14  PC10          serum_creatinine  0.469107  weak\n",
       "15  PC12                   smoking  0.648592  weak"
      ]
     },
     "execution_count": 14,
     "metadata": {},
     "output_type": "execute_result"
    }
   ],
   "source": [
    "df_scaled_x['topfeat']"
   ]
  },
  {
   "cell_type": "code",
   "execution_count": 15,
   "id": "2885a690",
   "metadata": {},
   "outputs": [],
   "source": [
    "outliers = df_scaled_x['outliers']\n",
    "outliers_ = outliers[outliers['y_bool_spe']==True]"
   ]
  },
  {
   "cell_type": "code",
   "execution_count": 16,
   "id": "240fde43",
   "metadata": {},
   "outputs": [],
   "source": [
    "outliers_.reset_index(inplace=True)"
   ]
  },
  {
   "cell_type": "code",
   "execution_count": 17,
   "id": "5505be95",
   "metadata": {},
   "outputs": [],
   "source": [
    "outliers_index = outliers_['index']"
   ]
  },
  {
   "cell_type": "code",
   "execution_count": 18,
   "id": "bc404263",
   "metadata": {},
   "outputs": [
    {
     "data": {
      "text/plain": [
       "0       2\n",
       "1       4\n",
       "2       5\n",
       "3       9\n",
       "4      10\n",
       "5      21\n",
       "6      26\n",
       "7      28\n",
       "8      37\n",
       "9      48\n",
       "10     53\n",
       "11     55\n",
       "12     60\n",
       "13     65\n",
       "14     72\n",
       "15     83\n",
       "16    103\n",
       "17    116\n",
       "18    117\n",
       "19    118\n",
       "20    134\n",
       "21    171\n",
       "22    217\n",
       "23    248\n",
       "24    266\n",
       "25    268\n",
       "26    287\n",
       "27    290\n",
       "28    296\n",
       "29    297\n",
       "Name: index, dtype: int64"
      ]
     },
     "execution_count": 18,
     "metadata": {},
     "output_type": "execute_result"
    }
   ],
   "source": [
    "outliers_index"
   ]
  },
  {
   "cell_type": "markdown",
   "id": "b89d1f4f",
   "metadata": {},
   "source": [
    "### Visualisasi outliers dengan biplot"
   ]
  },
  {
   "cell_type": "code",
   "execution_count": 19,
   "id": "c4ebfae5",
   "metadata": {
    "scrolled": true
   },
   "outputs": [
    {
     "name": "stdout",
     "output_type": "stream",
     "text": [
      "[pca] >Plot PC1 vs PC2 with loadings.\n"
     ]
    },
    {
     "data": {
      "text/plain": [
       "<Figure size 1440x720 with 0 Axes>"
      ]
     },
     "metadata": {},
     "output_type": "display_data"
    },
    {
     "data": {
      "image/png": "[encoded data removed]",
      "text/plain": [
       "<Figure size 1080x720 with 1 Axes>"
      ]
     },
     "metadata": {
      "needs_background": "light"
     },
     "output_type": "display_data"
    },
    {
     "data": {
      "text/plain": [
       "(<Figure size 1080x720 with 1 Axes>,\n",
       " <AxesSubplot:title={'center':'12 Principal Components explain [100.0%] of the variance'}, xlabel='PC1 (13.8% expl.var)', ylabel='PC2 (13.1% expl.var)'>)"
      ]
     },
     "execution_count": 19,
     "metadata": {},
     "output_type": "execute_result"
    }
   ],
   "source": [
    "plt.figure(figsize=(20,10))\n",
    "model.biplot(legend=True, SPE=True, hotellingt2=True)"
   ]
  },
  {
   "cell_type": "code",
   "execution_count": 20,
   "id": "db76f485",
   "metadata": {},
   "outputs": [],
   "source": [
    "df_new = df_scaled.drop(outliers_index,axis=0)"
   ]
  },
  {
   "cell_type": "code",
   "execution_count": 21,
   "id": "bcce3b5e",
   "metadata": {},
   "outputs": [
    {
     "data": {
      "text/html": [
       "<div>\n",
       "<style scoped>\n",
       "    .dataframe tbody tr th:only-of-type {\n",
       "        vertical-align: middle;\n",
       "    }\n",
       "\n",
       "    .dataframe tbody tr th {\n",
       "        vertical-align: top;\n",
       "    }\n",
       "\n",
       "    .dataframe thead th {\n",
       "        text-align: right;\n",
       "    }\n",
       "</style>\n",
       "<table border=\"1\" class=\"dataframe\">\n",
       "  <thead>\n",
       "    <tr style=\"text-align: right;\">\n",
       "      <th></th>\n",
       "      <th>age</th>\n",
       "      <th>anaemia</th>\n",
       "      <th>creatinine_phosphokinase</th>\n",
       "      <th>diabetes</th>\n",
       "      <th>ejection_fraction</th>\n",
       "      <th>high_blood_pressure</th>\n",
       "      <th>platelets</th>\n",
       "      <th>serum_creatinine</th>\n",
       "      <th>serum_sodium</th>\n",
       "      <th>sex</th>\n",
       "      <th>smoking</th>\n",
       "      <th>time</th>\n",
       "      <th>DEATH_EVENT</th>\n",
       "    </tr>\n",
       "  </thead>\n",
       "  <tbody>\n",
       "    <tr>\n",
       "      <th>0</th>\n",
       "      <td>1.192945</td>\n",
       "      <td>-0.871105</td>\n",
       "      <td>0.000166</td>\n",
       "      <td>-0.847579</td>\n",
       "      <td>-1.530560</td>\n",
       "      <td>1.359272</td>\n",
       "      <td>1.681648e-02</td>\n",
       "      <td>0.490057</td>\n",
       "      <td>-1.504036</td>\n",
       "      <td>0.735688</td>\n",
       "      <td>-0.687682</td>\n",
       "      <td>-1.629502</td>\n",
       "      <td>1</td>\n",
       "    </tr>\n",
       "    <tr>\n",
       "      <th>1</th>\n",
       "      <td>-0.491279</td>\n",
       "      <td>-0.871105</td>\n",
       "      <td>7.514640</td>\n",
       "      <td>-0.847579</td>\n",
       "      <td>-0.007077</td>\n",
       "      <td>-0.735688</td>\n",
       "      <td>7.535660e-09</td>\n",
       "      <td>-0.284552</td>\n",
       "      <td>-0.141976</td>\n",
       "      <td>0.735688</td>\n",
       "      <td>-0.687682</td>\n",
       "      <td>-1.603691</td>\n",
       "      <td>1</td>\n",
       "    </tr>\n",
       "    <tr>\n",
       "      <th>3</th>\n",
       "      <td>-0.912335</td>\n",
       "      <td>1.147968</td>\n",
       "      <td>-0.486071</td>\n",
       "      <td>-0.847579</td>\n",
       "      <td>-1.530560</td>\n",
       "      <td>-0.735688</td>\n",
       "      <td>-5.464741e-01</td>\n",
       "      <td>0.490057</td>\n",
       "      <td>0.085034</td>\n",
       "      <td>0.735688</td>\n",
       "      <td>-0.687682</td>\n",
       "      <td>-1.590785</td>\n",
       "      <td>1</td>\n",
       "    </tr>\n",
       "    <tr>\n",
       "      <th>6</th>\n",
       "      <td>1.192945</td>\n",
       "      <td>1.147968</td>\n",
       "      <td>-0.346704</td>\n",
       "      <td>-0.847579</td>\n",
       "      <td>-1.953749</td>\n",
       "      <td>-0.735688</td>\n",
       "      <td>-1.396531e+00</td>\n",
       "      <td>-0.187726</td>\n",
       "      <td>0.085034</td>\n",
       "      <td>0.735688</td>\n",
       "      <td>-0.687682</td>\n",
       "      <td>-1.552067</td>\n",
       "      <td>1</td>\n",
       "    </tr>\n",
       "    <tr>\n",
       "      <th>7</th>\n",
       "      <td>-0.070223</td>\n",
       "      <td>1.147968</td>\n",
       "      <td>-0.275472</td>\n",
       "      <td>1.179830</td>\n",
       "      <td>1.854958</td>\n",
       "      <td>-0.735688</td>\n",
       "      <td>1.952488e+00</td>\n",
       "      <td>-0.284552</td>\n",
       "      <td>-1.277026</td>\n",
       "      <td>0.735688</td>\n",
       "      <td>1.454161</td>\n",
       "      <td>-1.552067</td>\n",
       "      <td>1</td>\n",
       "    </tr>\n",
       "    <tr>\n",
       "      <th>...</th>\n",
       "      <td>...</td>\n",
       "      <td>...</td>\n",
       "      <td>...</td>\n",
       "      <td>...</td>\n",
       "      <td>...</td>\n",
       "      <td>...</td>\n",
       "      <td>...</td>\n",
       "      <td>...</td>\n",
       "      <td>...</td>\n",
       "      <td>...</td>\n",
       "      <td>...</td>\n",
       "      <td>...</td>\n",
       "      <td>...</td>\n",
       "    </tr>\n",
       "    <tr>\n",
       "      <th>292</th>\n",
       "      <td>-0.743913</td>\n",
       "      <td>-0.871105</td>\n",
       "      <td>-0.404515</td>\n",
       "      <td>1.179830</td>\n",
       "      <td>-0.007077</td>\n",
       "      <td>-0.735688</td>\n",
       "      <td>1.215089e+00</td>\n",
       "      <td>-0.381379</td>\n",
       "      <td>0.766064</td>\n",
       "      <td>0.735688</td>\n",
       "      <td>1.454161</td>\n",
       "      <td>1.648581</td>\n",
       "      <td>0</td>\n",
       "    </tr>\n",
       "    <tr>\n",
       "      <th>293</th>\n",
       "      <td>0.182411</td>\n",
       "      <td>1.147968</td>\n",
       "      <td>-0.494330</td>\n",
       "      <td>1.179830</td>\n",
       "      <td>-0.260991</td>\n",
       "      <td>-0.735688</td>\n",
       "      <td>-8.639651e-01</td>\n",
       "      <td>-0.478205</td>\n",
       "      <td>-0.141976</td>\n",
       "      <td>0.735688</td>\n",
       "      <td>1.454161</td>\n",
       "      <td>1.803451</td>\n",
       "      <td>0</td>\n",
       "    </tr>\n",
       "    <tr>\n",
       "      <th>294</th>\n",
       "      <td>0.098199</td>\n",
       "      <td>-0.871105</td>\n",
       "      <td>-0.537688</td>\n",
       "      <td>1.179830</td>\n",
       "      <td>-0.007077</td>\n",
       "      <td>1.359272</td>\n",
       "      <td>-1.109765e+00</td>\n",
       "      <td>-0.284552</td>\n",
       "      <td>1.447094</td>\n",
       "      <td>0.735688</td>\n",
       "      <td>1.454161</td>\n",
       "      <td>1.803451</td>\n",
       "      <td>0</td>\n",
       "    </tr>\n",
       "    <tr>\n",
       "      <th>295</th>\n",
       "      <td>-0.491279</td>\n",
       "      <td>-0.871105</td>\n",
       "      <td>1.278215</td>\n",
       "      <td>-0.847579</td>\n",
       "      <td>-0.007077</td>\n",
       "      <td>-0.735688</td>\n",
       "      <td>6.802472e-02</td>\n",
       "      <td>-0.187726</td>\n",
       "      <td>0.539054</td>\n",
       "      <td>-1.359272</td>\n",
       "      <td>-0.687682</td>\n",
       "      <td>1.816357</td>\n",
       "      <td>0</td>\n",
       "    </tr>\n",
       "    <tr>\n",
       "      <th>298</th>\n",
       "      <td>-0.912335</td>\n",
       "      <td>-0.871105</td>\n",
       "      <td>-0.398321</td>\n",
       "      <td>-0.847579</td>\n",
       "      <td>0.585389</td>\n",
       "      <td>-0.735688</td>\n",
       "      <td>1.348231e+00</td>\n",
       "      <td>0.199578</td>\n",
       "      <td>-0.141976</td>\n",
       "      <td>0.735688</td>\n",
       "      <td>1.454161</td>\n",
       "      <td>1.997038</td>\n",
       "      <td>0</td>\n",
       "    </tr>\n",
       "  </tbody>\n",
       "</table>\n",
       "<p>269 rows × 13 columns</p>\n",
       "</div>"
      ],
      "text/plain": [
       "          age   anaemia  creatinine_phosphokinase  diabetes  \\\n",
       "0    1.192945 -0.871105                  0.000166 -0.847579   \n",
       "1   -0.491279 -0.871105                  7.514640 -0.847579   \n",
       "3   -0.912335  1.147968                 -0.486071 -0.847579   \n",
       "6    1.192945  1.147968                 -0.346704 -0.847579   \n",
       "7   -0.070223  1.147968                 -0.275472  1.179830   \n",
       "..        ...       ...                       ...       ...   \n",
       "292 -0.743913 -0.871105                 -0.404515  1.179830   \n",
       "293  0.182411  1.147968                 -0.494330  1.179830   \n",
       "294  0.098199 -0.871105                 -0.537688  1.179830   \n",
       "295 -0.491279 -0.871105                  1.278215 -0.847579   \n",
       "298 -0.912335 -0.871105                 -0.398321 -0.847579   \n",
       "\n",
       "     ejection_fraction  high_blood_pressure     platelets  serum_creatinine  \\\n",
       "0            -1.530560             1.359272  1.681648e-02          0.490057   \n",
       "1            -0.007077            -0.735688  7.535660e-09         -0.284552   \n",
       "3            -1.530560            -0.735688 -5.464741e-01          0.490057   \n",
       "6            -1.953749            -0.735688 -1.396531e+00         -0.187726   \n",
       "7             1.854958            -0.735688  1.952488e+00         -0.284552   \n",
       "..                 ...                  ...           ...               ...   \n",
       "292          -0.007077            -0.735688  1.215089e+00         -0.381379   \n",
       "293          -0.260991            -0.735688 -8.639651e-01         -0.478205   \n",
       "294          -0.007077             1.359272 -1.109765e+00         -0.284552   \n",
       "295          -0.007077            -0.735688  6.802472e-02         -0.187726   \n",
       "298           0.585389            -0.735688  1.348231e+00          0.199578   \n",
       "\n",
       "     serum_sodium       sex   smoking      time  DEATH_EVENT  \n",
       "0       -1.504036  0.735688 -0.687682 -1.629502            1  \n",
       "1       -0.141976  0.735688 -0.687682 -1.603691            1  \n",
       "3        0.085034  0.735688 -0.687682 -1.590785            1  \n",
       "6        0.085034  0.735688 -0.687682 -1.552067            1  \n",
       "7       -1.277026  0.735688  1.454161 -1.552067            1  \n",
       "..            ...       ...       ...       ...          ...  \n",
       "292      0.766064  0.735688  1.454161  1.648581            0  \n",
       "293     -0.141976  0.735688  1.454161  1.803451            0  \n",
       "294      1.447094  0.735688  1.454161  1.803451            0  \n",
       "295      0.539054 -1.359272 -0.687682  1.816357            0  \n",
       "298     -0.141976  0.735688  1.454161  1.997038            0  \n",
       "\n",
       "[269 rows x 13 columns]"
      ]
     },
     "execution_count": 21,
     "metadata": {},
     "output_type": "execute_result"
    }
   ],
   "source": [
    "df_new"
   ]
  },
  {
   "cell_type": "code",
   "execution_count": 22,
   "id": "5900ae50",
   "metadata": {},
   "outputs": [
    {
     "data": {
      "image/png": "[encoded data removed]",
      "text/plain": [
       "<Figure size 1080x720 with 1 Axes>"
      ]
     },
     "metadata": {
      "needs_background": "light"
     },
     "output_type": "display_data"
    }
   ],
   "source": [
    "fig, ax = plt.subplots(figsize=(15,10))\n",
    "sns.boxplot(data=df_new, width=0.5, ax=ax, fliersize=3)\n",
    "plt.show()"
   ]
  },
  {
   "cell_type": "code",
   "execution_count": 23,
   "id": "49e71bae",
   "metadata": {},
   "outputs": [
    {
     "data": {
      "image/png": "[encoded data removed]",
      "text/plain": [
       "<Figure size 1080x720 with 1 Axes>"
      ]
     },
     "metadata": {
      "needs_background": "light"
     },
     "output_type": "display_data"
    }
   ],
   "source": [
    "df_exp = df_scaled[df_scaled['platelets'] < df_scaled['platelets'].quantile(0.95)]\n",
    "df_exp = df_exp[df_exp['platelets'] > df_exp['platelets'].quantile(.1)]\n",
    "df_exp = df_exp[df_exp['serum_sodium'] > df_exp['serum_sodium'].quantile(.1)]\n",
    "df_exp = df_exp[df_exp['serum_creatinine'] < df_exp['serum_creatinine'].quantile(0.9)]\n",
    "df_exp = df_exp[df_exp['creatinine_phosphokinase'] < df_exp['creatinine_phosphokinase'].quantile(0.91)]\n",
    "fig, ax = plt.subplots(figsize = (15, 10))\n",
    "sns.boxplot(data = df_exp, width = 0.5, ax = ax, fliersize = 3)\n",
    "plt.show()"
   ]
  },
  {
   "cell_type": "code",
   "execution_count": 24,
   "id": "4745fd71",
   "metadata": {},
   "outputs": [
    {
     "data": {
      "text/plain": [
       "(177, 13)"
      ]
     },
     "execution_count": 24,
     "metadata": {},
     "output_type": "execute_result"
    }
   ],
   "source": [
    "df_exp.shape"
   ]
  },
  {
   "cell_type": "code",
   "execution_count": 25,
   "id": "2af132aa",
   "metadata": {},
   "outputs": [
    {
     "data": {
      "text/plain": [
       "0    138\n",
       "1     39\n",
       "Name: DEATH_EVENT, dtype: int64"
      ]
     },
     "execution_count": 25,
     "metadata": {},
     "output_type": "execute_result"
    }
   ],
   "source": [
    "df_exp['DEATH_EVENT'].value_counts()"
   ]
  },
  {
   "cell_type": "markdown",
   "id": "0e9739a6",
   "metadata": {},
   "source": [
    "# Data Preprocessing "
   ]
  },
  {
   "cell_type": "code",
   "execution_count": 26,
   "id": "456f5f2c",
   "metadata": {},
   "outputs": [],
   "source": [
    "from sklearn.model_selection import train_test_split\n",
    "\n",
    "X_train, X_test, y_train, y_test = train_test_split(df_exp.drop(('DEATH_EVENT'),axis=1), df_exp['DEATH_EVENT'], test_size=0.3, random_state=42,stratify=df_exp['DEATH_EVENT'])"
   ]
  },
  {
   "cell_type": "code",
   "execution_count": 28,
   "id": "00aa92fb",
   "metadata": {},
   "outputs": [
    {
     "data": {
      "text/plain": [
       "0    96\n",
       "1    27\n",
       "Name: DEATH_EVENT, dtype: int64"
      ]
     },
     "execution_count": 28,
     "metadata": {},
     "output_type": "execute_result"
    }
   ],
   "source": [
    "y_train.value_counts()"
   ]
  },
  {
   "cell_type": "code",
   "execution_count": 29,
   "id": "08fc0bce",
   "metadata": {},
   "outputs": [
    {
     "name": "stderr",
     "output_type": "stream",
     "text": [
      "C:\\Users\\rromy\\anaconda3\\lib\\site-packages\\seaborn\\_decorators.py:36: FutureWarning: Pass the following variable as a keyword arg: x. From version 0.12, the only valid positional argument will be `data`, and passing other arguments without an explicit keyword will result in an error or misinterpretation.\n",
      "  warnings.warn(\n"
     ]
    },
    {
     "data": {
      "text/plain": [
       "<AxesSubplot:xlabel='DEATH_EVENT', ylabel='count'>"
      ]
     },
     "execution_count": 29,
     "metadata": {},
     "output_type": "execute_result"
    },
    {
     "data": {
      "image/png": "[encoded data removed]",
      "text/plain": [
       "<Figure size 432x288 with 1 Axes>"
      ]
     },
     "metadata": {
      "needs_background": "light"
     },
     "output_type": "display_data"
    }
   ],
   "source": [
    "sns.countplot(y_train)"
   ]
  },
  {
   "cell_type": "code",
   "execution_count": 30,
   "id": "e65fdd9d",
   "metadata": {},
   "outputs": [
    {
     "name": "stderr",
     "output_type": "stream",
     "text": [
      "C:\\Users\\rromy\\anaconda3\\lib\\site-packages\\imblearn\\utils\\_validation.py:299: UserWarning: After over-sampling, the number of samples (150) in class 0 will be larger than the number of samples in the majority class (class #0 -> 96)\n",
      "  warnings.warn(\n",
      "C:\\Users\\rromy\\anaconda3\\lib\\site-packages\\imblearn\\utils\\_validation.py:299: UserWarning: After over-sampling, the number of samples (150) in class 1 will be larger than the number of samples in the majority class (class #0 -> 96)\n",
      "  warnings.warn(\n"
     ]
    }
   ],
   "source": [
    "from imblearn.over_sampling import SMOTE\n",
    "sm = SMOTE(sampling_strategy={0:150,1:150})\n",
    "X,y = sm.fit_resample(X_train,y_train)"
   ]
  },
  {
   "cell_type": "markdown",
   "id": "69682725",
   "metadata": {},
   "source": [
    "# Modelling"
   ]
  },
  {
   "cell_type": "code",
   "execution_count": 31,
   "id": "96b0d91f",
   "metadata": {},
   "outputs": [
    {
     "data": {
      "text/plain": [
       "VotingClassifier(estimators=[('lr', LogisticRegression()),\n",
       "                             ('rf', RandomForestClassifier()), ('svc', SVC())])"
      ]
     },
     "execution_count": 31,
     "metadata": {},
     "output_type": "execute_result"
    }
   ],
   "source": [
    "from sklearn.ensemble import RandomForestClassifier\n",
    "from sklearn.ensemble import VotingClassifier\n",
    "from sklearn.linear_model import LogisticRegression\n",
    "from sklearn.svm import SVC\n",
    "\n",
    "log_clf = LogisticRegression()\n",
    "rnd_clf = RandomForestClassifier()\n",
    "svm_clf = SVC()\n",
    "\n",
    "voting_clf = VotingClassifier(estimators=[('lr',log_clf),('rf',rnd_clf),('svc',svm_clf)],voting='hard')\n",
    "voting_clf.fit(X_train, y_train)"
   ]
  },
  {
   "cell_type": "code",
   "execution_count": 38,
   "id": "4330f141",
   "metadata": {},
   "outputs": [
    {
     "name": "stdout",
     "output_type": "stream",
     "text": [
      "LogisticRegression 0.8703703703703703\n",
      "LogisticRegression [[41  1]\n",
      " [ 6  6]]\n",
      "LogisticRegression               precision    recall  f1-score   support\n",
      "\n",
      "           0       0.87      0.98      0.92        42\n",
      "           1       0.86      0.50      0.63        12\n",
      "\n",
      "    accuracy                           0.87        54\n",
      "   macro avg       0.86      0.74      0.78        54\n",
      "weighted avg       0.87      0.87      0.86        54\n",
      "\n",
      "RandomForestClassifier 0.8333333333333334\n",
      "RandomForestClassifier [[39  3]\n",
      " [ 6  6]]\n",
      "RandomForestClassifier               precision    recall  f1-score   support\n",
      "\n",
      "           0       0.87      0.93      0.90        42\n",
      "           1       0.67      0.50      0.57        12\n",
      "\n",
      "    accuracy                           0.83        54\n",
      "   macro avg       0.77      0.71      0.73        54\n",
      "weighted avg       0.82      0.83      0.82        54\n",
      "\n",
      "SVC 0.8518518518518519\n",
      "SVC [[42  0]\n",
      " [ 8  4]]\n",
      "SVC               precision    recall  f1-score   support\n",
      "\n",
      "           0       0.84      1.00      0.91        42\n",
      "           1       1.00      0.33      0.50        12\n",
      "\n",
      "    accuracy                           0.85        54\n",
      "   macro avg       0.92      0.67      0.71        54\n",
      "weighted avg       0.88      0.85      0.82        54\n",
      "\n",
      "VotingClassifier 0.8703703703703703\n",
      "VotingClassifier [[41  1]\n",
      " [ 6  6]]\n",
      "VotingClassifier               precision    recall  f1-score   support\n",
      "\n",
      "           0       0.87      0.98      0.92        42\n",
      "           1       0.86      0.50      0.63        12\n",
      "\n",
      "    accuracy                           0.87        54\n",
      "   macro avg       0.86      0.74      0.78        54\n",
      "weighted avg       0.87      0.87      0.86        54\n",
      "\n"
     ]
    }
   ],
   "source": [
    "from sklearn.metrics import accuracy_score, confusion_matrix, classification_report\n",
    "\n",
    "for clf in (log_clf, rnd_clf, svm_clf, voting_clf):\n",
    "    clf.fit(X_train, y_train)\n",
    "    y_pred = clf.predict(X_test)\n",
    "    print(clf.__class__.__name__, accuracy_score(y_test, y_pred))\n",
    "    print(clf.__class__.__name__,confusion_matrix(y_test, y_pred))\n",
    "    print(clf.__class__.__name__,classification_report(y_test, y_pred))"
   ]
  },
  {
   "cell_type": "code",
   "execution_count": 41,
   "id": "b9736db2",
   "metadata": {},
   "outputs": [
    {
     "name": "stdout",
     "output_type": "stream",
     "text": [
      "0.8703703703703703\n",
      "[[40  5]\n",
      " [ 2  7]]\n",
      "              precision    recall  f1-score   support\n",
      "\n",
      "           0       0.95      0.89      0.92        45\n",
      "           1       0.58      0.78      0.67         9\n",
      "\n",
      "    accuracy                           0.87        54\n",
      "   macro avg       0.77      0.83      0.79        54\n",
      "weighted avg       0.89      0.87      0.88        54\n",
      "\n"
     ]
    },
    {
     "data": {
      "text/plain": [
       "<AxesSubplot:>"
      ]
     },
     "execution_count": 41,
     "metadata": {},
     "output_type": "execute_result"
    },
    {
     "data": {
      "image/png": "[encoded data removed]",
      "text/plain": [
       "<Figure size 432x288 with 1 Axes>"
      ]
     },
     "metadata": {
      "needs_background": "light"
     },
     "output_type": "display_data"
    }
   ],
   "source": [
    "from sklearn.ensemble import ExtraTreesClassifier\n",
    "from sklearn.metrics import confusion_matrix, classification_report\n",
    "ext = ExtraTreesClassifier(criterion='entropy',max_depth=8)\n",
    "ext.fit(X,y)\n",
    "pred_ext = ext.predict(X_test)\n",
    "print(accuracy_score(pred_ext,y_test))\n",
    "print(confusion_matrix(pred_ext,y_test))\n",
    "print(classification_report(pred_ext,y_test))\n",
    "sns.barplot(x=ext.feature_importances_,y=X_test.columns)"
   ]
  },
  {
   "cell_type": "code",
   "execution_count": 42,
   "id": "a3b26f1e",
   "metadata": {},
   "outputs": [
    {
     "data": {
      "text/plain": [
       "Index(['age', 'anaemia', 'creatinine_phosphokinase', 'diabetes',\n",
       "       'ejection_fraction', 'high_blood_pressure', 'platelets',\n",
       "       'serum_creatinine', 'serum_sodium', 'sex', 'smoking', 'time'],\n",
       "      dtype='object')"
      ]
     },
     "execution_count": 42,
     "metadata": {},
     "output_type": "execute_result"
    }
   ],
   "source": [
    "X.columns"
   ]
  },
  {
   "cell_type": "code",
   "execution_count": 43,
   "id": "ad306e01",
   "metadata": {},
   "outputs": [],
   "source": [
    "X.drop(['anaemia', 'creatinine_phosphokinase', 'diabetes',\n",
    "        'high_blood_pressure', 'platelets','serum_sodium', 'sex', 'smoking'],inplace=True,axis=1)\n",
    "X_test.drop(['anaemia', 'creatinine_phosphokinase', 'diabetes',\n",
    "        'high_blood_pressure', 'platelets','serum_sodium', 'sex', 'smoking'],inplace=True,axis=1)"
   ]
  },
  {
   "cell_type": "code",
   "execution_count": 44,
   "id": "5b66419d",
   "metadata": {},
   "outputs": [
    {
     "name": "stdout",
     "output_type": "stream",
     "text": [
      "(300, 4) (54, 4) (300,) (54,)\n"
     ]
    }
   ],
   "source": [
    "print(X.shape,X_test.shape,y.shape,y_test.shape)"
   ]
  },
  {
   "cell_type": "markdown",
   "id": "bad13f9d",
   "metadata": {},
   "source": [
    "# Deployment"
   ]
  },
  {
   "cell_type": "code",
   "execution_count": 45,
   "id": "a00bd211",
   "metadata": {},
   "outputs": [],
   "source": [
    "import pickle\n",
    "pickle.dump(ext, open('model_extree.pkl','wb'))"
   ]
  },
  {
   "cell_type": "markdown",
   "id": "28e5ac20",
   "metadata": {},
   "source": [
    "# Kesimpulan"
   ]
  },
  {
   "cell_type": "markdown",
   "id": "24259ddd",
   "metadata": {},
   "source": [
    "1. Tingkat sembuh dari gagal jantung tertinggi ada pada usia 40~70 tahun\n",
    "2. Tingkat terjangkit gagal jantung tertinggi ada pada usia 40~80\n",
    "3. Usia dibawah 40 Tahun berpotensi rendah mengidap gagal jantung\n",
    "4. TIngkat sembuh antara laki-laki dan perempuan hampir sama"
   ]
  }
 ],
 "metadata": {
  "kernelspec": {
   "display_name": "Python 3",
   "language": "python",
   "name": "python3"
  },
  "language_info": {
   "codemirror_mode": {
    "name": "ipython",
    "version": 3
   },
   "file_extension": ".py",
   "mimetype": "text/x-python",
   "name": "python",
   "nbconvert_exporter": "python",
   "pygments_lexer": "ipython3",
   "version": "3.8.8"
  }
 },
 "nbformat": 4,
 "nbformat_minor": 5
}
