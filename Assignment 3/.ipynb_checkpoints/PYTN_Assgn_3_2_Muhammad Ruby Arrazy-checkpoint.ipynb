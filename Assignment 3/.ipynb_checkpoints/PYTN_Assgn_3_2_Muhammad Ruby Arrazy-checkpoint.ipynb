{
 "cells": [
  {
   "cell_type": "markdown",
   "id": "2281f321",
   "metadata": {},
   "source": [
    "# Assignment 3 Machine Learning Model\n",
    "### Assignment 3 Menggunakan dataset Bank Marketing Campaign yang didapat dari kaggle (https://www.kaggle.com/krantiswalke/bankfullcsv). Visualisasi dilakukan dengan menggunakan seaborn dan matplotlib. Machine Learning model didapat dari library scikit-learn."
   ]
  },
  {
   "cell_type": "markdown",
   "id": "bbcdd122",
   "metadata": {},
   "source": [
    "# Import Library"
   ]
  },
  {
   "cell_type": "code",
   "execution_count": 1,
   "id": "5ac2ae40",
   "metadata": {},
   "outputs": [],
   "source": [
    "import pandas as pd \n",
    "import numpy as np\n",
    "import matplotlib.pyplot as plt\n",
    "import seaborn as sns\n",
    "%matplotlib inline\n",
    "\n",
    "from sklearn.linear_model import LogisticRegression\n",
    "from sklearn.tree import DecisionTreeClassifier\n",
    "from sklearn.ensemble import RandomForestClassifier\n",
    "from sklearn.metrics import accuracy_score, classification_report, confusion_matrix\n"
   ]
  },
  {
   "cell_type": "markdown",
   "id": "ab1ab405",
   "metadata": {},
   "source": [
    "# Loading Data"
   ]
  },
  {
   "cell_type": "code",
   "execution_count": 9,
   "id": "926f3a47",
   "metadata": {},
   "outputs": [],
   "source": [
    "df = pd.read_csv('bank-full-1.csv',sep=';',engine='python',na_values='unknown')"
   ]
  },
  {
   "cell_type": "code",
   "execution_count": 10,
   "id": "b1185285",
   "metadata": {},
   "outputs": [
    {
     "data": {
      "text/html": [
       "<div>\n",
       "<style scoped>\n",
       "    .dataframe tbody tr th:only-of-type {\n",
       "        vertical-align: middle;\n",
       "    }\n",
       "\n",
       "    .dataframe tbody tr th {\n",
       "        vertical-align: top;\n",
       "    }\n",
       "\n",
       "    .dataframe thead th {\n",
       "        text-align: right;\n",
       "    }\n",
       "</style>\n",
       "<table border=\"1\" class=\"dataframe\">\n",
       "  <thead>\n",
       "    <tr style=\"text-align: right;\">\n",
       "      <th></th>\n",
       "      <th>age</th>\n",
       "      <th>job</th>\n",
       "      <th>marital</th>\n",
       "      <th>education</th>\n",
       "      <th>default</th>\n",
       "      <th>balance</th>\n",
       "      <th>housing</th>\n",
       "      <th>loan</th>\n",
       "      <th>contact</th>\n",
       "      <th>day</th>\n",
       "      <th>month</th>\n",
       "      <th>duration</th>\n",
       "      <th>campaign</th>\n",
       "      <th>pdays</th>\n",
       "      <th>previous</th>\n",
       "      <th>poutcome</th>\n",
       "      <th>y</th>\n",
       "    </tr>\n",
       "  </thead>\n",
       "  <tbody>\n",
       "    <tr>\n",
       "      <th>0</th>\n",
       "      <td>58</td>\n",
       "      <td>management</td>\n",
       "      <td>married</td>\n",
       "      <td>tertiary</td>\n",
       "      <td>no</td>\n",
       "      <td>2143</td>\n",
       "      <td>yes</td>\n",
       "      <td>no</td>\n",
       "      <td>NaN</td>\n",
       "      <td>5</td>\n",
       "      <td>may</td>\n",
       "      <td>261</td>\n",
       "      <td>1</td>\n",
       "      <td>-1</td>\n",
       "      <td>0</td>\n",
       "      <td>NaN</td>\n",
       "      <td>no</td>\n",
       "    </tr>\n",
       "    <tr>\n",
       "      <th>1</th>\n",
       "      <td>44</td>\n",
       "      <td>technician</td>\n",
       "      <td>single</td>\n",
       "      <td>secondary</td>\n",
       "      <td>no</td>\n",
       "      <td>29</td>\n",
       "      <td>yes</td>\n",
       "      <td>no</td>\n",
       "      <td>NaN</td>\n",
       "      <td>5</td>\n",
       "      <td>may</td>\n",
       "      <td>151</td>\n",
       "      <td>1</td>\n",
       "      <td>-1</td>\n",
       "      <td>0</td>\n",
       "      <td>NaN</td>\n",
       "      <td>no</td>\n",
       "    </tr>\n",
       "    <tr>\n",
       "      <th>2</th>\n",
       "      <td>33</td>\n",
       "      <td>entrepreneur</td>\n",
       "      <td>married</td>\n",
       "      <td>secondary</td>\n",
       "      <td>no</td>\n",
       "      <td>2</td>\n",
       "      <td>yes</td>\n",
       "      <td>yes</td>\n",
       "      <td>NaN</td>\n",
       "      <td>5</td>\n",
       "      <td>may</td>\n",
       "      <td>76</td>\n",
       "      <td>1</td>\n",
       "      <td>-1</td>\n",
       "      <td>0</td>\n",
       "      <td>NaN</td>\n",
       "      <td>no</td>\n",
       "    </tr>\n",
       "    <tr>\n",
       "      <th>3</th>\n",
       "      <td>47</td>\n",
       "      <td>blue-collar</td>\n",
       "      <td>married</td>\n",
       "      <td>NaN</td>\n",
       "      <td>no</td>\n",
       "      <td>1506</td>\n",
       "      <td>yes</td>\n",
       "      <td>no</td>\n",
       "      <td>NaN</td>\n",
       "      <td>5</td>\n",
       "      <td>may</td>\n",
       "      <td>92</td>\n",
       "      <td>1</td>\n",
       "      <td>-1</td>\n",
       "      <td>0</td>\n",
       "      <td>NaN</td>\n",
       "      <td>no</td>\n",
       "    </tr>\n",
       "    <tr>\n",
       "      <th>4</th>\n",
       "      <td>33</td>\n",
       "      <td>NaN</td>\n",
       "      <td>single</td>\n",
       "      <td>NaN</td>\n",
       "      <td>no</td>\n",
       "      <td>1</td>\n",
       "      <td>no</td>\n",
       "      <td>no</td>\n",
       "      <td>NaN</td>\n",
       "      <td>5</td>\n",
       "      <td>may</td>\n",
       "      <td>198</td>\n",
       "      <td>1</td>\n",
       "      <td>-1</td>\n",
       "      <td>0</td>\n",
       "      <td>NaN</td>\n",
       "      <td>no</td>\n",
       "    </tr>\n",
       "  </tbody>\n",
       "</table>\n",
       "</div>"
      ],
      "text/plain": [
       "   age           job  marital  education default  balance housing loan  \\\n",
       "0   58    management  married   tertiary      no     2143     yes   no   \n",
       "1   44    technician   single  secondary      no       29     yes   no   \n",
       "2   33  entrepreneur  married  secondary      no        2     yes  yes   \n",
       "3   47   blue-collar  married        NaN      no     1506     yes   no   \n",
       "4   33           NaN   single        NaN      no        1      no   no   \n",
       "\n",
       "  contact  day month  duration  campaign  pdays  previous poutcome   y  \n",
       "0     NaN    5   may       261         1     -1         0      NaN  no  \n",
       "1     NaN    5   may       151         1     -1         0      NaN  no  \n",
       "2     NaN    5   may        76         1     -1         0      NaN  no  \n",
       "3     NaN    5   may        92         1     -1         0      NaN  no  \n",
       "4     NaN    5   may       198         1     -1         0      NaN  no  "
      ]
     },
     "execution_count": 10,
     "metadata": {},
     "output_type": "execute_result"
    }
   ],
   "source": [
    "df.head()"
   ]
  },
  {
   "cell_type": "code",
   "execution_count": 11,
   "id": "6604e8cc",
   "metadata": {},
   "outputs": [
    {
     "data": {
      "text/plain": [
       "(45211, 17)"
      ]
     },
     "execution_count": 11,
     "metadata": {},
     "output_type": "execute_result"
    }
   ],
   "source": [
    "df.shape"
   ]
  },
  {
   "cell_type": "code",
   "execution_count": 12,
   "id": "121f1329",
   "metadata": {},
   "outputs": [
    {
     "data": {
      "text/plain": [
       "age              0\n",
       "job            288\n",
       "marital          0\n",
       "education     1857\n",
       "default          0\n",
       "balance          0\n",
       "housing          0\n",
       "loan             0\n",
       "contact      13020\n",
       "day              0\n",
       "month            0\n",
       "duration         0\n",
       "campaign         0\n",
       "pdays            0\n",
       "previous         0\n",
       "poutcome     36959\n",
       "y                0\n",
       "dtype: int64"
      ]
     },
     "execution_count": 12,
     "metadata": {},
     "output_type": "execute_result"
    }
   ],
   "source": [
    "df.isnull().sum()"
   ]
  },
  {
   "cell_type": "code",
   "execution_count": 13,
   "id": "a62a2dbc",
   "metadata": {},
   "outputs": [],
   "source": [
    "df.dropna(inplace=True)"
   ]
  },
  {
   "cell_type": "code",
   "execution_count": 14,
   "id": "ea0693e5",
   "metadata": {},
   "outputs": [
    {
     "data": {
      "text/plain": [
       "age          0\n",
       "job          0\n",
       "marital      0\n",
       "education    0\n",
       "default      0\n",
       "balance      0\n",
       "housing      0\n",
       "loan         0\n",
       "contact      0\n",
       "day          0\n",
       "month        0\n",
       "duration     0\n",
       "campaign     0\n",
       "pdays        0\n",
       "previous     0\n",
       "poutcome     0\n",
       "y            0\n",
       "dtype: int64"
      ]
     },
     "execution_count": 14,
     "metadata": {},
     "output_type": "execute_result"
    }
   ],
   "source": [
    "df.isnull().sum()"
   ]
  },
  {
   "cell_type": "code",
   "execution_count": 15,
   "id": "4e142730",
   "metadata": {},
   "outputs": [
    {
     "data": {
      "text/plain": [
       "(7842, 17)"
      ]
     },
     "execution_count": 15,
     "metadata": {},
     "output_type": "execute_result"
    }
   ],
   "source": [
    "df.shape"
   ]
  },
  {
   "cell_type": "code",
   "execution_count": 16,
   "id": "474b406e",
   "metadata": {},
   "outputs": [
    {
     "data": {
      "text/plain": [
       "0"
      ]
     },
     "execution_count": 16,
     "metadata": {},
     "output_type": "execute_result"
    }
   ],
   "source": [
    "df.duplicated().sum()"
   ]
  },
  {
   "cell_type": "code",
   "execution_count": 17,
   "id": "ccd28571",
   "metadata": {},
   "outputs": [
    {
     "name": "stdout",
     "output_type": "stream",
     "text": [
      "<class 'pandas.core.frame.DataFrame'>\n",
      "Int64Index: 7842 entries, 24060 to 45210\n",
      "Data columns (total 17 columns):\n",
      " #   Column     Non-Null Count  Dtype \n",
      "---  ------     --------------  ----- \n",
      " 0   age        7842 non-null   int64 \n",
      " 1   job        7842 non-null   object\n",
      " 2   marital    7842 non-null   object\n",
      " 3   education  7842 non-null   object\n",
      " 4   default    7842 non-null   object\n",
      " 5   balance    7842 non-null   int64 \n",
      " 6   housing    7842 non-null   object\n",
      " 7   loan       7842 non-null   object\n",
      " 8   contact    7842 non-null   object\n",
      " 9   day        7842 non-null   int64 \n",
      " 10  month      7842 non-null   object\n",
      " 11  duration   7842 non-null   int64 \n",
      " 12  campaign   7842 non-null   int64 \n",
      " 13  pdays      7842 non-null   int64 \n",
      " 14  previous   7842 non-null   int64 \n",
      " 15  poutcome   7842 non-null   object\n",
      " 16  y          7842 non-null   object\n",
      "dtypes: int64(7), object(10)\n",
      "memory usage: 1.3+ MB\n"
     ]
    }
   ],
   "source": [
    "df.info()"
   ]
  },
  {
   "cell_type": "code",
   "execution_count": 18,
   "id": "a7aba5c2",
   "metadata": {},
   "outputs": [],
   "source": [
    "categorical = ['job','marital','education','default','housing','loan','contact','month','poutcome','y']\n",
    "\n",
    "for col in categorical:\n",
    "    df[col] = df[col].astype('category')"
   ]
  },
  {
   "cell_type": "markdown",
   "id": "53e63f77",
   "metadata": {},
   "source": [
    "## Handling Outliers"
   ]
  },
  {
   "cell_type": "code",
   "execution_count": 19,
   "id": "d422ef7b",
   "metadata": {},
   "outputs": [
    {
     "data": {
      "text/html": [
       "<div>\n",
       "<style scoped>\n",
       "    .dataframe tbody tr th:only-of-type {\n",
       "        vertical-align: middle;\n",
       "    }\n",
       "\n",
       "    .dataframe tbody tr th {\n",
       "        vertical-align: top;\n",
       "    }\n",
       "\n",
       "    .dataframe thead th {\n",
       "        text-align: right;\n",
       "    }\n",
       "</style>\n",
       "<table border=\"1\" class=\"dataframe\">\n",
       "  <thead>\n",
       "    <tr style=\"text-align: right;\">\n",
       "      <th></th>\n",
       "      <th>age</th>\n",
       "      <th>balance</th>\n",
       "      <th>day</th>\n",
       "      <th>duration</th>\n",
       "      <th>campaign</th>\n",
       "      <th>pdays</th>\n",
       "      <th>previous</th>\n",
       "    </tr>\n",
       "  </thead>\n",
       "  <tbody>\n",
       "    <tr>\n",
       "      <th>count</th>\n",
       "      <td>7842.000000</td>\n",
       "      <td>7842.000000</td>\n",
       "      <td>7842.000000</td>\n",
       "      <td>7842.000000</td>\n",
       "      <td>7842.000000</td>\n",
       "      <td>7842.000000</td>\n",
       "      <td>7842.000000</td>\n",
       "    </tr>\n",
       "    <tr>\n",
       "      <th>mean</th>\n",
       "      <td>40.783856</td>\n",
       "      <td>1552.343280</td>\n",
       "      <td>14.260010</td>\n",
       "      <td>261.290615</td>\n",
       "      <td>2.064269</td>\n",
       "      <td>223.252869</td>\n",
       "      <td>3.184264</td>\n",
       "    </tr>\n",
       "    <tr>\n",
       "      <th>std</th>\n",
       "      <td>11.282964</td>\n",
       "      <td>3084.580003</td>\n",
       "      <td>7.885328</td>\n",
       "      <td>236.203272</td>\n",
       "      <td>1.566109</td>\n",
       "      <td>111.830127</td>\n",
       "      <td>4.614190</td>\n",
       "    </tr>\n",
       "    <tr>\n",
       "      <th>min</th>\n",
       "      <td>18.000000</td>\n",
       "      <td>-1884.000000</td>\n",
       "      <td>1.000000</td>\n",
       "      <td>5.000000</td>\n",
       "      <td>1.000000</td>\n",
       "      <td>1.000000</td>\n",
       "      <td>1.000000</td>\n",
       "    </tr>\n",
       "    <tr>\n",
       "      <th>25%</th>\n",
       "      <td>32.000000</td>\n",
       "      <td>162.000000</td>\n",
       "      <td>7.000000</td>\n",
       "      <td>113.000000</td>\n",
       "      <td>1.000000</td>\n",
       "      <td>133.000000</td>\n",
       "      <td>1.000000</td>\n",
       "    </tr>\n",
       "    <tr>\n",
       "      <th>50%</th>\n",
       "      <td>38.000000</td>\n",
       "      <td>595.000000</td>\n",
       "      <td>14.000000</td>\n",
       "      <td>194.000000</td>\n",
       "      <td>2.000000</td>\n",
       "      <td>195.000000</td>\n",
       "      <td>2.000000</td>\n",
       "    </tr>\n",
       "    <tr>\n",
       "      <th>75%</th>\n",
       "      <td>47.000000</td>\n",
       "      <td>1733.750000</td>\n",
       "      <td>20.000000</td>\n",
       "      <td>324.000000</td>\n",
       "      <td>2.000000</td>\n",
       "      <td>326.000000</td>\n",
       "      <td>4.000000</td>\n",
       "    </tr>\n",
       "    <tr>\n",
       "      <th>max</th>\n",
       "      <td>89.000000</td>\n",
       "      <td>81204.000000</td>\n",
       "      <td>31.000000</td>\n",
       "      <td>2219.000000</td>\n",
       "      <td>16.000000</td>\n",
       "      <td>871.000000</td>\n",
       "      <td>275.000000</td>\n",
       "    </tr>\n",
       "  </tbody>\n",
       "</table>\n",
       "</div>"
      ],
      "text/plain": [
       "               age       balance          day     duration     campaign  \\\n",
       "count  7842.000000   7842.000000  7842.000000  7842.000000  7842.000000   \n",
       "mean     40.783856   1552.343280    14.260010   261.290615     2.064269   \n",
       "std      11.282964   3084.580003     7.885328   236.203272     1.566109   \n",
       "min      18.000000  -1884.000000     1.000000     5.000000     1.000000   \n",
       "25%      32.000000    162.000000     7.000000   113.000000     1.000000   \n",
       "50%      38.000000    595.000000    14.000000   194.000000     2.000000   \n",
       "75%      47.000000   1733.750000    20.000000   324.000000     2.000000   \n",
       "max      89.000000  81204.000000    31.000000  2219.000000    16.000000   \n",
       "\n",
       "             pdays     previous  \n",
       "count  7842.000000  7842.000000  \n",
       "mean    223.252869     3.184264  \n",
       "std     111.830127     4.614190  \n",
       "min       1.000000     1.000000  \n",
       "25%     133.000000     1.000000  \n",
       "50%     195.000000     2.000000  \n",
       "75%     326.000000     4.000000  \n",
       "max     871.000000   275.000000  "
      ]
     },
     "execution_count": 19,
     "metadata": {},
     "output_type": "execute_result"
    }
   ],
   "source": [
    "df.describe()"
   ]
  },
  {
   "cell_type": "code",
   "execution_count": 30,
   "id": "1c82db31",
   "metadata": {},
   "outputs": [
    {
     "data": {
      "image/png": "[encoded data removed]",
      "text/plain": [
       "<Figure size 1080x720 with 7 Axes>"
      ]
     },
     "metadata": {
      "needs_background": "light"
     },
     "output_type": "display_data"
    }
   ],
   "source": [
    "plt.figure(figsize=(15,10))\n",
    "\n",
    "plt.subplot(3, 3, 1)\n",
    "fig = df.boxplot(column='age')\n",
    "\n",
    "plt.subplot(3,3, 2)\n",
    "fig = df.boxplot(column='balance')\n",
    "\n",
    "plt.subplot(3, 3, 3)\n",
    "fig = df.boxplot(column='day')\n",
    "\n",
    "plt.subplot(3, 3, 4)\n",
    "fig = df.boxplot(column='duration')\n",
    "\n",
    "plt.subplot(3, 3, 5)\n",
    "fig = df.boxplot(column='pdays')\n",
    "\n",
    "plt.subplot(3, 3, 6)\n",
    "fig = df.boxplot(column='previous')\n",
    "\n",
    "plt.subplot(3, 3, 7)\n",
    "fig = df.boxplot(column='campaign')"
   ]
  },
  {
   "cell_type": "code",
   "execution_count": 33,
   "id": "00d16d98",
   "metadata": {},
   "outputs": [],
   "source": [
    "def remove_outliers(data):\n",
    "    data = data.sort_values()\n",
    "    Q1 = data.quantile(0.25)\n",
    "    Q3 = data.quantile(0.75)\n",
    "    \n",
    "    IQR = Q3-Q1 \n",
    "    upper = data >(Q3+1.5*IQR)\n",
    "    lower = data <(Q1-1.5*IQR)\n",
    "    \n",
    "    return data.index[upper]"
   ]
  },
  {
   "cell_type": "code",
   "execution_count": 34,
   "id": "e1034e7c",
   "metadata": {},
   "outputs": [],
   "source": [
    "df.drop(remove_outliers(df['age']),inplace=True)\n",
    "df.drop(remove_outliers(df['balance']),inplace=True)\n",
    "df.drop(remove_outliers(df['day']),inplace=True)\n",
    "df.drop(remove_outliers(df['duration']),inplace=True)\n",
    "df.drop(remove_outliers(df['pdays']),inplace=True)\n",
    "df.drop(remove_outliers(df['previous']),inplace=True)\n",
    "df.drop(remove_outliers(df['campaign']),inplace=True)"
   ]
  },
  {
   "cell_type": "code",
   "execution_count": 35,
   "id": "6f4e06dd",
   "metadata": {},
   "outputs": [
    {
     "data": {
      "text/plain": [
       "(5375, 17)"
      ]
     },
     "execution_count": 35,
     "metadata": {},
     "output_type": "execute_result"
    }
   ],
   "source": [
    "df.shape"
   ]
  },
  {
   "cell_type": "markdown",
   "id": "f795783f",
   "metadata": {},
   "source": [
    "## Bivariate Analysis"
   ]
  },
  {
   "cell_type": "code",
   "execution_count": 36,
   "id": "7cb8f00c",
   "metadata": {},
   "outputs": [
    {
     "data": {
      "image/png": "[encoded data removed]",
      "text/plain": [
       "<Figure size 720x432 with 1 Axes>"
      ]
     },
     "metadata": {
      "needs_background": "light"
     },
     "output_type": "display_data"
    }
   ],
   "source": [
    "plt.figure(figsize=(10,6))\n",
    "\n",
    "sns.countplot(x='y',data=df, palette='crest')\n",
    "plt.title('Menggunakan deposito')\n",
    "plt.show()"
   ]
  },
  {
   "cell_type": "code",
   "execution_count": 42,
   "id": "584ccc76",
   "metadata": {},
   "outputs": [
    {
     "data": {
      "image/png": "[encoded data removed]",
      "text/plain": [
       "<Figure size 1080x720 with 1 Axes>"
      ]
     },
     "metadata": {
      "needs_background": "light"
     },
     "output_type": "display_data"
    }
   ],
   "source": [
    "plt.figure(figsize=(15,10))\n",
    "\n",
    "sns.countplot(x=df['job'],hue=df['y'], palette='crest')\n",
    "plt.title('Jumlah Pengguna Deposito Berdasarkan Pekerjaan')\n",
    "plt.show()"
   ]
  },
  {
   "cell_type": "code",
   "execution_count": 46,
   "id": "723e7633",
   "metadata": {},
   "outputs": [
    {
     "data": {
      "image/png": "[encoded data removed]",
      "text/plain": [
       "<Figure size 720x576 with 1 Axes>"
      ]
     },
     "metadata": {
      "needs_background": "light"
     },
     "output_type": "display_data"
    }
   ],
   "source": [
    "plt.figure(figsize=(10,8))\n",
    "\n",
    "sns.countplot(x=df['marital'],hue=df['y'], palette='crest')\n",
    "plt.title('Jumlah Pengguna Deposito Berdasarkan Status Pernikahan')\n",
    "plt.show()"
   ]
  },
  {
   "cell_type": "code",
   "execution_count": 48,
   "id": "95a6a31a",
   "metadata": {},
   "outputs": [
    {
     "data": {
      "image/png": "[encoded data removed]",
      "text/plain": [
       "<Figure size 720x576 with 1 Axes>"
      ]
     },
     "metadata": {
      "needs_background": "light"
     },
     "output_type": "display_data"
    }
   ],
   "source": [
    "plt.figure(figsize=(10,8))\n",
    "\n",
    "sns.countplot(x=df['education'],hue=df['y'], palette='crest')\n",
    "plt.title('Jumlah Pengguna Deposito Berdasarkan Pendidikan')\n",
    "plt.show()"
   ]
  },
  {
   "cell_type": "code",
   "execution_count": 53,
   "id": "874a6c53",
   "metadata": {},
   "outputs": [
    {
     "data": {
      "text/plain": [
       "campaign  poutcome\n",
       "1         failure     1918\n",
       "          other        519\n",
       "          success      600\n",
       "2         failure     1076\n",
       "          other        364\n",
       "          success      270\n",
       "3         failure      356\n",
       "          other        185\n",
       "          success       87\n",
       "dtype: int64"
      ]
     },
     "execution_count": 53,
     "metadata": {},
     "output_type": "execute_result"
    }
   ],
   "source": []
  },
  {
   "cell_type": "code",
   "execution_count": 60,
   "id": "22c1c226",
   "metadata": {
    "scrolled": false
   },
   "outputs": [
    {
     "data": {
      "image/png": "[encoded data removed]",
      "text/plain": [
       "<Figure size 1080x576 with 1 Axes>"
      ]
     },
     "metadata": {
      "needs_background": "light"
     },
     "output_type": "display_data"
    }
   ],
   "source": [
    "plt.figure(figsize=(15,8))\n",
    "sns.countplot(x=df['campaign'],hue=df['y'],palette='crest')\n",
    "plt.title('Perbanding Jumlah Convert Hasil Campaign')\n",
    "plt.show()"
   ]
  },
  {
   "cell_type": "markdown",
   "id": "62badc7f",
   "metadata": {},
   "source": [
    "## Preprocessing"
   ]
  },
  {
   "cell_type": "markdown",
   "id": "d507bda0",
   "metadata": {},
   "source": [
    "## Encoding"
   ]
  },
  {
   "cell_type": "code",
   "execution_count": 61,
   "id": "733455b7",
   "metadata": {},
   "outputs": [],
   "source": [
    "nume = list(df.select_dtypes(include=['int64']).columns.values)\n",
    "cate = list(df.select_dtypes(include=['category']).columns.values)"
   ]
  },
  {
   "cell_type": "code",
   "execution_count": 63,
   "id": "2350ab61",
   "metadata": {},
   "outputs": [],
   "source": [
    "nom = ['job','marital','default','contact','poutcome']\n",
    "ordi = ['education','housing','loan','month','y']"
   ]
  },
  {
   "cell_type": "markdown",
   "id": "52ab019c",
   "metadata": {},
   "source": [
    "### One Hote Encoding"
   ]
  },
  {
   "cell_type": "code",
   "execution_count": 64,
   "id": "dec3b503",
   "metadata": {},
   "outputs": [],
   "source": [
    "df = pd.get_dummies(data=df,columns=['job','marital','default','contact','poutcome'])"
   ]
  },
  {
   "cell_type": "markdown",
   "id": "c29a9cd3",
   "metadata": {},
   "source": [
    "### Label Encoding"
   ]
  },
  {
   "cell_type": "code",
   "execution_count": 65,
   "id": "8a4415a4",
   "metadata": {},
   "outputs": [],
   "source": [
    "from sklearn.preprocessing import LabelEncoder\n",
    "LE = LabelEncoder()\n",
    "\n",
    "for ordi_col in ordi:\n",
    "    df[ordi_col] = LE.fit_transform(df[ordi_col])"
   ]
  },
  {
   "cell_type": "code",
   "execution_count": 66,
   "id": "1a24663c",
   "metadata": {},
   "outputs": [
    {
     "data": {
      "text/html": [
       "<div>\n",
       "<style scoped>\n",
       "    .dataframe tbody tr th:only-of-type {\n",
       "        vertical-align: middle;\n",
       "    }\n",
       "\n",
       "    .dataframe tbody tr th {\n",
       "        vertical-align: top;\n",
       "    }\n",
       "\n",
       "    .dataframe thead th {\n",
       "        text-align: right;\n",
       "    }\n",
       "</style>\n",
       "<table border=\"1\" class=\"dataframe\">\n",
       "  <thead>\n",
       "    <tr style=\"text-align: right;\">\n",
       "      <th></th>\n",
       "      <th>age</th>\n",
       "      <th>education</th>\n",
       "      <th>balance</th>\n",
       "      <th>housing</th>\n",
       "      <th>loan</th>\n",
       "      <th>day</th>\n",
       "      <th>month</th>\n",
       "      <th>duration</th>\n",
       "      <th>campaign</th>\n",
       "      <th>pdays</th>\n",
       "      <th>...</th>\n",
       "      <th>marital_divorced</th>\n",
       "      <th>marital_married</th>\n",
       "      <th>marital_single</th>\n",
       "      <th>default_no</th>\n",
       "      <th>default_yes</th>\n",
       "      <th>contact_cellular</th>\n",
       "      <th>contact_telephone</th>\n",
       "      <th>poutcome_failure</th>\n",
       "      <th>poutcome_other</th>\n",
       "      <th>poutcome_success</th>\n",
       "    </tr>\n",
       "  </thead>\n",
       "  <tbody>\n",
       "    <tr>\n",
       "      <th>24060</th>\n",
       "      <td>33</td>\n",
       "      <td>2</td>\n",
       "      <td>882</td>\n",
       "      <td>0</td>\n",
       "      <td>0</td>\n",
       "      <td>21</td>\n",
       "      <td>10</td>\n",
       "      <td>39</td>\n",
       "      <td>1</td>\n",
       "      <td>151</td>\n",
       "      <td>...</td>\n",
       "      <td>0</td>\n",
       "      <td>1</td>\n",
       "      <td>0</td>\n",
       "      <td>1</td>\n",
       "      <td>0</td>\n",
       "      <td>0</td>\n",
       "      <td>1</td>\n",
       "      <td>1</td>\n",
       "      <td>0</td>\n",
       "      <td>0</td>\n",
       "    </tr>\n",
       "    <tr>\n",
       "      <th>24062</th>\n",
       "      <td>42</td>\n",
       "      <td>1</td>\n",
       "      <td>-247</td>\n",
       "      <td>1</td>\n",
       "      <td>1</td>\n",
       "      <td>21</td>\n",
       "      <td>10</td>\n",
       "      <td>519</td>\n",
       "      <td>1</td>\n",
       "      <td>166</td>\n",
       "      <td>...</td>\n",
       "      <td>0</td>\n",
       "      <td>0</td>\n",
       "      <td>1</td>\n",
       "      <td>1</td>\n",
       "      <td>0</td>\n",
       "      <td>0</td>\n",
       "      <td>1</td>\n",
       "      <td>0</td>\n",
       "      <td>1</td>\n",
       "      <td>0</td>\n",
       "    </tr>\n",
       "    <tr>\n",
       "      <th>24064</th>\n",
       "      <td>33</td>\n",
       "      <td>1</td>\n",
       "      <td>3444</td>\n",
       "      <td>1</td>\n",
       "      <td>0</td>\n",
       "      <td>21</td>\n",
       "      <td>10</td>\n",
       "      <td>144</td>\n",
       "      <td>1</td>\n",
       "      <td>91</td>\n",
       "      <td>...</td>\n",
       "      <td>0</td>\n",
       "      <td>1</td>\n",
       "      <td>0</td>\n",
       "      <td>1</td>\n",
       "      <td>0</td>\n",
       "      <td>0</td>\n",
       "      <td>1</td>\n",
       "      <td>1</td>\n",
       "      <td>0</td>\n",
       "      <td>0</td>\n",
       "    </tr>\n",
       "    <tr>\n",
       "      <th>24072</th>\n",
       "      <td>36</td>\n",
       "      <td>2</td>\n",
       "      <td>2415</td>\n",
       "      <td>1</td>\n",
       "      <td>0</td>\n",
       "      <td>22</td>\n",
       "      <td>10</td>\n",
       "      <td>73</td>\n",
       "      <td>1</td>\n",
       "      <td>86</td>\n",
       "      <td>...</td>\n",
       "      <td>0</td>\n",
       "      <td>1</td>\n",
       "      <td>0</td>\n",
       "      <td>1</td>\n",
       "      <td>0</td>\n",
       "      <td>0</td>\n",
       "      <td>1</td>\n",
       "      <td>0</td>\n",
       "      <td>1</td>\n",
       "      <td>0</td>\n",
       "    </tr>\n",
       "    <tr>\n",
       "      <th>24077</th>\n",
       "      <td>36</td>\n",
       "      <td>2</td>\n",
       "      <td>0</td>\n",
       "      <td>1</td>\n",
       "      <td>0</td>\n",
       "      <td>23</td>\n",
       "      <td>10</td>\n",
       "      <td>140</td>\n",
       "      <td>1</td>\n",
       "      <td>143</td>\n",
       "      <td>...</td>\n",
       "      <td>0</td>\n",
       "      <td>1</td>\n",
       "      <td>0</td>\n",
       "      <td>1</td>\n",
       "      <td>0</td>\n",
       "      <td>0</td>\n",
       "      <td>1</td>\n",
       "      <td>1</td>\n",
       "      <td>0</td>\n",
       "      <td>0</td>\n",
       "    </tr>\n",
       "    <tr>\n",
       "      <th>...</th>\n",
       "      <td>...</td>\n",
       "      <td>...</td>\n",
       "      <td>...</td>\n",
       "      <td>...</td>\n",
       "      <td>...</td>\n",
       "      <td>...</td>\n",
       "      <td>...</td>\n",
       "      <td>...</td>\n",
       "      <td>...</td>\n",
       "      <td>...</td>\n",
       "      <td>...</td>\n",
       "      <td>...</td>\n",
       "      <td>...</td>\n",
       "      <td>...</td>\n",
       "      <td>...</td>\n",
       "      <td>...</td>\n",
       "      <td>...</td>\n",
       "      <td>...</td>\n",
       "      <td>...</td>\n",
       "      <td>...</td>\n",
       "      <td>...</td>\n",
       "    </tr>\n",
       "    <tr>\n",
       "      <th>45190</th>\n",
       "      <td>32</td>\n",
       "      <td>1</td>\n",
       "      <td>136</td>\n",
       "      <td>0</td>\n",
       "      <td>0</td>\n",
       "      <td>16</td>\n",
       "      <td>9</td>\n",
       "      <td>206</td>\n",
       "      <td>1</td>\n",
       "      <td>188</td>\n",
       "      <td>...</td>\n",
       "      <td>0</td>\n",
       "      <td>1</td>\n",
       "      <td>0</td>\n",
       "      <td>1</td>\n",
       "      <td>0</td>\n",
       "      <td>1</td>\n",
       "      <td>0</td>\n",
       "      <td>0</td>\n",
       "      <td>0</td>\n",
       "      <td>1</td>\n",
       "    </tr>\n",
       "    <tr>\n",
       "      <th>45193</th>\n",
       "      <td>28</td>\n",
       "      <td>2</td>\n",
       "      <td>159</td>\n",
       "      <td>0</td>\n",
       "      <td>0</td>\n",
       "      <td>16</td>\n",
       "      <td>9</td>\n",
       "      <td>449</td>\n",
       "      <td>2</td>\n",
       "      <td>33</td>\n",
       "      <td>...</td>\n",
       "      <td>0</td>\n",
       "      <td>0</td>\n",
       "      <td>1</td>\n",
       "      <td>1</td>\n",
       "      <td>0</td>\n",
       "      <td>1</td>\n",
       "      <td>0</td>\n",
       "      <td>0</td>\n",
       "      <td>0</td>\n",
       "      <td>1</td>\n",
       "    </tr>\n",
       "    <tr>\n",
       "      <th>45194</th>\n",
       "      <td>59</td>\n",
       "      <td>2</td>\n",
       "      <td>138</td>\n",
       "      <td>1</td>\n",
       "      <td>1</td>\n",
       "      <td>16</td>\n",
       "      <td>9</td>\n",
       "      <td>162</td>\n",
       "      <td>2</td>\n",
       "      <td>187</td>\n",
       "      <td>...</td>\n",
       "      <td>0</td>\n",
       "      <td>1</td>\n",
       "      <td>0</td>\n",
       "      <td>1</td>\n",
       "      <td>0</td>\n",
       "      <td>1</td>\n",
       "      <td>0</td>\n",
       "      <td>1</td>\n",
       "      <td>0</td>\n",
       "      <td>0</td>\n",
       "    </tr>\n",
       "    <tr>\n",
       "      <th>45195</th>\n",
       "      <td>68</td>\n",
       "      <td>1</td>\n",
       "      <td>1146</td>\n",
       "      <td>0</td>\n",
       "      <td>0</td>\n",
       "      <td>16</td>\n",
       "      <td>9</td>\n",
       "      <td>212</td>\n",
       "      <td>1</td>\n",
       "      <td>187</td>\n",
       "      <td>...</td>\n",
       "      <td>0</td>\n",
       "      <td>1</td>\n",
       "      <td>0</td>\n",
       "      <td>1</td>\n",
       "      <td>0</td>\n",
       "      <td>1</td>\n",
       "      <td>0</td>\n",
       "      <td>0</td>\n",
       "      <td>0</td>\n",
       "      <td>1</td>\n",
       "    </tr>\n",
       "    <tr>\n",
       "      <th>45201</th>\n",
       "      <td>53</td>\n",
       "      <td>2</td>\n",
       "      <td>583</td>\n",
       "      <td>0</td>\n",
       "      <td>0</td>\n",
       "      <td>17</td>\n",
       "      <td>9</td>\n",
       "      <td>226</td>\n",
       "      <td>1</td>\n",
       "      <td>184</td>\n",
       "      <td>...</td>\n",
       "      <td>0</td>\n",
       "      <td>1</td>\n",
       "      <td>0</td>\n",
       "      <td>1</td>\n",
       "      <td>0</td>\n",
       "      <td>1</td>\n",
       "      <td>0</td>\n",
       "      <td>0</td>\n",
       "      <td>0</td>\n",
       "      <td>1</td>\n",
       "    </tr>\n",
       "  </tbody>\n",
       "</table>\n",
       "<p>5375 rows × 33 columns</p>\n",
       "</div>"
      ],
      "text/plain": [
       "       age  education  balance  housing  loan  day  month  duration  campaign  \\\n",
       "24060   33          2      882        0     0   21     10        39         1   \n",
       "24062   42          1     -247        1     1   21     10       519         1   \n",
       "24064   33          1     3444        1     0   21     10       144         1   \n",
       "24072   36          2     2415        1     0   22     10        73         1   \n",
       "24077   36          2        0        1     0   23     10       140         1   \n",
       "...    ...        ...      ...      ...   ...  ...    ...       ...       ...   \n",
       "45190   32          1      136        0     0   16      9       206         1   \n",
       "45193   28          2      159        0     0   16      9       449         2   \n",
       "45194   59          2      138        1     1   16      9       162         2   \n",
       "45195   68          1     1146        0     0   16      9       212         1   \n",
       "45201   53          2      583        0     0   17      9       226         1   \n",
       "\n",
       "       pdays  ...  marital_divorced  marital_married  marital_single  \\\n",
       "24060    151  ...                 0                1               0   \n",
       "24062    166  ...                 0                0               1   \n",
       "24064     91  ...                 0                1               0   \n",
       "24072     86  ...                 0                1               0   \n",
       "24077    143  ...                 0                1               0   \n",
       "...      ...  ...               ...              ...             ...   \n",
       "45190    188  ...                 0                1               0   \n",
       "45193     33  ...                 0                0               1   \n",
       "45194    187  ...                 0                1               0   \n",
       "45195    187  ...                 0                1               0   \n",
       "45201    184  ...                 0                1               0   \n",
       "\n",
       "       default_no  default_yes  contact_cellular  contact_telephone  \\\n",
       "24060           1            0                 0                  1   \n",
       "24062           1            0                 0                  1   \n",
       "24064           1            0                 0                  1   \n",
       "24072           1            0                 0                  1   \n",
       "24077           1            0                 0                  1   \n",
       "...           ...          ...               ...                ...   \n",
       "45190           1            0                 1                  0   \n",
       "45193           1            0                 1                  0   \n",
       "45194           1            0                 1                  0   \n",
       "45195           1            0                 1                  0   \n",
       "45201           1            0                 1                  0   \n",
       "\n",
       "       poutcome_failure  poutcome_other  poutcome_success  \n",
       "24060                 1               0                 0  \n",
       "24062                 0               1                 0  \n",
       "24064                 1               0                 0  \n",
       "24072                 0               1                 0  \n",
       "24077                 1               0                 0  \n",
       "...                 ...             ...               ...  \n",
       "45190                 0               0                 1  \n",
       "45193                 0               0                 1  \n",
       "45194                 1               0                 0  \n",
       "45195                 0               0                 1  \n",
       "45201                 0               0                 1  \n",
       "\n",
       "[5375 rows x 33 columns]"
      ]
     },
     "execution_count": 66,
     "metadata": {},
     "output_type": "execute_result"
    }
   ],
   "source": [
    "df"
   ]
  },
  {
   "cell_type": "code",
   "execution_count": 68,
   "id": "f37326dc",
   "metadata": {},
   "outputs": [],
   "source": [
    "X = df.drop('y',axis=1).values\n",
    "y = df['y'].values"
   ]
  },
  {
   "cell_type": "markdown",
   "id": "6ff36eec",
   "metadata": {},
   "source": [
    "### Train, Test, Split Data"
   ]
  },
  {
   "cell_type": "code",
   "execution_count": 69,
   "id": "781575f1",
   "metadata": {},
   "outputs": [],
   "source": [
    "from sklearn.model_selection import train_test_split\n",
    "\n",
    "X_train, X_test, y_train, y_test = train_test_split(X,y,test_size=0.2, random_state=42)"
   ]
  },
  {
   "cell_type": "markdown",
   "id": "98bb22bd",
   "metadata": {},
   "source": [
    "### Imbalance data"
   ]
  },
  {
   "cell_type": "code",
   "execution_count": 70,
   "id": "0fdf5668",
   "metadata": {},
   "outputs": [
    {
     "data": {
      "text/plain": [
       "0    4287\n",
       "1    1088\n",
       "Name: y, dtype: int64"
      ]
     },
     "execution_count": 70,
     "metadata": {},
     "output_type": "execute_result"
    }
   ],
   "source": [
    "df['y'].value_counts()"
   ]
  },
  {
   "cell_type": "code",
   "execution_count": 71,
   "id": "575e033d",
   "metadata": {},
   "outputs": [
    {
     "data": {
      "text/plain": [
       "Counter({1: 891, 0: 3409})"
      ]
     },
     "execution_count": 71,
     "metadata": {},
     "output_type": "execute_result"
    }
   ],
   "source": [
    "from collections import Counter\n",
    "Counter(y_train)"
   ]
  },
  {
   "cell_type": "code",
   "execution_count": 72,
   "id": "f03ce6cd",
   "metadata": {},
   "outputs": [],
   "source": [
    "from imblearn.over_sampling import SMOTE\n",
    "sm = SMOTE(random_state=42)\n",
    "X_train_smote, y_train_smote = sm.fit_resample(X_train,y_train)"
   ]
  },
  {
   "cell_type": "code",
   "execution_count": 73,
   "id": "e7569b3a",
   "metadata": {},
   "outputs": [
    {
     "data": {
      "text/plain": [
       "Counter({1: 3409, 0: 3409})"
      ]
     },
     "execution_count": 73,
     "metadata": {},
     "output_type": "execute_result"
    }
   ],
   "source": [
    "Counter(y_train_smote)"
   ]
  },
  {
   "cell_type": "markdown",
   "id": "5bc9d509",
   "metadata": {},
   "source": [
    "### Scaler "
   ]
  },
  {
   "cell_type": "code",
   "execution_count": 74,
   "id": "1bec6a5a",
   "metadata": {},
   "outputs": [],
   "source": [
    "from sklearn.preprocessing import StandardScaler\n",
    "\n",
    "scaler = StandardScaler()\n",
    "X_train = scaler.fit_transform(X_train)\n",
    "X_train_smote = scaler.fit_transform(X_train_smote)\n",
    "\n",
    "X_test = scaler.transform(X_test)"
   ]
  },
  {
   "cell_type": "markdown",
   "id": "26861d3d",
   "metadata": {},
   "source": [
    "## Mencari Model Terbaik"
   ]
  },
  {
   "cell_type": "markdown",
   "id": "b581e8df",
   "metadata": {},
   "source": [
    "### Logistic Regression"
   ]
  },
  {
   "cell_type": "code",
   "execution_count": 75,
   "id": "df9a29fb",
   "metadata": {},
   "outputs": [
    {
     "name": "stdout",
     "output_type": "stream",
     "text": [
      "Accuracy Score:  0.8455813953488373\n",
      "              precision    recall  f1-score   support\n",
      "\n",
      "           0       0.86      0.97      0.91       878\n",
      "           1       0.67      0.31      0.42       197\n",
      "\n",
      "    accuracy                           0.85      1075\n",
      "   macro avg       0.77      0.64      0.67      1075\n",
      "weighted avg       0.83      0.85      0.82      1075\n",
      "\n"
     ]
    }
   ],
   "source": [
    "LR = LogisticRegression()\n",
    "LR.fit(X_train,y_train)\n",
    "\n",
    "y_pred = LR.predict(X_test)\n",
    "\n",
    "print('Accuracy Score: ',accuracy_score(y_test,y_pred))\n",
    "print(classification_report(y_test,y_pred))"
   ]
  },
  {
   "cell_type": "markdown",
   "id": "918aa97e",
   "metadata": {},
   "source": [
    "### Logistic Regresion SMOTE"
   ]
  },
  {
   "cell_type": "code",
   "execution_count": 76,
   "id": "9ee4bb3d",
   "metadata": {},
   "outputs": [
    {
     "name": "stdout",
     "output_type": "stream",
     "text": [
      "Accuracy Score:  0.8520930232558139\n",
      "              precision    recall  f1-score   support\n",
      "\n",
      "           0       0.89      0.93      0.91       878\n",
      "           1       0.62      0.49      0.55       197\n",
      "\n",
      "    accuracy                           0.85      1075\n",
      "   macro avg       0.76      0.71      0.73      1075\n",
      "weighted avg       0.84      0.85      0.85      1075\n",
      "\n"
     ]
    }
   ],
   "source": [
    "LR = LogisticRegression()\n",
    "LR.fit(X_train_smote, y_train_smote)\n",
    "\n",
    "y_preds = LR.predict(X_test)\n",
    "\n",
    "print('Accuracy Score: ',accuracy_score(y_test,y_preds))\n",
    "print(classification_report(y_test,y_preds))"
   ]
  },
  {
   "cell_type": "markdown",
   "id": "9e6f7272",
   "metadata": {},
   "source": [
    "## Decision Tree"
   ]
  },
  {
   "cell_type": "code",
   "execution_count": 77,
   "id": "bb47ccf3",
   "metadata": {},
   "outputs": [
    {
     "name": "stdout",
     "output_type": "stream",
     "text": [
      "Accuracy Score:  0.7879069767441861\n",
      "              precision    recall  f1-score   support\n",
      "\n",
      "           0       0.87      0.87      0.87       878\n",
      "           1       0.42      0.43      0.42       197\n",
      "\n",
      "    accuracy                           0.79      1075\n",
      "   macro avg       0.65      0.65      0.65      1075\n",
      "weighted avg       0.79      0.79      0.79      1075\n",
      "\n"
     ]
    }
   ],
   "source": [
    "DT = DecisionTreeClassifier(criterion='entropy')\n",
    "DT.fit(X_train,y_train)\n",
    "\n",
    "y_predDT = DT.predict(X_test)\n",
    "\n",
    "print('Accuracy Score: ',accuracy_score(y_test,y_predDT))\n",
    "print(classification_report(y_test,y_predDT))"
   ]
  },
  {
   "cell_type": "markdown",
   "id": "c8add424",
   "metadata": {},
   "source": [
    "## Decision Tree Smote"
   ]
  },
  {
   "cell_type": "code",
   "execution_count": 78,
   "id": "479a17c2",
   "metadata": {},
   "outputs": [
    {
     "name": "stdout",
     "output_type": "stream",
     "text": [
      "Accuracy Score:  0.8093023255813954\n",
      "              precision    recall  f1-score   support\n",
      "\n",
      "           0       0.89      0.87      0.88       878\n",
      "           1       0.48      0.54      0.51       197\n",
      "\n",
      "    accuracy                           0.81      1075\n",
      "   macro avg       0.69      0.70      0.70      1075\n",
      "weighted avg       0.82      0.81      0.81      1075\n",
      "\n"
     ]
    }
   ],
   "source": [
    "DT = DecisionTreeClassifier(criterion='entropy')\n",
    "DT.fit(X_train_smote,y_train_smote)\n",
    "\n",
    "y_predDTS = DT.predict(X_test)\n",
    "\n",
    "print('Accuracy Score: ',accuracy_score(y_test,y_predDTS))\n",
    "print(classification_report(y_test,y_predDTS))"
   ]
  },
  {
   "cell_type": "markdown",
   "id": "1ba118da",
   "metadata": {},
   "source": [
    "### Random Forest Classifer"
   ]
  },
  {
   "cell_type": "code",
   "execution_count": 79,
   "id": "512d5d12",
   "metadata": {},
   "outputs": [
    {
     "name": "stdout",
     "output_type": "stream",
     "text": [
      "Accuracy Score:  0.8641860465116279\n",
      "              precision    recall  f1-score   support\n",
      "\n",
      "           0       0.88      0.96      0.92       878\n",
      "           1       0.71      0.43      0.54       197\n",
      "\n",
      "    accuracy                           0.86      1075\n",
      "   macro avg       0.80      0.70      0.73      1075\n",
      "weighted avg       0.85      0.86      0.85      1075\n",
      "\n"
     ]
    }
   ],
   "source": [
    "RF = RandomForestClassifier(n_estimators=100)\n",
    "RF.fit(X_train,y_train)\n",
    "\n",
    "y_predRF = RF.predict(X_test)\n",
    "\n",
    "print('Accuracy Score: ',accuracy_score(y_test,y_predRF))\n",
    "print(classification_report(y_test,y_predRF))"
   ]
  },
  {
   "cell_type": "markdown",
   "id": "bb49c928",
   "metadata": {},
   "source": [
    "### Random Forest Smote"
   ]
  },
  {
   "cell_type": "code",
   "execution_count": 80,
   "id": "dff4df93",
   "metadata": {},
   "outputs": [
    {
     "name": "stdout",
     "output_type": "stream",
     "text": [
      "Accuracy Score:  0.8502325581395349\n",
      "              precision    recall  f1-score   support\n",
      "\n",
      "           0       0.91      0.91      0.91       878\n",
      "           1       0.59      0.58      0.59       197\n",
      "\n",
      "    accuracy                           0.85      1075\n",
      "   macro avg       0.75      0.75      0.75      1075\n",
      "weighted avg       0.85      0.85      0.85      1075\n",
      "\n"
     ]
    }
   ],
   "source": [
    "RF = RandomForestClassifier(n_estimators=100)\n",
    "RF.fit(X_train_smote,y_train_smote)\n",
    "\n",
    "y_predRFS = RF.predict(X_test)\n",
    "\n",
    "print('Accuracy Score: ',accuracy_score(y_test, y_predRFS))\n",
    "print(classification_report(y_test, y_predRFS))"
   ]
  },
  {
   "cell_type": "markdown",
   "id": "a011abe2",
   "metadata": {},
   "source": [
    "### Naive Bayes"
   ]
  },
  {
   "cell_type": "code",
   "execution_count": 81,
   "id": "cfc19ef9",
   "metadata": {},
   "outputs": [
    {
     "name": "stdout",
     "output_type": "stream",
     "text": [
      "Accuracy Score:  0.7879069767441861\n",
      "              precision    recall  f1-score   support\n",
      "\n",
      "           0       0.89      0.85      0.87       878\n",
      "           1       0.43      0.52      0.47       197\n",
      "\n",
      "    accuracy                           0.79      1075\n",
      "   macro avg       0.66      0.68      0.67      1075\n",
      "weighted avg       0.80      0.79      0.79      1075\n",
      "\n"
     ]
    }
   ],
   "source": [
    "from sklearn.naive_bayes import GaussianNB\n",
    "\n",
    "gauss = GaussianNB()\n",
    "gauss.fit(X_train,y_train)\n",
    "\n",
    "y_predG = gauss.predict(X_test)\n",
    "\n",
    "print('Accuracy Score: ',accuracy_score(y_test,y_predG))\n",
    "print(classification_report(y_test,y_predG))"
   ]
  },
  {
   "cell_type": "markdown",
   "id": "b8aec9bd",
   "metadata": {},
   "source": [
    "### Naive Bayes Smote"
   ]
  },
  {
   "cell_type": "code",
   "execution_count": 82,
   "id": "84c748aa",
   "metadata": {},
   "outputs": [
    {
     "name": "stdout",
     "output_type": "stream",
     "text": [
      "Accuracy Score:  0.7255813953488373\n",
      "              precision    recall  f1-score   support\n",
      "\n",
      "           0       0.88      0.77      0.82       878\n",
      "           1       0.34      0.54      0.42       197\n",
      "\n",
      "    accuracy                           0.73      1075\n",
      "   macro avg       0.61      0.65      0.62      1075\n",
      "weighted avg       0.78      0.73      0.75      1075\n",
      "\n"
     ]
    }
   ],
   "source": [
    "from sklearn.naive_bayes import GaussianNB\n",
    "gaussS = GaussianNB()\n",
    "gaussS.fit(X_train_smote,y_train_smote)\n",
    "\n",
    "y_predGS = gaussS.predict(X_test)\n",
    "\n",
    "print('Accuracy Score: ',accuracy_score(y_test,y_predGS))\n",
    "print(classification_report(y_test,y_predGS))"
   ]
  },
  {
   "cell_type": "markdown",
   "id": "19d18634",
   "metadata": {},
   "source": [
    "## K Nearest Neighbors Classifier"
   ]
  },
  {
   "cell_type": "code",
   "execution_count": 83,
   "id": "65bf0b4b",
   "metadata": {},
   "outputs": [
    {
     "name": "stdout",
     "output_type": "stream",
     "text": [
      "Accuracy Score:  0.8409302325581396\n",
      "              precision    recall  f1-score   support\n",
      "\n",
      "           0       0.86      0.96      0.91       878\n",
      "           1       0.63      0.31      0.42       197\n",
      "\n",
      "    accuracy                           0.84      1075\n",
      "   macro avg       0.75      0.64      0.66      1075\n",
      "weighted avg       0.82      0.84      0.82      1075\n",
      "\n"
     ]
    }
   ],
   "source": [
    "from sklearn.neighbors import KNeighborsClassifier\n",
    "\n",
    "KNN = KNeighborsClassifier(n_neighbors=6)\n",
    "KNN.fit(X_train,y_train)\n",
    "\n",
    "y_predKNN = KNN.predict(X_test)\n",
    "\n",
    "print('Accuracy Score: ',accuracy_score(y_test,y_predKNN))\n",
    "print(classification_report(y_test,y_predKNN))"
   ]
  },
  {
   "cell_type": "markdown",
   "id": "ee3c4b3f",
   "metadata": {},
   "source": [
    "### K Nearest Neighbors Classifer Smote"
   ]
  },
  {
   "cell_type": "code",
   "execution_count": 84,
   "id": "9b9393a1",
   "metadata": {},
   "outputs": [
    {
     "name": "stdout",
     "output_type": "stream",
     "text": [
      "Accuracy Score:  0.8316279069767442\n",
      "              precision    recall  f1-score   support\n",
      "\n",
      "           0       0.87      0.93      0.90       878\n",
      "           1       0.56      0.38      0.45       197\n",
      "\n",
      "    accuracy                           0.83      1075\n",
      "   macro avg       0.72      0.65      0.68      1075\n",
      "weighted avg       0.81      0.83      0.82      1075\n",
      "\n"
     ]
    }
   ],
   "source": [
    "from sklearn.neighbors import KNeighborsClassifier\n",
    "\n",
    "KNN = KNeighborsClassifier(n_neighbors=6)\n",
    "KNN.fit(X_train_smote,y_train_smote)\n",
    "\n",
    "y_predKNNS = KNN.predict(X_test)\n",
    "\n",
    "print('Accuracy Score: ',accuracy_score(y_test,y_predKNNS))\n",
    "print(classification_report(y_test,y_predKNNS))"
   ]
  },
  {
   "cell_type": "markdown",
   "id": "80ad2123",
   "metadata": {},
   "source": [
    "## Support Vector Machine"
   ]
  },
  {
   "cell_type": "code",
   "execution_count": 86,
   "id": "cdb5fa25",
   "metadata": {},
   "outputs": [
    {
     "name": "stdout",
     "output_type": "stream",
     "text": [
      "Accuracy Score:  0.8548837209302326\n",
      "              precision    recall  f1-score   support\n",
      "\n",
      "           0       0.87      0.97      0.92       878\n",
      "           1       0.72      0.35      0.47       197\n",
      "\n",
      "    accuracy                           0.85      1075\n",
      "   macro avg       0.79      0.66      0.69      1075\n",
      "weighted avg       0.84      0.85      0.83      1075\n",
      "\n"
     ]
    }
   ],
   "source": [
    "from sklearn import svm\n",
    "svm_model = svm.SVC()\n",
    "svm_model.fit(X_train,y_train)\n",
    "\n",
    "y_predSVM = svm_model.predict(X_test)\n",
    "\n",
    "print('Accuracy Score: ',accuracy_score(y_test,y_predSVM))\n",
    "print(classification_report(y_test,y_predSVM))"
   ]
  },
  {
   "cell_type": "markdown",
   "id": "61039c4e",
   "metadata": {},
   "source": [
    "### Support Vector Machine SMOTE"
   ]
  },
  {
   "cell_type": "code",
   "execution_count": 87,
   "id": "91568b3c",
   "metadata": {},
   "outputs": [
    {
     "name": "stdout",
     "output_type": "stream",
     "text": [
      "Accuracy Score:  0.8455813953488373\n",
      "              precision    recall  f1-score   support\n",
      "\n",
      "           0       0.89      0.93      0.91       878\n",
      "           1       0.60      0.46      0.52       197\n",
      "\n",
      "    accuracy                           0.85      1075\n",
      "   macro avg       0.74      0.70      0.72      1075\n",
      "weighted avg       0.83      0.85      0.84      1075\n",
      "\n"
     ]
    }
   ],
   "source": [
    "from sklearn import svm\n",
    "svm_model = svm.SVC()\n",
    "svm_model.fit(X_train_smote,y_train_smote)\n",
    "\n",
    "y_predSVMS = svm_model.predict(X_test)\n",
    "\n",
    "print('Accuracy Score: ',accuracy_score(y_test,y_predSVMS))\n",
    "print(classification_report(y_test,y_predSVMS))"
   ]
  },
  {
   "cell_type": "markdown",
   "id": "24dca78d",
   "metadata": {},
   "source": [
    "# Kesimpulan"
   ]
  },
  {
   "cell_type": "code",
   "execution_count": 88,
   "id": "883946d1",
   "metadata": {},
   "outputs": [
    {
     "name": "stdout",
     "output_type": "stream",
     "text": [
      "Accuracy Score dari setiap model\n",
      "Logistic Regression:  0.8455813953488373\n",
      "Logistic Regression SMOTE:  0.8520930232558139\n",
      "Decision Tree:  0.7879069767441861\n",
      "Decision Tree SMOTE:  0.8093023255813954\n",
      "Random Forest:  0.8641860465116279\n",
      "Random Forest SMOTE:  0.8502325581395349\n",
      "Naive Bayes:  0.7879069767441861\n",
      "Naive Bayes SMOTE:  0.7255813953488373\n",
      "KNN:  0.8409302325581396\n",
      "KNN SMOTE:  0.8316279069767442\n",
      "SVM:  0.8548837209302326\n",
      "SVM SMOTE:  0.8455813953488373\n"
     ]
    }
   ],
   "source": [
    "print('Accuracy Score dari setiap model')\n",
    "print('Logistic Regression: ',accuracy_score(y_test,y_pred))\n",
    "print('Logistic Regression SMOTE: ',accuracy_score(y_test,y_preds))\n",
    "print('Decision Tree: ',accuracy_score(y_test,y_predDT))\n",
    "print('Decision Tree SMOTE: ',accuracy_score(y_test,y_predDTS))\n",
    "print('Random Forest: ',accuracy_score(y_test,y_predRF))\n",
    "print('Random Forest SMOTE: ',accuracy_score(y_test, y_predRFS))\n",
    "print('Naive Bayes: ',accuracy_score(y_test,y_predG))\n",
    "print('Naive Bayes SMOTE: ',accuracy_score(y_test,y_predGS))\n",
    "print('KNN: ',accuracy_score(y_test,y_predKNN))\n",
    "print('KNN SMOTE: ',accuracy_score(y_test,y_predKNNS))\n",
    "print('SVM: ',accuracy_score(y_test,y_predSVM))\n",
    "print('SVM SMOTE: ',accuracy_score(y_test,y_predSVMS))"
   ]
  },
  {
   "cell_type": "markdown",
   "id": "0e60dc83",
   "metadata": {},
   "source": [
    "Random Forest adalah model terbaik untuk dataset Bank Marketing Campaign Dataset"
   ]
  }
 ],
 "metadata": {
  "kernelspec": {
   "display_name": "Python 3",
   "language": "python",
   "name": "python3"
  },
  "language_info": {
   "codemirror_mode": {
    "name": "ipython",
    "version": 3
   },
   "file_extension": ".py",
   "mimetype": "text/x-python",
   "name": "python",
   "nbconvert_exporter": "python",
   "pygments_lexer": "ipython3",
   "version": "3.8.8"
  }
 },
 "nbformat": 4,
 "nbformat_minor": 5
}
