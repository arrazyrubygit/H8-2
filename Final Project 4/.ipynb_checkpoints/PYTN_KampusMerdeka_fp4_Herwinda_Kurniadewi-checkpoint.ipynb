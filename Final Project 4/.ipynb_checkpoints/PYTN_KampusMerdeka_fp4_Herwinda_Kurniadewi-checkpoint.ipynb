{
 "cells": [
  {
   "cell_type": "markdown",
   "id": "64cdb23a",
   "metadata": {},
   "source": [
    "# Latar Belakang"
   ]
  },
  {
   "cell_type": "markdown",
   "id": "e5fa63b4",
   "metadata": {},
   "source": [
    "Bank adalah lembaga keuangan yang usaha pokoknya adalah menghimpun dana dari masyarakat dan menyalurkan kembali dana tersebut ke masyarakat serta memberikan jasanya dalam lalulintas pembayaran dan peredaran uang. Pada umumnya Bank dikenal sebagai lembaga keuangan yang kegiatan utamanya menerima simpanan, giro, tabungan dan deposito. Kemudian bank dikenal juga sebagai tempat untuk meminjam uang (kredit) bagi masyarakat yang membutuhkannya. Dengan adanya lembaga keuangan maupun non keuangan yang menjadi pilar perekonomian di Indonesia menjadikan banyak lembaga keuangan yang tumbuh didaerah daerah. Bank Perkreditan \n",
    "Rakyat merupakan salah satu lembaga keuangan yang ada di Indonesia.\n",
    "\n",
    "Persaingan antar-bank saat ini menjadi sangat tinggi membuat setiap perusahaan harus memiliki strategi pemasaran produk perbankannya. Segmentasi pasar adalah salah satu strategi dalam dunia bisnis dengan mengelompokkan produk yang dimiliki sesuai dengan kesamaan, kemiripan, minat serta kebutuhan pelanggan. n. Alternatif strategi terhadap kegiatan pemasaran yang dilakukan sangat diperlukan agar perusahaan semakin tumbuh dan berkembang. Strategi pemasaran yang tepat dengan menetapkan segementasi pasar yang sesuai sasaran akan mempengaruhi pertumbuhan kreditnya."
   ]
  },
  {
   "cell_type": "markdown",
   "id": "6fbcaee3",
   "metadata": {},
   "source": [
    "**Objektif** dari project ini adalah mengelompokkan pengguna kartu kredit berdasarkan karakteristik teretntu ke dalam beberapa klaster."
   ]
  },
  {
   "cell_type": "markdown",
   "id": "278763ab",
   "metadata": {},
   "source": [
    "# Dataset"
   ]
  },
  {
   "cell_type": "markdown",
   "id": "a3a7e7a2",
   "metadata": {},
   "source": [
    "Dataset pada project ini menggunakan credit card dataset pada kaggle https://www.kaggle.com/arjunbhasin2013/ccdata. Data ini berisi transaksi pengguna kartu kredit sebanyak 9000 orang selama 6 bulan. Data ini memiliki 18 atribut yaitu\n",
    "1. CUSTID - Identification of Credit Card holder (Categorical)\n",
    "2. BALANCE - Balance amount left in their account to make purchases\n",
    "3. BALANCEFREQUENCY - How frequently the Balance is updated, score between 0 and 1 (1 = frequently updated, 0 = not frequently updated)\n",
    "4. PURCHASES - Amount of purchases made from account\n",
    "5. ONEOFFPURCHASES - Maximum purchase amount done in one-go\n",
    "6. INSTALLMENTSPURCHASES - Amount of purchase done in installment\n",
    "7. CASHADVANCE - Cash in advance given by the user\n",
    "8. PURCHASESFREQUENCY - How frequently the Purchases are being made, score between 0 and 1 (1 = frequently purchased, 0 = not frequently purchased)\n",
    "9. ONEOFFPURCHASESFREQUENCY - How frequently Purchases are happening in one-go (1 = frequently purchased, 0 = not frequently purchased)\n",
    "10. PURCHASESINSTALLMENTSFREQUENCY - How frequently purchases in installments are being done (1 = frequently done, 0 = not frequently done)\n",
    "11. CASHADVANCEFREQUENCY - How frequently the cash in advance being paid\n",
    "12. CASHADVANCETRX - Number of Transactions made with \"Cash in Advance\"\n",
    "13. PURCHASESTRX - Number of purchase transactions made\n",
    "14. CREDITLIMIT - Limit of Credit Card for user\n",
    "15. PAYMENTS - Amount of Payment done by user\n",
    "16. MINIMUM_PAYMENTS - Minimum amount of payments made by user\n",
    "17. PRCFULLPAYMENT - Percent of full payment paid by user\n",
    "18. TENURE - Tenure of credit card service for user"
   ]
  },
  {
   "cell_type": "markdown",
   "id": "ec79f2ca",
   "metadata": {},
   "source": [
    "# Import Library"
   ]
  },
  {
   "cell_type": "code",
   "execution_count": 1,
   "id": "1d867b29",
   "metadata": {},
   "outputs": [
    {
     "ename": "ModuleNotFoundError",
     "evalue": "No module named 'sklearn_extra'",
     "output_type": "error",
     "traceback": [
      "\u001b[1;31m---------------------------------------------------------------------------\u001b[0m",
      "\u001b[1;31mModuleNotFoundError\u001b[0m                       Traceback (most recent call last)",
      "\u001b[1;32m<ipython-input-1-c9221c222ad8>\u001b[0m in \u001b[0;36m<module>\u001b[1;34m\u001b[0m\n\u001b[0;32m      6\u001b[0m \u001b[1;32mfrom\u001b[0m \u001b[0msklearn\u001b[0m\u001b[1;33m.\u001b[0m\u001b[0mpreprocessing\u001b[0m \u001b[1;32mimport\u001b[0m \u001b[0mStandardScaler\u001b[0m\u001b[1;33m,\u001b[0m \u001b[0mnormalize\u001b[0m\u001b[1;33m\u001b[0m\u001b[1;33m\u001b[0m\u001b[0m\n\u001b[0;32m      7\u001b[0m \u001b[1;32mfrom\u001b[0m \u001b[0msklearn\u001b[0m\u001b[1;33m.\u001b[0m\u001b[0mcluster\u001b[0m \u001b[1;32mimport\u001b[0m \u001b[0mKMeans\u001b[0m\u001b[1;33m\u001b[0m\u001b[1;33m\u001b[0m\u001b[0m\n\u001b[1;32m----> 8\u001b[1;33m \u001b[1;32mfrom\u001b[0m \u001b[0msklearn_extra\u001b[0m\u001b[1;33m.\u001b[0m\u001b[0mcluster\u001b[0m \u001b[1;32mimport\u001b[0m \u001b[0mKMedoids\u001b[0m\u001b[1;33m\u001b[0m\u001b[1;33m\u001b[0m\u001b[0m\n\u001b[0m\u001b[0;32m      9\u001b[0m \u001b[1;32mfrom\u001b[0m \u001b[0msklearn\u001b[0m\u001b[1;33m.\u001b[0m\u001b[0mmetrics\u001b[0m \u001b[1;32mimport\u001b[0m \u001b[0msilhouette_score\u001b[0m\u001b[1;33m\u001b[0m\u001b[1;33m\u001b[0m\u001b[0m\n\u001b[0;32m     10\u001b[0m \u001b[1;33m\u001b[0m\u001b[0m\n",
      "\u001b[1;31mModuleNotFoundError\u001b[0m: No module named 'sklearn_extra'"
     ]
    }
   ],
   "source": [
    "import pandas as pd\n",
    "import numpy as np\n",
    "import matplotlib.pyplot as plt\n",
    "import seaborn as sns\n",
    "\n",
    "from sklearn.preprocessing import StandardScaler, normalize\n",
    "from sklearn.cluster import KMeans\n",
    "from sklearn_extra.cluster import KMedoids\n",
    "from sklearn.metrics import silhouette_score\n",
    "\n",
    "import pickle"
   ]
  },
  {
   "cell_type": "markdown",
   "id": "888563ad",
   "metadata": {},
   "source": [
    "# Data Loading"
   ]
  },
  {
   "cell_type": "code",
   "execution_count": null,
   "id": "d7ebfd17",
   "metadata": {},
   "outputs": [],
   "source": [
    "df = pd.read_csv(\"Dataset/CC-GENERAL.csv\")"
   ]
  },
  {
   "cell_type": "markdown",
   "id": "6aff53af",
   "metadata": {},
   "source": [
    "Melihat 5 data teratas"
   ]
  },
  {
   "cell_type": "code",
   "execution_count": null,
   "id": "519eaf46",
   "metadata": {},
   "outputs": [],
   "source": [
    "df.head()"
   ]
  },
  {
   "cell_type": "markdown",
   "id": "00a5df08",
   "metadata": {},
   "source": [
    "Melihat 5 data terbawah"
   ]
  },
  {
   "cell_type": "code",
   "execution_count": null,
   "id": "8cf81ad1",
   "metadata": {},
   "outputs": [],
   "source": [
    "df.tail()"
   ]
  },
  {
   "cell_type": "markdown",
   "id": "fa7b15f1",
   "metadata": {},
   "source": [
    "> Terlihat bahwa dalam dataset terdapat missing value"
   ]
  },
  {
   "cell_type": "code",
   "execution_count": null,
   "id": "847cbc79",
   "metadata": {},
   "outputs": [],
   "source": [
    "print(\"Terdapat\", df.shape[0], \"baris dan\", df.shape[1], \"kolom dalam dataset\")\n",
    "print(\"Kolom : \" , df.columns)"
   ]
  },
  {
   "cell_type": "markdown",
   "id": "25f47f94",
   "metadata": {},
   "source": [
    "> Dalam dataset ini terdapat 8950 baris dan 18 kolom"
   ]
  },
  {
   "cell_type": "markdown",
   "id": "d35d4d7a",
   "metadata": {},
   "source": [
    "Melihat informasi dalam dataset"
   ]
  },
  {
   "cell_type": "code",
   "execution_count": null,
   "id": "d4df2121",
   "metadata": {},
   "outputs": [],
   "source": [
    "df.info()"
   ]
  },
  {
   "cell_type": "markdown",
   "id": "2b86b5a8",
   "metadata": {},
   "source": [
    "> Dalam dataset ini terdapat variabel kategorik yaitu object (CUST_ID) dan numerik yaitu float64 dan int64, dan terdapat nilai yang hilang karena jumlah non-null tidak sesuai dengan jumlah entri.\n",
    "- int64 : CASH_ADVANCE_TRX, PURCHASES_TRX, TENURE\n",
    "- float64 : Kolom yang tidak termasuk kedalam int64 merupakan tipe data float."
   ]
  },
  {
   "cell_type": "markdown",
   "id": "d972cc89",
   "metadata": {},
   "source": [
    "Melihat kolom unik dalam dataset"
   ]
  },
  {
   "cell_type": "code",
   "execution_count": null,
   "id": "b95d2c74",
   "metadata": {},
   "outputs": [],
   "source": [
    "kolom_unik = df.nunique().sort_values(ascending=False)\n",
    "kolom_unik = pd.DataFrame(kolom_unik, columns = [\"Kolom Unik\"])\n",
    "kolom_unik"
   ]
  },
  {
   "cell_type": "markdown",
   "id": "f9e729e1",
   "metadata": {},
   "source": [
    "Melihat Missing value pada dataset"
   ]
  },
  {
   "cell_type": "code",
   "execution_count": null,
   "id": "11ccff01",
   "metadata": {},
   "outputs": [],
   "source": [
    "df_null = round(100*(df.isnull().sum())/len(df), 2).sort_values(ascending=False)\n",
    "df_null = pd.DataFrame(df_null, columns = [\"Missing Values\"])\n",
    "df_null"
   ]
  },
  {
   "cell_type": "markdown",
   "id": "5e638287",
   "metadata": {},
   "source": [
    "> Terlihat bahwa terdapat dua kolom dengan missing value yaitu **MINIMUM_PAYMENTS** & **CREDIT_LIMIT**"
   ]
  },
  {
   "cell_type": "markdown",
   "id": "a8018c5e",
   "metadata": {},
   "source": [
    "Melihat statistik deskriptif"
   ]
  },
  {
   "cell_type": "code",
   "execution_count": null,
   "id": "7dcc68ed",
   "metadata": {},
   "outputs": [],
   "source": [
    "df.describe()"
   ]
  },
  {
   "cell_type": "markdown",
   "id": "4e861974",
   "metadata": {},
   "source": [
    "# Data Cleaning"
   ]
  },
  {
   "cell_type": "markdown",
   "id": "939d42d9",
   "metadata": {},
   "source": [
    "### Mengecek data duplikat"
   ]
  },
  {
   "cell_type": "code",
   "execution_count": null,
   "id": "6d57851d",
   "metadata": {},
   "outputs": [],
   "source": [
    "df.duplicated().any()"
   ]
  },
  {
   "cell_type": "code",
   "execution_count": null,
   "id": "c827609e",
   "metadata": {},
   "outputs": [],
   "source": [
    "df.duplicated().sum()"
   ]
  },
  {
   "cell_type": "markdown",
   "id": "a7969e6d",
   "metadata": {},
   "source": [
    "> Tidak ada duplikat data"
   ]
  },
  {
   "cell_type": "markdown",
   "id": "bd07e197",
   "metadata": {},
   "source": [
    "### Menangani missing value"
   ]
  },
  {
   "cell_type": "code",
   "execution_count": null,
   "id": "f74252a7",
   "metadata": {},
   "outputs": [],
   "source": [
    "df['MINIMUM_PAYMENTS'].fillna(df['MINIMUM_PAYMENTS'].mean(),inplace=True)\n",
    "df['CREDIT_LIMIT'].fillna(df['CREDIT_LIMIT'].mean(),inplace=True)"
   ]
  },
  {
   "cell_type": "code",
   "execution_count": null,
   "id": "79c2902d",
   "metadata": {},
   "outputs": [],
   "source": [
    "df_null = round(100*(df.isnull().sum())/len(df), 2).sort_values(ascending=False)\n",
    "df_null = pd.DataFrame(df_null, columns = [\"Missing Values\"])\n",
    "df_null"
   ]
  },
  {
   "cell_type": "markdown",
   "id": "27b38de2",
   "metadata": {},
   "source": [
    "> sudah tidak ada missing value"
   ]
  },
  {
   "cell_type": "markdown",
   "id": "ddba860f",
   "metadata": {},
   "source": [
    "# Exploratory data analysis"
   ]
  },
  {
   "cell_type": "markdown",
   "id": "66809e7a",
   "metadata": {},
   "source": [
    "### Melihat statistik deskriptif pada dataset"
   ]
  },
  {
   "cell_type": "code",
   "execution_count": null,
   "id": "0719dcd3",
   "metadata": {},
   "outputs": [],
   "source": [
    "df.describe().T"
   ]
  },
  {
   "cell_type": "markdown",
   "id": "b2568fde",
   "metadata": {},
   "source": [
    "> Terlihat bahwa dalam dataset:\n",
    ">    1. Saldo/Balance rata-rata yaitu 1564 dan saldo maksimal yaitu  19043.\n",
    ">    2. Saldo yang diperbarui memiliki skor rata-rata 0,87\n",
    ">    3. Pembelian/Purchases dengan maksimal 49039\n",
    ">    4. Credit limit dengan minimal 50 dan maksimal 30000\n",
    ">    5. Payments rata-rata yairu 1733."
   ]
  },
  {
   "cell_type": "markdown",
   "id": "bddd37fe",
   "metadata": {},
   "source": [
    "### Correlation Matrix"
   ]
  },
  {
   "cell_type": "code",
   "execution_count": null,
   "id": "dd21c95b",
   "metadata": {},
   "outputs": [],
   "source": [
    "df.corr()"
   ]
  },
  {
   "cell_type": "code",
   "execution_count": null,
   "id": "3d677151",
   "metadata": {},
   "outputs": [],
   "source": [
    "plt.figure(figsize=(13, 13))\n",
    "heatmap = sns.heatmap(df.corr(), annot=True, cmap='PiYG')\n",
    "heatmap.set_title('Correlation Heatmap', fontdict={'fontsize':18}, pad=12);"
   ]
  },
  {
   "cell_type": "markdown",
   "id": "a7f66997",
   "metadata": {},
   "source": [
    "> Dalam heatmap tersebut, terlihat bahwa terdapat kolerasi yang cukup tinggi antar kolom\n",
    "> - PURCHASES dan ONEOFF_PURCHASES\n",
    "> - PURCHASES_FREQUENCY dan PURCHASES_INSTALLMENTS_FREQUENCY\n",
    "> - CASH_ADVANCE_FREQUENCY dan CASH_ADVANCE_TRX"
   ]
  },
  {
   "cell_type": "markdown",
   "id": "3af9528f",
   "metadata": {},
   "source": [
    "# Data Preprocessing"
   ]
  },
  {
   "cell_type": "code",
   "execution_count": null,
   "id": "75512d86",
   "metadata": {},
   "outputs": [],
   "source": [
    "df.drop(['CUST_ID','PURCHASES_INSTALLMENTS_FREQUENCY','CASH_ADVANCE_TRX','ONEOFF_PURCHASES'], axis=1, inplace=True)"
   ]
  },
  {
   "cell_type": "code",
   "execution_count": null,
   "id": "5bde313c",
   "metadata": {},
   "outputs": [],
   "source": [
    "df.sample(5)"
   ]
  },
  {
   "cell_type": "code",
   "execution_count": null,
   "id": "15deda02",
   "metadata": {},
   "outputs": [],
   "source": [
    "# Standardize data\n",
    "scaler = StandardScaler() \n",
    "scaled = scaler.fit_transform(df) "
   ]
  },
  {
   "cell_type": "code",
   "execution_count": null,
   "id": "18c13704",
   "metadata": {},
   "outputs": [],
   "source": [
    "# Statistics of scaled data\n",
    "scaled_df = pd.DataFrame(scaled, columns=df.columns)\n",
    "scaled_df.head()"
   ]
  },
  {
   "cell_type": "code",
   "execution_count": null,
   "id": "aee1eb59",
   "metadata": {},
   "outputs": [],
   "source": [
    "# Normalizing the Data \n",
    "normalized_df = normalize(scaled_df) "
   ]
  },
  {
   "cell_type": "code",
   "execution_count": null,
   "id": "65edf085",
   "metadata": {},
   "outputs": [],
   "source": [
    "normalized_df = pd.DataFrame(normalized_df,columns = df.columns)\n",
    "normalized_df.head()"
   ]
  },
  {
   "cell_type": "markdown",
   "id": "e499e0c6",
   "metadata": {},
   "source": [
    "# Modeling"
   ]
  },
  {
   "cell_type": "markdown",
   "id": "373b5bf9",
   "metadata": {},
   "source": [
    "### Menentukan Jumlah Klaster Optimal menggunakan Metode Kurva Elbow"
   ]
  },
  {
   "cell_type": "code",
   "execution_count": null,
   "id": "e67c4557",
   "metadata": {},
   "outputs": [],
   "source": [
    "inertia = []\n",
    "\n",
    "for i in range(1, 10):\n",
    "    model = KMeans(n_clusters=i, random_state=42)\n",
    "    model.fit(normalized_df)\n",
    "    inertia.append(model.inertia_)\n",
    "    \n",
    "inertia_df = pd.DataFrame({'Inertia':inertia}, index=[i for i in range(1, 10)])\n",
    "inertia_df"
   ]
  },
  {
   "cell_type": "code",
   "execution_count": null,
   "id": "313a7f73",
   "metadata": {},
   "outputs": [],
   "source": [
    "# fitting multiple k-means algorithms and storing the values in an empty list \n",
    "SSE = []\n",
    "for cluster in range(1,10):\n",
    "    kmeans = KMeans( n_clusters = cluster, init='k-means++')\n",
    "    kmeans.fit(normalized_df)\n",
    "    SSE.append(kmeans.inertia_)\n",
    "\n",
    "# Converting the results into a dataframe and plotting them\n",
    "frame = pd.DataFrame({'Cluster':range(1,10), 'SSE':SSE})\n",
    "plt.figure()\n",
    "plt.plot(frame['Cluster'], frame['SSE'], marker='o')\n",
    "plt.xlabel('Number of clusters')\n",
    "plt.ylabel('Intertia')"
   ]
  },
  {
   "cell_type": "markdown",
   "id": "9aed5d2d",
   "metadata": {},
   "source": [
    "> Berdasarkan plot di atas, dapat dilihat secara grafis bahwa klaster berjumlah 4 adalah yang paling optimal"
   ]
  },
  {
   "cell_type": "markdown",
   "id": "e92637f2",
   "metadata": {},
   "source": [
    "### K-Means"
   ]
  },
  {
   "cell_type": "code",
   "execution_count": null,
   "id": "a0c9675c",
   "metadata": {},
   "outputs": [],
   "source": [
    "kmeans = KMeans(n_clusters=4, init='k-means++')\n",
    "model1 = kmeans.fit(normalized_df)\n",
    "label = kmeans.predict(normalized_df)"
   ]
  },
  {
   "cell_type": "markdown",
   "id": "46df4e2b",
   "metadata": {},
   "source": [
    "### K-Medoids"
   ]
  },
  {
   "cell_type": "code",
   "execution_count": null,
   "id": "75970094",
   "metadata": {},
   "outputs": [],
   "source": [
    "kmedoids = KMedoids(n_clusters=4, random_state=0)\n",
    "model2 = kmedoids.fit(normalized_df)\n",
    "label2 = kmedoids.predict(normalized_df)"
   ]
  },
  {
   "cell_type": "markdown",
   "id": "79613a44",
   "metadata": {},
   "source": [
    "# Evaluasi Model"
   ]
  },
  {
   "cell_type": "code",
   "execution_count": null,
   "id": "1056d9c4",
   "metadata": {},
   "outputs": [],
   "source": [
    "ss_k1 = silhouette_score(normalized_df, label)\n",
    "ss_k2 = silhouette_score(normalized_df, label2)"
   ]
  },
  {
   "cell_type": "code",
   "execution_count": null,
   "id": "d1e6ac0e",
   "metadata": {},
   "outputs": [],
   "source": [
    "model_selection = pd.DataFrame({'Silhouette Score': [ss_k1,ss_k2]}, \n",
    "                               index = ['K-means','K-Medoids'])\n",
    "model_selection"
   ]
  },
  {
   "cell_type": "markdown",
   "id": "825bea44",
   "metadata": {},
   "source": [
    "> Dari evaluasi silhouette_score terlihat bahwa **algoritma k-means memiliki nilai lebih tinggi dari k-medoids**. maka dari itu kita akan menggunakan k-means."
   ]
  },
  {
   "cell_type": "markdown",
   "id": "4fe60d29",
   "metadata": {},
   "source": [
    "### Melihat nilai rata-rata pada kolom berdasarkan klaster"
   ]
  },
  {
   "cell_type": "code",
   "execution_count": null,
   "id": "1c6b013c",
   "metadata": {},
   "outputs": [],
   "source": [
    "cluster_centers = pd.DataFrame(data = kmeans.cluster_centers_, columns = [normalized_df.columns])\n",
    "cluster_centers"
   ]
  },
  {
   "cell_type": "code",
   "execution_count": null,
   "id": "499985c1",
   "metadata": {},
   "outputs": [],
   "source": [
    "# Invers data yang telah distandarisasi untuk lebih memahami karaktersitik klaster\n",
    "cluster_centers_inversed = scaler.inverse_transform(cluster_centers)\n",
    "cluster_centers_inversed = pd.DataFrame(data = cluster_centers_inversed, columns = [normalized_df.columns])\n",
    "cluster_centers_inversed"
   ]
  },
  {
   "cell_type": "markdown",
   "id": "2a50032f",
   "metadata": {},
   "source": [
    "### Membuat kolom cluster pada dataframe"
   ]
  },
  {
   "cell_type": "code",
   "execution_count": null,
   "id": "909030e0",
   "metadata": {},
   "outputs": [],
   "source": [
    "# Membuat kolom keterangan klaster pada dataframe\n",
    "df_clusters = pd.concat([df, pd.DataFrame({'cluster':label})], axis=1)\n",
    "df_clusters.head()"
   ]
  },
  {
   "cell_type": "code",
   "execution_count": null,
   "id": "f856f851",
   "metadata": {},
   "outputs": [],
   "source": [
    "df_clusters.columns"
   ]
  },
  {
   "cell_type": "markdown",
   "id": "81553178",
   "metadata": {},
   "source": [
    "### Clusters visualization"
   ]
  },
  {
   "cell_type": "code",
   "execution_count": null,
   "id": "dced5cd0",
   "metadata": {},
   "outputs": [],
   "source": [
    "# Interpretasi klaster yang terbentuk\n",
    "for c in df_clusters:\n",
    "    grid= sns.FacetGrid(df_clusters, col='cluster')\n",
    "    grid.map(plt.hist, c)"
   ]
  },
  {
   "cell_type": "markdown",
   "id": "56a364a3",
   "metadata": {},
   "source": [
    "**Cluster 0 - Saldo dan kredit limit kecil, purchases dan payment sangat kecil**\n",
    "\n",
    "Saldo dibawah 4900. Purchases sangat kecil diantara cluster lain. Credit Limit dibawah 10000. Payments sangat sedikit.\n",
    "\n",
    "**Cluster 1 Saldo medium, purchases rata-rata, credit limit tinggi payment rata-rata**\n",
    "\n",
    "Saldo diatas 5000 dan dibawah 12000. Purchases dibawah 15000, dan dinatara 20000-30000. Credit limit 20000. Payments dibawah 23000.\n",
    "\n",
    "**Cluster 2 Saldo sangat kecil, purchases kecil, kredit limit rata-rata. payment kecil**\n",
    "\n",
    "Saldo sangat kecil. Purchases kecil. Credit limit dibawah 18000. Payments dibawh 12000.\n",
    "\n",
    "**Cluster 3 Saldo paling banyak, purchases tinggi,credit limit paling banyak.payment paling tinggi**\n",
    "\n",
    "Saldo diatas 15000. Purchases dibawah 150000. Credit limit diatas 20000. Payments diatas 20000\n"
   ]
  },
  {
   "cell_type": "markdown",
   "id": "36158088",
   "metadata": {},
   "source": [
    "# Conculsion"
   ]
  },
  {
   "cell_type": "markdown",
   "id": "31d0cbf6",
   "metadata": {},
   "source": [
    "Dari hasil diatas, dapat ditarik kesimpulan bahwa \n",
    "1. Project ini menggunakan penerapan algoritma Unsupervised Learning, yaitu Clustering. Metode Clustering yang akan digunakan yaitu K-Means Clustering dan K-Medoids dan menghasilkan nilai evaluasi sihoutee paling baik oleh k-means clustering.\n",
    "2. Data yang digunakan dalam analisis klaster ini adalah data yang berisi transaksi pengguna kartu kredit sebanyak 9000 orang selama 6 bulan, menggunakan 14 atribut.\n",
    "3. Menghasilkan 4 klaster yaitu:\n",
    "> - cluster 0 Saldo dan kredit limit kecil, purchases dan payment sgt kecil\n",
    "> - cluster 1 saldo medium, purchases dan payment rata-rata. credit limit tinggi\n",
    "> - clsuter 2 saldo sgt kecil purchases dan payment kecil, credit limit rata-rata.\n",
    "> - clutser 3 saldo dan kreidt limit paling banyak, purchases dan payment paling tinggi"
   ]
  },
  {
   "cell_type": "code",
   "execution_count": null,
   "id": "56fe7817",
   "metadata": {},
   "outputs": [],
   "source": []
  }
 ],
 "metadata": {
  "kernelspec": {
   "display_name": "Python 3",
   "language": "python",
   "name": "python3"
  },
  "language_info": {
   "codemirror_mode": {
    "name": "ipython",
    "version": 3
   },
   "file_extension": ".py",
   "mimetype": "text/x-python",
   "name": "python",
   "nbconvert_exporter": "python",
   "pygments_lexer": "ipython3",
   "version": "3.8.8"
  }
 },
 "nbformat": 4,
 "nbformat_minor": 5
}
